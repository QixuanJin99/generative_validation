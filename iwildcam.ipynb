{
 "cells": [
  {
   "cell_type": "code",
   "execution_count": 7,
   "id": "fd16fc32-b8f1-4c2f-8ea8-4dc837defd4c",
   "metadata": {},
   "outputs": [],
   "source": [
    "import torch\n",
    "import os\n",
    "import matplotlib.pyplot as plt\n",
    "import cv2\n",
    "from PIL import Image\n",
    "from tqdm import tqdm \n",
    "import numpy as np\n",
    "import pandas as pd \n",
    "from glob import glob\n",
    "import random\n",
    "import json"
   ]
  },
  {
   "cell_type": "code",
   "execution_count": 2,
   "id": "3a61b308-251e-45ed-be82-4e4ca0377b80",
   "metadata": {},
   "outputs": [],
   "source": [
    "df = pd.read_csv(\"/data/healthy-ml/scratch/qixuanj/generative_validation/ALIA/data/iwildcam_v2.0/train_extra_subset.csv\")"
   ]
  },
  {
   "cell_type": "code",
   "execution_count": 3,
   "id": "f80c380b-578f-4bc6-828a-9ca287f5003b",
   "metadata": {},
   "outputs": [
    {
     "data": {
      "text/html": [
       "<div>\n",
       "<style scoped>\n",
       "    .dataframe tbody tr th:only-of-type {\n",
       "        vertical-align: middle;\n",
       "    }\n",
       "\n",
       "    .dataframe tbody tr th {\n",
       "        vertical-align: top;\n",
       "    }\n",
       "\n",
       "    .dataframe thead th {\n",
       "        text-align: right;\n",
       "    }\n",
       "</style>\n",
       "<table border=\"1\" class=\"dataframe\">\n",
       "  <thead>\n",
       "    <tr style=\"text-align: right;\">\n",
       "      <th></th>\n",
       "      <th>split</th>\n",
       "      <th>location_remapped</th>\n",
       "      <th>location</th>\n",
       "      <th>sequence_remapped</th>\n",
       "      <th>seq_id</th>\n",
       "      <th>y</th>\n",
       "      <th>category_id</th>\n",
       "      <th>datetime</th>\n",
       "      <th>filename</th>\n",
       "      <th>image_id</th>\n",
       "    </tr>\n",
       "  </thead>\n",
       "  <tbody>\n",
       "    <tr>\n",
       "      <th>0</th>\n",
       "      <td>test</td>\n",
       "      <td>24</td>\n",
       "      <td>53</td>\n",
       "      <td>10116</td>\n",
       "      <td>30200b20-7d42-11eb-8fb5-0242ac1c0002</td>\n",
       "      <td>24</td>\n",
       "      <td>71</td>\n",
       "      <td>2015-02-07 10:59:15.000</td>\n",
       "      <td>90b4425e-21bc-11ea-a13a-137349068a90.jpg</td>\n",
       "      <td>90b4425e-21bc-11ea-a13a-137349068a90</td>\n",
       "    </tr>\n",
       "    <tr>\n",
       "      <th>1</th>\n",
       "      <td>test</td>\n",
       "      <td>24</td>\n",
       "      <td>53</td>\n",
       "      <td>10116</td>\n",
       "      <td>30200b20-7d42-11eb-8fb5-0242ac1c0002</td>\n",
       "      <td>24</td>\n",
       "      <td>71</td>\n",
       "      <td>2015-02-07 10:59:16.000</td>\n",
       "      <td>89e6a57a-21bc-11ea-a13a-137349068a90.jpg</td>\n",
       "      <td>89e6a57a-21bc-11ea-a13a-137349068a90</td>\n",
       "    </tr>\n",
       "    <tr>\n",
       "      <th>2</th>\n",
       "      <td>test</td>\n",
       "      <td>24</td>\n",
       "      <td>53</td>\n",
       "      <td>10116</td>\n",
       "      <td>30200b20-7d42-11eb-8fb5-0242ac1c0002</td>\n",
       "      <td>24</td>\n",
       "      <td>71</td>\n",
       "      <td>2015-02-07 10:59:17.000</td>\n",
       "      <td>871db9aa-21bc-11ea-a13a-137349068a90.jpg</td>\n",
       "      <td>871db9aa-21bc-11ea-a13a-137349068a90</td>\n",
       "    </tr>\n",
       "    <tr>\n",
       "      <th>3</th>\n",
       "      <td>test</td>\n",
       "      <td>24</td>\n",
       "      <td>53</td>\n",
       "      <td>10116</td>\n",
       "      <td>30200b20-7d42-11eb-8fb5-0242ac1c0002</td>\n",
       "      <td>24</td>\n",
       "      <td>71</td>\n",
       "      <td>2015-02-07 10:59:37.000</td>\n",
       "      <td>910744cc-21bc-11ea-a13a-137349068a90.jpg</td>\n",
       "      <td>910744cc-21bc-11ea-a13a-137349068a90</td>\n",
       "    </tr>\n",
       "    <tr>\n",
       "      <th>4</th>\n",
       "      <td>test</td>\n",
       "      <td>24</td>\n",
       "      <td>53</td>\n",
       "      <td>10116</td>\n",
       "      <td>30200b20-7d42-11eb-8fb5-0242ac1c0002</td>\n",
       "      <td>24</td>\n",
       "      <td>71</td>\n",
       "      <td>2015-02-07 10:59:38.000</td>\n",
       "      <td>951b2f92-21bc-11ea-a13a-137349068a90.jpg</td>\n",
       "      <td>951b2f92-21bc-11ea-a13a-137349068a90</td>\n",
       "    </tr>\n",
       "    <tr>\n",
       "      <th>...</th>\n",
       "      <td>...</td>\n",
       "      <td>...</td>\n",
       "      <td>...</td>\n",
       "      <td>...</td>\n",
       "      <td>...</td>\n",
       "      <td>...</td>\n",
       "      <td>...</td>\n",
       "      <td>...</td>\n",
       "      <td>...</td>\n",
       "      <td>...</td>\n",
       "    </tr>\n",
       "    <tr>\n",
       "      <th>2219</th>\n",
       "      <td>test</td>\n",
       "      <td>315</td>\n",
       "      <td>540</td>\n",
       "      <td>35393</td>\n",
       "      <td>9904d0ea-21bc-11ea-a13a-137349068a90</td>\n",
       "      <td>24</td>\n",
       "      <td>71</td>\n",
       "      <td>2015-02-03 14:09:02.000</td>\n",
       "      <td>96aa86aa-21bc-11ea-a13a-137349068a90.jpg</td>\n",
       "      <td>96aa86aa-21bc-11ea-a13a-137349068a90</td>\n",
       "    </tr>\n",
       "    <tr>\n",
       "      <th>2220</th>\n",
       "      <td>test</td>\n",
       "      <td>315</td>\n",
       "      <td>540</td>\n",
       "      <td>35393</td>\n",
       "      <td>9904d0ea-21bc-11ea-a13a-137349068a90</td>\n",
       "      <td>24</td>\n",
       "      <td>71</td>\n",
       "      <td>2015-02-03 14:09:03.000</td>\n",
       "      <td>98dc43fa-21bc-11ea-a13a-137349068a90.jpg</td>\n",
       "      <td>98dc43fa-21bc-11ea-a13a-137349068a90</td>\n",
       "    </tr>\n",
       "    <tr>\n",
       "      <th>2221</th>\n",
       "      <td>test</td>\n",
       "      <td>315</td>\n",
       "      <td>540</td>\n",
       "      <td>35393</td>\n",
       "      <td>9904d0ea-21bc-11ea-a13a-137349068a90</td>\n",
       "      <td>24</td>\n",
       "      <td>71</td>\n",
       "      <td>2015-02-03 14:09:33.000</td>\n",
       "      <td>97c17a94-21bc-11ea-a13a-137349068a90.jpg</td>\n",
       "      <td>97c17a94-21bc-11ea-a13a-137349068a90</td>\n",
       "    </tr>\n",
       "    <tr>\n",
       "      <th>2222</th>\n",
       "      <td>test</td>\n",
       "      <td>315</td>\n",
       "      <td>540</td>\n",
       "      <td>35393</td>\n",
       "      <td>9904d0ea-21bc-11ea-a13a-137349068a90</td>\n",
       "      <td>24</td>\n",
       "      <td>71</td>\n",
       "      <td>2015-02-03 14:09:34.000</td>\n",
       "      <td>87f2bb50-21bc-11ea-a13a-137349068a90.jpg</td>\n",
       "      <td>87f2bb50-21bc-11ea-a13a-137349068a90</td>\n",
       "    </tr>\n",
       "    <tr>\n",
       "      <th>2223</th>\n",
       "      <td>test</td>\n",
       "      <td>315</td>\n",
       "      <td>540</td>\n",
       "      <td>35393</td>\n",
       "      <td>9904d0ea-21bc-11ea-a13a-137349068a90</td>\n",
       "      <td>24</td>\n",
       "      <td>71</td>\n",
       "      <td>2015-02-03 14:09:35.000</td>\n",
       "      <td>9904cf64-21bc-11ea-a13a-137349068a90.jpg</td>\n",
       "      <td>9904cf64-21bc-11ea-a13a-137349068a90</td>\n",
       "    </tr>\n",
       "  </tbody>\n",
       "</table>\n",
       "<p>2224 rows × 10 columns</p>\n",
       "</div>"
      ],
      "text/plain": [
       "     split  location_remapped  location  sequence_remapped  \\\n",
       "0     test                 24        53              10116   \n",
       "1     test                 24        53              10116   \n",
       "2     test                 24        53              10116   \n",
       "3     test                 24        53              10116   \n",
       "4     test                 24        53              10116   \n",
       "...    ...                ...       ...                ...   \n",
       "2219  test                315       540              35393   \n",
       "2220  test                315       540              35393   \n",
       "2221  test                315       540              35393   \n",
       "2222  test                315       540              35393   \n",
       "2223  test                315       540              35393   \n",
       "\n",
       "                                    seq_id   y  category_id  \\\n",
       "0     30200b20-7d42-11eb-8fb5-0242ac1c0002  24           71   \n",
       "1     30200b20-7d42-11eb-8fb5-0242ac1c0002  24           71   \n",
       "2     30200b20-7d42-11eb-8fb5-0242ac1c0002  24           71   \n",
       "3     30200b20-7d42-11eb-8fb5-0242ac1c0002  24           71   \n",
       "4     30200b20-7d42-11eb-8fb5-0242ac1c0002  24           71   \n",
       "...                                    ...  ..          ...   \n",
       "2219  9904d0ea-21bc-11ea-a13a-137349068a90  24           71   \n",
       "2220  9904d0ea-21bc-11ea-a13a-137349068a90  24           71   \n",
       "2221  9904d0ea-21bc-11ea-a13a-137349068a90  24           71   \n",
       "2222  9904d0ea-21bc-11ea-a13a-137349068a90  24           71   \n",
       "2223  9904d0ea-21bc-11ea-a13a-137349068a90  24           71   \n",
       "\n",
       "                     datetime                                  filename  \\\n",
       "0     2015-02-07 10:59:15.000  90b4425e-21bc-11ea-a13a-137349068a90.jpg   \n",
       "1     2015-02-07 10:59:16.000  89e6a57a-21bc-11ea-a13a-137349068a90.jpg   \n",
       "2     2015-02-07 10:59:17.000  871db9aa-21bc-11ea-a13a-137349068a90.jpg   \n",
       "3     2015-02-07 10:59:37.000  910744cc-21bc-11ea-a13a-137349068a90.jpg   \n",
       "4     2015-02-07 10:59:38.000  951b2f92-21bc-11ea-a13a-137349068a90.jpg   \n",
       "...                       ...                                       ...   \n",
       "2219  2015-02-03 14:09:02.000  96aa86aa-21bc-11ea-a13a-137349068a90.jpg   \n",
       "2220  2015-02-03 14:09:03.000  98dc43fa-21bc-11ea-a13a-137349068a90.jpg   \n",
       "2221  2015-02-03 14:09:33.000  97c17a94-21bc-11ea-a13a-137349068a90.jpg   \n",
       "2222  2015-02-03 14:09:34.000  87f2bb50-21bc-11ea-a13a-137349068a90.jpg   \n",
       "2223  2015-02-03 14:09:35.000  9904cf64-21bc-11ea-a13a-137349068a90.jpg   \n",
       "\n",
       "                                  image_id  \n",
       "0     90b4425e-21bc-11ea-a13a-137349068a90  \n",
       "1     89e6a57a-21bc-11ea-a13a-137349068a90  \n",
       "2     871db9aa-21bc-11ea-a13a-137349068a90  \n",
       "3     910744cc-21bc-11ea-a13a-137349068a90  \n",
       "4     951b2f92-21bc-11ea-a13a-137349068a90  \n",
       "...                                    ...  \n",
       "2219  96aa86aa-21bc-11ea-a13a-137349068a90  \n",
       "2220  98dc43fa-21bc-11ea-a13a-137349068a90  \n",
       "2221  97c17a94-21bc-11ea-a13a-137349068a90  \n",
       "2222  87f2bb50-21bc-11ea-a13a-137349068a90  \n",
       "2223  9904cf64-21bc-11ea-a13a-137349068a90  \n",
       "\n",
       "[2224 rows x 10 columns]"
      ]
     },
     "execution_count": 3,
     "metadata": {},
     "output_type": "execute_result"
    }
   ],
   "source": [
    "df"
   ]
  },
  {
   "cell_type": "code",
   "execution_count": 11,
   "id": "9195729c-136e-42c0-a123-f5c95f3e8ec9",
   "metadata": {},
   "outputs": [],
   "source": [
    "with open(\"/mnt/scratch-lids/scratch/qixuanj/iwildcam/iwildcam2020_train_annotations.json\", \"r\") as f: \n",
    "    train_data = json.load(f)"
   ]
  },
  {
   "cell_type": "code",
   "execution_count": 13,
   "id": "454c2c1e-0db9-4ca3-8097-b65ed69b913d",
   "metadata": {},
   "outputs": [],
   "source": [
    "with open(\"/mnt/scratch-lids/scratch/qixuanj/iwildcam/iwildcam2020_test_information.json\", \"r\") as f: \n",
    "    test_data = json.load(f)"
   ]
  },
  {
   "cell_type": "code",
   "execution_count": 15,
   "id": "bfaceffa-6ccf-492d-a85a-422377a32930",
   "metadata": {},
   "outputs": [
    {
     "data": {
      "text/plain": [
       "dict_keys(['annotations', 'images', 'categories', 'info'])"
      ]
     },
     "execution_count": 15,
     "metadata": {},
     "output_type": "execute_result"
    }
   ],
   "source": [
    "train_data.keys()"
   ]
  },
  {
   "cell_type": "code",
   "execution_count": 17,
   "id": "31e18b65-c180-41c3-986f-05aecf9451f6",
   "metadata": {},
   "outputs": [
    {
     "data": {
      "text/plain": [
       "{'count': 1,\n",
       " 'image_id': '96b00332-21bc-11ea-a13a-137349068a90',\n",
       " 'id': 'a292dd3c-21bc-11ea-a13a-137349068a90',\n",
       " 'category_id': 73}"
      ]
     },
     "execution_count": 17,
     "metadata": {},
     "output_type": "execute_result"
    }
   ],
   "source": [
    "train_data['annotations'][0]"
   ]
  },
  {
   "cell_type": "code",
   "execution_count": 18,
   "id": "ae3df05d-5482-4e84-bcaa-813edf8d5124",
   "metadata": {},
   "outputs": [
    {
     "data": {
      "text/plain": [
       "{'seq_num_frames': 1,\n",
       " 'location': 267,\n",
       " 'datetime': '2013-08-08 11:45:00.000',\n",
       " 'id': '96b00332-21bc-11ea-a13a-137349068a90',\n",
       " 'frame_num': 1,\n",
       " 'seq_id': '96b004ea-21bc-11ea-a13a-137349068a90',\n",
       " 'width': 1795,\n",
       " 'height': 1222,\n",
       " 'file_name': '96b00332-21bc-11ea-a13a-137349068a90.jpg'}"
      ]
     },
     "execution_count": 18,
     "metadata": {},
     "output_type": "execute_result"
    }
   ],
   "source": [
    "train_data['images'][0]"
   ]
  },
  {
   "cell_type": "code",
   "execution_count": 19,
   "id": "8cda663a-7788-441b-80bf-443059ba567f",
   "metadata": {},
   "outputs": [
    {
     "data": {
      "text/plain": [
       "{'count': 78981, 'id': 0, 'name': 'empty'}"
      ]
     },
     "execution_count": 19,
     "metadata": {},
     "output_type": "execute_result"
    }
   ],
   "source": [
    "train_data['categories'][0]"
   ]
  },
  {
   "cell_type": "code",
   "execution_count": 22,
   "id": "795b43e5-83d2-47a5-8ac3-7f84f9e06057",
   "metadata": {},
   "outputs": [
    {
     "data": {
      "text/plain": [
       "dict_keys(['images', 'categories', 'info'])"
      ]
     },
     "execution_count": 22,
     "metadata": {},
     "output_type": "execute_result"
    }
   ],
   "source": [
    "test_data.keys()"
   ]
  },
  {
   "cell_type": "code",
   "execution_count": 23,
   "id": "92336dbb-9dee-491a-9524-3770add2455b",
   "metadata": {},
   "outputs": [
    {
     "data": {
      "text/plain": [
       "{'seq_num_frames': 1,\n",
       " 'location': 84,\n",
       " 'datetime': '2013-08-02 21:44:00.000',\n",
       " 'id': '88037cce-21bc-11ea-a13a-137349068a90',\n",
       " 'frame_num': 1,\n",
       " 'seq_id': '88037e90-21bc-11ea-a13a-137349068a90',\n",
       " 'width': 2771,\n",
       " 'height': 1779,\n",
       " 'file_name': '88037cce-21bc-11ea-a13a-137349068a90.jpg'}"
      ]
     },
     "execution_count": 23,
     "metadata": {},
     "output_type": "execute_result"
    }
   ],
   "source": [
    "test_data['images'][0]"
   ]
  },
  {
   "cell_type": "code",
   "execution_count": 42,
   "id": "e70544b1-e185-4542-bbcb-4c378ed132f5",
   "metadata": {},
   "outputs": [],
   "source": [
    "# seq_id is not unique, file_name is \n",
    "all_train_seq_ids = []\n",
    "for i in range(len(train_data['images'])): \n",
    "    all_train_seq_ids.append(train_data['images'][i]['file_name'])"
   ]
  },
  {
   "cell_type": "code",
   "execution_count": 43,
   "id": "aa72c908-3495-42a8-b710-9e804fc83d23",
   "metadata": {},
   "outputs": [
    {
     "name": "stdout",
     "output_type": "stream",
     "text": [
      "217959\n",
      "217959\n"
     ]
    }
   ],
   "source": [
    "print(len(all_train_seq_ids))\n",
    "all_train_seq_ids = np.unique(np.array(all_train_seq_ids))\n",
    "print(len(all_train_seq_ids))"
   ]
  },
  {
   "cell_type": "code",
   "execution_count": 46,
   "id": "d49eb170-93dd-4d7d-96ca-267d1d27130c",
   "metadata": {},
   "outputs": [],
   "source": [
    "all_train_seq_ids = [x.split('.')[0] for x in all_train_seq_ids]"
   ]
  },
  {
   "cell_type": "code",
   "execution_count": 51,
   "id": "51fd7d6e-bf2d-4c49-b858-06a6add2b8b9",
   "metadata": {},
   "outputs": [
    {
     "name": "stdout",
     "output_type": "stream",
     "text": [
      "train_subset.csv\n",
      "6052\n",
      "6052\n",
      "train_extra_subset.csv\n",
      "2224\n",
      "2224\n",
      "val_subset.csv\n",
      "2826\n",
      "2826\n",
      "test_subset.csv\n",
      "8483\n",
      "8483\n"
     ]
    }
   ],
   "source": [
    "# Check if subset is in downloaded dataset -> yes to all \n",
    "files = [\"train_subset.csv\", \"train_extra_subset.csv\", \"val_subset.csv\", \"test_subset.csv\",]\n",
    "for file in files:\n",
    "    df = pd.read_csv(f\"/data/healthy-ml/scratch/qixuanj/generative_validation/ALIA/data/iwildcam_v2.0/{file}\")\n",
    "    shared = np.intersect1d(df['image_id'].values, np.array(all_train_seq_ids))\n",
    "    print(file)\n",
    "    print(len(df['image_id'].unique()))\n",
    "    print(len(shared))"
   ]
  },
  {
   "cell_type": "code",
   "execution_count": 52,
   "id": "2a894ace-da26-4928-bc55-df6718eaf4dc",
   "metadata": {},
   "outputs": [
    {
     "name": "stderr",
     "output_type": "stream",
     "text": [
      "/data/healthy-ml/scratch/qixuanj/anaconda3/envs/control/lib/python3.8/site-packages/tqdm/auto.py:21: TqdmWarning: IProgress not found. Please update jupyter and ipywidgets. See https://ipywidgets.readthedocs.io/en/stable/user_install.html\n",
      "  from .autonotebook import tqdm as notebook_tqdm\n"
     ]
    }
   ],
   "source": [
    "from wilds.common.metrics.all_metrics import Accuracy, Recall, F1"
   ]
  },
  {
   "cell_type": "code",
   "execution_count": 53,
   "id": "135bcff0-5b06-4b20-aac6-8661f6094c3e",
   "metadata": {},
   "outputs": [],
   "source": [
    "from collections import Counter\n",
    "import wilds"
   ]
  },
  {
   "cell_type": "code",
   "execution_count": 55,
   "id": "858db580-2fdc-4335-b92f-59c8ed002f97",
   "metadata": {},
   "outputs": [],
   "source": [
    "def get_counts(labels):\n",
    "    values, counts = np.unique(labels, return_counts=True)\n",
    "    sorted_tuples = zip(*sorted(zip(values, counts))) # this just ensures we are getting the counts in the sorted order of the keys\n",
    "    values, counts = [ list(tuple) for tuple in  sorted_tuples]\n",
    "    fracs   = 1 / torch.Tensor(counts)\n",
    "    return fracs / torch.max(fracs)\n",
    "\n",
    "class Wilds:\n",
    "    \"\"\"\n",
    "    Wrapper for the WILDS dataset.\n",
    "    \"\"\"\n",
    "    def __init__(self, root=\"/work/datasets\", split='train', transform=None):\n",
    "        self.dataset = wilds.get_dataset(dataset=\"iwildcam\", root_dir=root)#, download=True)\n",
    "        self.split_dataset = self.dataset.get_subset(split, transform=transform)\n",
    "        self._metadata_fields = self.split_dataset.metadata_fields\n",
    "        self.classes = list(range(self.split_dataset.n_classes))\n",
    "        self.df = pd.DataFrame(self.split_dataset.metadata_array.numpy(), columns=self.split_dataset.metadata_fields)\n",
    "        self.groups = self.df.location.values\n",
    "        self.labels = self.targets = self.df.y.values\n",
    "        self.class_weights = get_counts(self.labels)\n",
    "        self.samples = [(i, l) for (i, l) in zip(self.df.sequence.values, self.labels)]\n",
    "        # self.locations = [m[0] for m in self.split_dataset._metadata_array]\n",
    "        # location = LOCATION_MAP_INV[1] if split == 'test' else LOCATION_MAP_INV[0]\n",
    "        # self.location_idxs = np.where(np.array(self.locations) == location)[0]\n",
    "        # self.groups = [location for _ in range(len(self.location_idxs))]\n",
    "\n",
    "    def __len__(self):\n",
    "        return len(self.split_dataset)\n",
    "\n",
    "    def __getitem__(self, idx):\n",
    "        # map the idx to the location idx (filter out all other locations)\n",
    "        # idx = self.location_idxs[idx]\n",
    "        img, label, metadata = self.split_dataset[idx]\n",
    "        return img, label, self.groups[idx]\n",
    "\n",
    "class WILDS:\n",
    "    \"\"\"\n",
    "    Specific subset of WILDS containing 6 classes and 2 test locations.\n",
    "    \"\"\"\n",
    "    def __init__(self, root='/mnt/scratch-lids/scratch/qixuanj/iwildcam/train', split='train', transform=None):\n",
    "        self.root = root\n",
    "        self.df = pd.read_csv(f'/data/healthy-ml/scratch/qixuanj/generative_validation/ALIA/data/iwildcam_v2.0/{split}_subset.csv')\n",
    "        self.transform = transform\n",
    "        self.class_names = sorted(self.df.y.unique())\n",
    "        self.label_map = {j:i for i, j in enumerate(self.class_names)}\n",
    "        self.labels = [self.label_map[i] for i in self.df.y]\n",
    "        self.samples = [(os.path.join(root, i), l) for (i, l) in zip(self.df.filename, self.labels)]\n",
    "        self.targets = [l for _, l in self.samples]\n",
    "        self.classes = list(sorted(self.df.y.unique()))\n",
    "        self.locations = self.df.location_remapped.unique()\n",
    "        self.location_map = {j:i for i, j in enumerate(self.locations)}\n",
    "        self.location_labels = [self.location_map[i] for i in self.df.location_remapped]\n",
    "        self.groups = self.location_labels\n",
    "        self.class_weights = get_counts(self.labels)\n",
    "        self.group_names = self.locations\n",
    "        self.class_names = ['background', 'cattle', 'elephants', 'impalas', 'zebras', 'giraffes', 'dik-diks']\n",
    "        print(f\"Num samples per class {Counter(self.labels)}\")\n",
    "\n",
    "    def __len__(self):\n",
    "        return len(self.samples)\n",
    "\n",
    "    def __getitem__(self, idx):\n",
    "        img_path, label = self.samples[idx]\n",
    "        img = Image.open(img_path)\n",
    "        if self.transform:\n",
    "            img = self.transform(img)\n",
    "        location = self.location_labels[idx]\n",
    "        return img, label, location\n",
    "\n",
    "    def inspect_location(self, location):\n",
    "        assert location in self.locations\n",
    "        location_df = self.df[self.df.location_remapped == location]\n",
    "        fig, axs = plt.subplots(1, 2, figsize=(20, 10))\n",
    "        idx = np.random.choice(list(range(len(location_df))))\n",
    "        location_df['y'].value_counts().plot(kind='bar', ax=axs[0])\n",
    "        axs[0].set_title(f'Location {location} (n={len(location_df)}) class counts')\n",
    "        axs[1].imshow(Image.open(os.path.join(self.root, location_df.iloc[idx].filename)))\n",
    "        axs[1].set_title(f'Location {location} (n={len(location_df)}) class {location_df.iloc[idx].y} (idx={idx})')\n",
    "        axs[1].axis('off')\n",
    "        plt.show()\n",
    "\n",
    "    def inspect_class(self, class_idx):\n",
    "        assert class_idx in self.classes\n",
    "        class_df = self.df[self.df.y == class_idx]\n",
    "        fig, axs = plt.subplots(1, 2, figsize=(20, 10))\n",
    "        idx = np.random.choice(list(range(len(class_df))))\n",
    "        class_df['location_remapped'].value_counts().plot(kind='bar', ax=axs[0])\n",
    "        axs[0].set_title(f'Class {class_idx} (n={len(class_df)}) location counts')\n",
    "        axs[1].imshow(Image.open(os.path.join(self.root, class_df.iloc[idx].filename)))\n",
    "        axs[1].set_title(f'Class {class_idx} (n={len(class_df)}) location {class_df.iloc[idx].location_remapped} (idx={idx}) ({class_df.iloc[idx].filename})')\n",
    "        axs[1].axis('off')\n",
    "        plt.show()\n",
    "\n",
    "    @staticmethod\n",
    "    def eval(y_pred, y_true, prediction_fn=None):\n",
    "        \"\"\"\n",
    "        Computes all evaluation metrics.\n",
    "        Args:\n",
    "            - y_pred (Tensor): Predictions from a model. By default, they are predicted labels (LongTensor).\n",
    "                               But they can also be other model outputs such that prediction_fn(y_pred)\n",
    "                               are predicted labels.\n",
    "            - y_true (LongTensor): Ground-truth labels\n",
    "            - metadata (Tensor): Metadata\n",
    "            - prediction_fn (function): A function that turns y_pred into predicted labels\n",
    "        Output:\n",
    "            - results (dictionary): Dictionary of evaluation metrics\n",
    "            - results_str (str): String summarizing the evaluation metrics\n",
    "        \"\"\"\n",
    "        metrics = [\n",
    "            Accuracy(prediction_fn=prediction_fn),\n",
    "            Recall(prediction_fn=prediction_fn, average='macro'),\n",
    "            F1(prediction_fn=prediction_fn, average='macro'),\n",
    "        ]\n",
    "\n",
    "        results = {}\n",
    "\n",
    "        for i in range(len(metrics)):\n",
    "            results.update({\n",
    "                **metrics[i].compute(y_pred, y_true),\n",
    "                        })\n",
    "\n",
    "        results_str = (\n",
    "            f\"Average acc: {results[metrics[0].agg_metric_field]:.3f}\\n\"\n",
    "            f\"Recall macro: {results[metrics[1].agg_metric_field]:.3f}\\n\"\n",
    "            f\"F1 macro: {results[metrics[2].agg_metric_field]:.3f}\\n\"\n",
    "        )\n",
    "\n",
    "        return results, results_str"
   ]
  },
  {
   "cell_type": "code",
   "execution_count": 58,
   "id": "1f42044b-8fd8-4a4f-ac49-a34f759d6f18",
   "metadata": {},
   "outputs": [
    {
     "name": "stdout",
     "output_type": "stream",
     "text": [
      "Num samples per class Counter({0: 2210, 3: 981, 1: 801, 4: 720, 6: 514, 5: 460, 2: 366})\n",
      "Num samples per class Counter({3: 625, 1: 506, 6: 468, 0: 402, 2: 91, 4: 85, 5: 47})\n",
      "Num samples per class Counter({0: 2006, 6: 244, 1: 206, 3: 140, 4: 119, 5: 58, 2: 53})\n",
      "Num samples per class Counter({3: 4533, 2: 2003, 1: 1416, 6: 213, 4: 144, 0: 127, 5: 47})\n"
     ]
    }
   ],
   "source": [
    "train_ds = WILDS(split=\"train\")\n",
    "train_extra_ds = WILDS(split=\"train_extra\")\n",
    "val_ds = WILDS(split=\"val\")\n",
    "test_ds = WILDS(split=\"test\")"
   ]
  },
  {
   "cell_type": "code",
   "execution_count": 57,
   "id": "ee15f0cb-7a4e-4eaa-8fc7-8e5a9a986c08",
   "metadata": {},
   "outputs": [
    {
     "data": {
      "text/plain": [
       "6052"
      ]
     },
     "execution_count": 57,
     "metadata": {},
     "output_type": "execute_result"
    }
   ],
   "source": []
  },
  {
   "cell_type": "code",
   "execution_count": null,
   "id": "54b250e6-4bc2-48a4-b94e-1b21ef11e8bc",
   "metadata": {},
   "outputs": [],
   "source": []
  }
 ],
 "metadata": {
  "kernelspec": {
   "display_name": "Python 3 (ipykernel)",
   "language": "python",
   "name": "python3"
  },
  "language_info": {
   "codemirror_mode": {
    "name": "ipython",
    "version": 3
   },
   "file_extension": ".py",
   "mimetype": "text/x-python",
   "name": "python",
   "nbconvert_exporter": "python",
   "pygments_lexer": "ipython3",
   "version": "3.8.5"
  }
 },
 "nbformat": 4,
 "nbformat_minor": 5
}
