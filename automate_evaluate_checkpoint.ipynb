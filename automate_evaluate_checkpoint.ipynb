{
 "cells": [
  {
   "cell_type": "code",
   "execution_count": 24,
   "id": "4de20758-1b52-457d-a845-20000109f4e5",
   "metadata": {},
   "outputs": [],
   "source": [
    "import numpy as np\n",
    "import matplotlib.pyplot as plt\n",
    "import pandas as pd\n",
    "import torch\n",
    "from PIL import Image\n",
    "import pickle \n",
    "import cv2\n",
    "import torchxrayvision as xrv\n",
    "import skimage, torch, torchvision\n",
    "from tqdm import tqdm\n",
    "from torchvision.transforms import v2\n",
    "import os"
   ]
  },
  {
   "cell_type": "code",
   "execution_count": 2,
   "id": "b817a1b3-3ece-4446-98c8-59311cddc43c",
   "metadata": {},
   "outputs": [],
   "source": [
    "from sklearn.metrics import roc_auc_score, accuracy_score"
   ]
  },
  {
   "cell_type": "code",
   "execution_count": 3,
   "id": "09712cfd-878e-4ec0-b65d-803f8a6565e2",
   "metadata": {},
   "outputs": [],
   "source": [
    "def get_devices(gpus):\n",
    "    if len(gpus) == 0:\n",
    "        device_ids = None\n",
    "        device = torch.device('cpu')\n",
    "        print('Warning! Computing on CPU')\n",
    "    elif len(gpus) == 1:\n",
    "        device_ids = None\n",
    "        device = torch.device('cuda:' + str(gpus[0]))\n",
    "    else:\n",
    "        device_ids = [int(i) for i in gpus]\n",
    "        device = torch.device('cuda:' + str(min(device_ids)))\n",
    "    return device, device_ids\n",
    "\n",
    "device, device_ids = get_devices([0])"
   ]
  },
  {
   "cell_type": "markdown",
   "id": "caefa157-76d8-4abb-9a59-9c5f7d28f0c8",
   "metadata": {
    "jp-MarkdownHeadingCollapsed": true
   },
   "source": [
    "# CXR Disease Classifier based evaluation"
   ]
  },
  {
   "cell_type": "code",
   "execution_count": 281,
   "id": "57033e0a-a8c8-43ee-98ba-f52431f6421e",
   "metadata": {},
   "outputs": [],
   "source": [
    "pathologies = np.array([\"Atelectasis\", \"Cardiomegaly\", \"Consolidation\", \"Edema\", \n",
    "               \"Lesion\", \"Pneumonia\", \"Pneumothorax\", \"No Finding\"])"
   ]
  },
  {
   "cell_type": "code",
   "execution_count": 282,
   "id": "3d1acd9d-8e40-47cb-ab08-c1ec34f1835a",
   "metadata": {},
   "outputs": [],
   "source": [
    "output_mapping = {\n",
    "    \"mimic\": [0, 10, 1, 4, 14, 8, 3], \n",
    "    \"chexpert\": [0, 10, 1, 4, 14, 8, 3], \n",
    "    \"padchest\": [0, 10, 1, 4, 8, 3], \n",
    "    \"nih\": [0, 10, 1, 4, 8, 3], \n",
    "    \"all\": [0, 10, 1, 4, 14, 8, 3],\n",
    "}\n",
    "\n",
    "def convert_output(model_name, outputs): \n",
    "    new_outputs = outputs[:, output_mapping[model_name]]\n",
    "\n",
    "    if model_name == \"padchest\" or model_name == \"nih\": \n",
    "        lesion = torch.max(outputs[:, 11], outputs[:, 12])\n",
    "        new_outputs = torch.hstack((new_outputs[:, :4], lesion.unsqueeze(1), new_outputs[:, 4:]))\n",
    "\n",
    "    # Append \"No Findings\" output as last column \n",
    "    no_finding_output = outputs[:, [i for i, x in enumerate(model.pathologies) if x != '']]\n",
    "    # Max probability over all class with positive finding, then take the inverse \n",
    "    no_finding = 1. - no_finding_output.max(axis=1)[0]\n",
    "    new_outputs = torch.hstack((new_outputs, no_finding.unsqueeze(1)))\n",
    "    return new_outputs"
   ]
  },
  {
   "cell_type": "code",
   "execution_count": 283,
   "id": "cfe6a60e-9b82-4601-98a6-7ee6802cb90a",
   "metadata": {},
   "outputs": [
    {
     "data": {
      "text/plain": [
       "XRV-DenseNet121-densenet121-res224-all"
      ]
     },
     "execution_count": 283,
     "metadata": {},
     "output_type": "execute_result"
    }
   ],
   "source": [
    "model = xrv.models.DenseNet(weights=\"densenet121-res224-all\")\n",
    "model.eval()"
   ]
  },
  {
   "cell_type": "code",
   "execution_count": 7,
   "id": "122d9ca1-d90a-4948-9477-ebac645e13e0",
   "metadata": {},
   "outputs": [],
   "source": [
    "from diffusers import DiffusionPipeline, UNet2DConditionModel"
   ]
  },
  {
   "cell_type": "code",
   "execution_count": 8,
   "id": "add810c3-1c64-4f97-ad2b-e1be9feb414f",
   "metadata": {},
   "outputs": [
    {
     "name": "stdout",
     "output_type": "stream",
     "text": [
      "Setting XRayResizer engine to cv2 could increase performance.\n"
     ]
    }
   ],
   "source": [
    "transform = torchvision.transforms.Compose([xrv.datasets.XRayCenterCrop(),\n",
    "                                            xrv.datasets.XRayResizer(512), \n",
    "                                           torchvision.transforms.ToTensor()])"
   ]
  },
  {
   "cell_type": "code",
   "execution_count": 111,
   "id": "1cf07adb-ac42-4714-a76a-fd747cc2c22b",
   "metadata": {
    "scrolled": true
   },
   "outputs": [
    {
     "name": "stdout",
     "output_type": "stream",
     "text": [
      "checkpoint 500\n"
     ]
    },
    {
     "name": "stderr",
     "output_type": "stream",
     "text": [
      "Keyword arguments {'dtype': torch.float16} are not expected by StableDiffusionPipeline and will be ignored.\n",
      "Loading pipeline components...: 100%|█████████████████████████████████████████████████████████████████████████████| 7/7 [00:01<00:00,  6.48it/s]\n",
      "100%|███████████████████████████████████████████████████████████████████████████████████████████████████████████| 50/50 [00:33<00:00,  1.51it/s]\n",
      "100%|███████████████████████████████████████████████████████████████████████████████████████████████████████████| 50/50 [00:33<00:00,  1.49it/s]\n",
      "100%|███████████████████████████████████████████████████████████████████████████████████████████████████████████| 50/50 [00:33<00:00,  1.48it/s]\n",
      "100%|███████████████████████████████████████████████████████████████████████████████████████████████████████████| 50/50 [00:33<00:00,  1.47it/s]\n",
      "100%|███████████████████████████████████████████████████████████████████████████████████████████████████████████| 50/50 [00:34<00:00,  1.47it/s]\n",
      "100%|███████████████████████████████████████████████████████████████████████████████████████████████████████████| 50/50 [00:34<00:00,  1.47it/s]\n",
      "100%|███████████████████████████████████████████████████████████████████████████████████████████████████████████| 50/50 [00:34<00:00,  1.47it/s]\n",
      "100%|███████████████████████████████████████████████████████████████████████████████████████████████████████████| 50/50 [00:34<00:00,  1.47it/s]\n"
     ]
    },
    {
     "name": "stdout",
     "output_type": "stream",
     "text": [
      "checkpoint 1000\n"
     ]
    },
    {
     "name": "stderr",
     "output_type": "stream",
     "text": [
      "Keyword arguments {'dtype': torch.float16} are not expected by StableDiffusionPipeline and will be ignored.\n",
      "Loading pipeline components...: 100%|█████████████████████████████████████████████████████████████████████████████| 7/7 [00:00<00:00,  9.59it/s]\n",
      "100%|███████████████████████████████████████████████████████████████████████████████████████████████████████████| 50/50 [00:34<00:00,  1.47it/s]\n",
      "100%|███████████████████████████████████████████████████████████████████████████████████████████████████████████| 50/50 [00:34<00:00,  1.47it/s]\n",
      "100%|███████████████████████████████████████████████████████████████████████████████████████████████████████████| 50/50 [00:34<00:00,  1.47it/s]\n",
      "100%|███████████████████████████████████████████████████████████████████████████████████████████████████████████| 50/50 [00:34<00:00,  1.47it/s]\n",
      "100%|███████████████████████████████████████████████████████████████████████████████████████████████████████████| 50/50 [00:34<00:00,  1.47it/s]\n",
      "100%|███████████████████████████████████████████████████████████████████████████████████████████████████████████| 50/50 [00:34<00:00,  1.47it/s]\n",
      "100%|███████████████████████████████████████████████████████████████████████████████████████████████████████████| 50/50 [00:34<00:00,  1.47it/s]\n",
      "100%|███████████████████████████████████████████████████████████████████████████████████████████████████████████| 50/50 [00:34<00:00,  1.47it/s]\n"
     ]
    },
    {
     "name": "stdout",
     "output_type": "stream",
     "text": [
      "checkpoint 1500\n"
     ]
    },
    {
     "name": "stderr",
     "output_type": "stream",
     "text": [
      "Keyword arguments {'dtype': torch.float16} are not expected by StableDiffusionPipeline and will be ignored.\n",
      "Loading pipeline components...: 100%|█████████████████████████████████████████████████████████████████████████████| 7/7 [00:00<00:00,  9.49it/s]\n",
      "100%|███████████████████████████████████████████████████████████████████████████████████████████████████████████| 50/50 [00:46<00:00,  1.06it/s]\n",
      "100%|███████████████████████████████████████████████████████████████████████████████████████████████████████████| 50/50 [01:14<00:00,  1.49s/it]\n",
      "100%|███████████████████████████████████████████████████████████████████████████████████████████████████████████| 50/50 [01:00<00:00,  1.21s/it]\n",
      "100%|███████████████████████████████████████████████████████████████████████████████████████████████████████████| 50/50 [00:34<00:00,  1.47it/s]\n",
      "100%|███████████████████████████████████████████████████████████████████████████████████████████████████████████| 50/50 [00:34<00:00,  1.47it/s]\n",
      "100%|███████████████████████████████████████████████████████████████████████████████████████████████████████████| 50/50 [00:34<00:00,  1.47it/s]\n",
      "100%|███████████████████████████████████████████████████████████████████████████████████████████████████████████| 50/50 [00:34<00:00,  1.47it/s]\n",
      "100%|███████████████████████████████████████████████████████████████████████████████████████████████████████████| 50/50 [00:34<00:00,  1.47it/s]\n"
     ]
    },
    {
     "name": "stdout",
     "output_type": "stream",
     "text": [
      "checkpoint 2000\n"
     ]
    },
    {
     "name": "stderr",
     "output_type": "stream",
     "text": [
      "Keyword arguments {'dtype': torch.float16} are not expected by StableDiffusionPipeline and will be ignored.\n",
      "Loading pipeline components...: 100%|█████████████████████████████████████████████████████████████████████████████| 7/7 [00:00<00:00,  9.36it/s]\n",
      "100%|███████████████████████████████████████████████████████████████████████████████████████████████████████████| 50/50 [00:33<00:00,  1.50it/s]\n",
      "Potential NSFW content was detected in one or more images. A black image will be returned instead. Try again with a different prompt and/or seed.\n",
      "100%|███████████████████████████████████████████████████████████████████████████████████████████████████████████| 50/50 [01:05<00:00,  1.30s/it]\n",
      "100%|███████████████████████████████████████████████████████████████████████████████████████████████████████████| 50/50 [01:14<00:00,  1.49s/it]\n",
      "100%|███████████████████████████████████████████████████████████████████████████████████████████████████████████| 50/50 [00:42<00:00,  1.18it/s]\n",
      "100%|███████████████████████████████████████████████████████████████████████████████████████████████████████████| 50/50 [00:34<00:00,  1.47it/s]\n",
      "100%|███████████████████████████████████████████████████████████████████████████████████████████████████████████| 50/50 [00:34<00:00,  1.47it/s]\n",
      "100%|███████████████████████████████████████████████████████████████████████████████████████████████████████████| 50/50 [00:34<00:00,  1.47it/s]\n",
      "100%|███████████████████████████████████████████████████████████████████████████████████████████████████████████| 50/50 [00:34<00:00,  1.47it/s]\n"
     ]
    },
    {
     "name": "stdout",
     "output_type": "stream",
     "text": [
      "checkpoint 2500\n"
     ]
    },
    {
     "name": "stderr",
     "output_type": "stream",
     "text": [
      "Keyword arguments {'dtype': torch.float16} are not expected by StableDiffusionPipeline and will be ignored.\n",
      "Loading pipeline components...: 100%|█████████████████████████████████████████████████████████████████████████████| 7/7 [00:00<00:00,  9.48it/s]\n",
      "100%|███████████████████████████████████████████████████████████████████████████████████████████████████████████| 50/50 [00:33<00:00,  1.50it/s]\n",
      "100%|███████████████████████████████████████████████████████████████████████████████████████████████████████████| 50/50 [00:33<00:00,  1.48it/s]\n",
      "100%|███████████████████████████████████████████████████████████████████████████████████████████████████████████| 50/50 [00:33<00:00,  1.48it/s]\n",
      "100%|███████████████████████████████████████████████████████████████████████████████████████████████████████████| 50/50 [00:33<00:00,  1.47it/s]\n",
      "100%|███████████████████████████████████████████████████████████████████████████████████████████████████████████| 50/50 [00:34<00:00,  1.47it/s]\n",
      "Potential NSFW content was detected in one or more images. A black image will be returned instead. Try again with a different prompt and/or seed.\n",
      "100%|███████████████████████████████████████████████████████████████████████████████████████████████████████████| 50/50 [00:35<00:00,  1.39it/s]\n",
      "100%|███████████████████████████████████████████████████████████████████████████████████████████████████████████| 50/50 [01:14<00:00,  1.49s/it]\n",
      "100%|███████████████████████████████████████████████████████████████████████████████████████████████████████████| 50/50 [01:12<00:00,  1.45s/it]\n"
     ]
    },
    {
     "name": "stdout",
     "output_type": "stream",
     "text": [
      "checkpoint 3000\n"
     ]
    },
    {
     "name": "stderr",
     "output_type": "stream",
     "text": [
      "Keyword arguments {'dtype': torch.float16} are not expected by StableDiffusionPipeline and will be ignored.\n",
      "Loading pipeline components...: 100%|█████████████████████████████████████████████████████████████████████████████| 7/7 [00:00<00:00,  9.42it/s]\n",
      "100%|███████████████████████████████████████████████████████████████████████████████████████████████████████████| 50/50 [01:07<00:00,  1.35s/it]\n",
      "100%|███████████████████████████████████████████████████████████████████████████████████████████████████████████| 50/50 [01:14<00:00,  1.49s/it]\n",
      "100%|███████████████████████████████████████████████████████████████████████████████████████████████████████████| 50/50 [01:06<00:00,  1.34s/it]\n",
      "100%|███████████████████████████████████████████████████████████████████████████████████████████████████████████| 50/50 [01:14<00:00,  1.49s/it]\n",
      "100%|███████████████████████████████████████████████████████████████████████████████████████████████████████████| 50/50 [00:59<00:00,  1.19s/it]\n",
      "Potential NSFW content was detected in one or more images. A black image will be returned instead. Try again with a different prompt and/or seed.\n",
      "100%|███████████████████████████████████████████████████████████████████████████████████████████████████████████| 50/50 [01:14<00:00,  1.50s/it]\n",
      "Potential NSFW content was detected in one or more images. A black image will be returned instead. Try again with a different prompt and/or seed.\n",
      "100%|███████████████████████████████████████████████████████████████████████████████████████████████████████████| 50/50 [01:05<00:00,  1.30s/it]\n",
      "100%|███████████████████████████████████████████████████████████████████████████████████████████████████████████| 50/50 [01:14<00:00,  1.50s/it]\n"
     ]
    },
    {
     "name": "stdout",
     "output_type": "stream",
     "text": [
      "checkpoint 3500\n"
     ]
    },
    {
     "name": "stderr",
     "output_type": "stream",
     "text": [
      "Keyword arguments {'dtype': torch.float16} are not expected by StableDiffusionPipeline and will be ignored.\n",
      "Loading pipeline components...: 100%|█████████████████████████████████████████████████████████████████████████████| 7/7 [00:00<00:00,  8.00it/s]\n",
      "100%|███████████████████████████████████████████████████████████████████████████████████████████████████████████| 50/50 [01:14<00:00,  1.49s/it]\n",
      "100%|███████████████████████████████████████████████████████████████████████████████████████████████████████████| 50/50 [01:05<00:00,  1.31s/it]\n",
      "100%|███████████████████████████████████████████████████████████████████████████████████████████████████████████| 50/50 [01:14<00:00,  1.49s/it]\n",
      "100%|███████████████████████████████████████████████████████████████████████████████████████████████████████████| 50/50 [01:05<00:00,  1.31s/it]\n",
      "100%|███████████████████████████████████████████████████████████████████████████████████████████████████████████| 50/50 [01:14<00:00,  1.49s/it]\n",
      "100%|███████████████████████████████████████████████████████████████████████████████████████████████████████████| 50/50 [01:04<00:00,  1.29s/it]\n",
      "Potential NSFW content was detected in one or more images. A black image will be returned instead. Try again with a different prompt and/or seed.\n",
      "100%|███████████████████████████████████████████████████████████████████████████████████████████████████████████| 50/50 [01:14<00:00,  1.49s/it]\n",
      "100%|███████████████████████████████████████████████████████████████████████████████████████████████████████████| 50/50 [01:03<00:00,  1.28s/it]\n"
     ]
    },
    {
     "name": "stdout",
     "output_type": "stream",
     "text": [
      "checkpoint 4000\n"
     ]
    },
    {
     "name": "stderr",
     "output_type": "stream",
     "text": [
      "Keyword arguments {'dtype': torch.float16} are not expected by StableDiffusionPipeline and will be ignored.\n",
      "Loading pipeline components...: 100%|█████████████████████████████████████████████████████████████████████████████| 7/7 [00:00<00:00,  7.17it/s]\n",
      "100%|███████████████████████████████████████████████████████████████████████████████████████████████████████████| 50/50 [01:12<00:00,  1.45s/it]\n",
      "100%|███████████████████████████████████████████████████████████████████████████████████████████████████████████| 50/50 [01:14<00:00,  1.49s/it]\n",
      "100%|███████████████████████████████████████████████████████████████████████████████████████████████████████████| 50/50 [00:34<00:00,  1.46it/s]\n",
      "100%|███████████████████████████████████████████████████████████████████████████████████████████████████████████| 50/50 [00:37<00:00,  1.34it/s]\n",
      "100%|███████████████████████████████████████████████████████████████████████████████████████████████████████████| 50/50 [01:14<00:00,  1.49s/it]\n",
      "100%|███████████████████████████████████████████████████████████████████████████████████████████████████████████| 50/50 [01:11<00:00,  1.43s/it]\n",
      "100%|███████████████████████████████████████████████████████████████████████████████████████████████████████████| 50/50 [00:34<00:00,  1.46it/s]\n",
      "100%|███████████████████████████████████████████████████████████████████████████████████████████████████████████| 50/50 [00:41<00:00,  1.19it/s]\n"
     ]
    },
    {
     "name": "stdout",
     "output_type": "stream",
     "text": [
      "checkpoint 4500\n"
     ]
    },
    {
     "name": "stderr",
     "output_type": "stream",
     "text": [
      "Keyword arguments {'dtype': torch.float16} are not expected by StableDiffusionPipeline and will be ignored.\n",
      "Loading pipeline components...: 100%|█████████████████████████████████████████████████████████████████████████████| 7/7 [00:00<00:00,  7.19it/s]\n",
      "100%|███████████████████████████████████████████████████████████████████████████████████████████████████████████| 50/50 [00:54<00:00,  1.09s/it]\n",
      "100%|███████████████████████████████████████████████████████████████████████████████████████████████████████████| 50/50 [01:14<00:00,  1.48s/it]\n",
      "100%|███████████████████████████████████████████████████████████████████████████████████████████████████████████| 50/50 [00:53<00:00,  1.07s/it]\n",
      "100%|███████████████████████████████████████████████████████████████████████████████████████████████████████████| 50/50 [00:34<00:00,  1.47it/s]\n",
      "100%|███████████████████████████████████████████████████████████████████████████████████████████████████████████| 50/50 [01:05<00:00,  1.32s/it]\n",
      "100%|███████████████████████████████████████████████████████████████████████████████████████████████████████████| 50/50 [00:34<00:00,  1.46it/s]\n"
     ]
    },
    {
     "name": "stdout",
     "output_type": "stream",
     "text": [
      "checkpoint 5000\n"
     ]
    },
    {
     "name": "stderr",
     "output_type": "stream",
     "text": [
      "Keyword arguments {'dtype': torch.float16} are not expected by StableDiffusionPipeline and will be ignored.\n",
      "Loading pipeline components...: 100%|█████████████████████████████████████████████████████████████████████████████| 7/7 [00:00<00:00,  8.97it/s]\n",
      "100%|███████████████████████████████████████████████████████████████████████████████████████████████████████████| 50/50 [00:33<00:00,  1.50it/s]\n",
      "100%|███████████████████████████████████████████████████████████████████████████████████████████████████████████| 50/50 [01:11<00:00,  1.43s/it]\n",
      "100%|███████████████████████████████████████████████████████████████████████████████████████████████████████████| 50/50 [01:14<00:00,  1.49s/it]\n",
      "100%|███████████████████████████████████████████████████████████████████████████████████████████████████████████| 50/50 [00:36<00:00,  1.37it/s]\n",
      "100%|███████████████████████████████████████████████████████████████████████████████████████████████████████████| 50/50 [00:39<00:00,  1.27it/s]\n",
      "Potential NSFW content was detected in one or more images. A black image will be returned instead. Try again with a different prompt and/or seed.\n",
      "100%|███████████████████████████████████████████████████████████████████████████████████████████████████████████| 50/50 [01:14<00:00,  1.49s/it]\n",
      "100%|███████████████████████████████████████████████████████████████████████████████████████████████████████████| 50/50 [01:09<00:00,  1.39s/it]\n",
      "100%|███████████████████████████████████████████████████████████████████████████████████████████████████████████| 50/50 [00:34<00:00,  1.46it/s]\n"
     ]
    }
   ],
   "source": [
    "num_images = 10\n",
    "checkpoints = np.arange(500, 5001, 500)\n",
    "dataset_name = \"mimic\"\n",
    "model_id = \"runwayml/stable-diffusion-v1-5\"\n",
    "\n",
    "results = {}\n",
    "for checkpoint in checkpoints: \n",
    "    print(\"checkpoint {}\".format(checkpoint))\n",
    "    \n",
    "    file_prefix = f\"/mnt/scratch-lids/scratch/qixuanj/cxr_finetune_sd_{dataset_name}_base/checkpoint-{checkpoint}\"\n",
    "    unet = UNet2DConditionModel.from_pretrained(f\"{file_prefix}/unet\")\n",
    "    \n",
    "    pipe = DiffusionPipeline.from_pretrained(model_id, unet=unet, dtype=torch.float16)\n",
    "    pipe.to(\"cuda\")\n",
    " \n",
    "    all_labels = []\n",
    "    all_outputs = []\n",
    "    for i, pathology in enumerate(pathologies): \n",
    "        prompt = f\"a radiograph from dataset {dataset_name} with conditions {pathology}\"\n",
    "        images = pipe(prompt=prompt, \n",
    "                      strength=0.9, guidance_scale=7.5, num_inference_steps=50, \n",
    "                      num_images_per_prompt=num_images).images\n",
    "        images_t = []\n",
    "        for image in images: \n",
    "            image = xrv.utils.normalize(np.array(image), maxval=255, reshape=True)\n",
    "            images_t.append(transform(image))\n",
    "        images_t = torch.stack(images_t)\n",
    "        images_t = torch.permute(images_t, (0, 2, 1, 3))\n",
    "        with torch.no_grad():\n",
    "            outputs = model(images_t)\n",
    "        outputs = convert_output(\"all\", outputs)\n",
    "        \n",
    "        labels = np.zeros((num_images, 8))\n",
    "        labels[:, i] = 1\n",
    "    \n",
    "        all_outputs.append(np.array(outputs))\n",
    "        all_labels.append(labels)\n",
    "    all_outputs = np.concatenate(all_outputs)\n",
    "    all_labels = np.concatenate(all_labels)\n",
    "    \n",
    "    results[checkpoint] = {}\n",
    "    auc = roc_auc_score(all_labels, all_outputs)\n",
    "    task_aucs = roc_auc_score(all_labels, all_outputs, average=None)\n",
    "    \n",
    "    results[checkpoint]['auc'] = auc\n",
    "    results[checkpoint]['task_aucs'] = task_aucs\n",
    "    results[checkpoint]['task_outputs'] = all_outputs\n",
    "    results[checkpoint]['task_targets'] = all_labels"
   ]
  },
  {
   "cell_type": "code",
   "execution_count": 112,
   "id": "7b51b7af-9680-4795-bdc8-f6b91009e15a",
   "metadata": {},
   "outputs": [],
   "source": [
    "with open(f\"/mnt/scratch-lids/scratch/qixuanj/cxr_finetune_sd_{dataset_name}_base/eval_checkpoints_densenet121-res224-all.pkl\", \"wb\") as f: \n",
    "    pickle.dump(results, f)cd "
   ]
  },
  {
   "cell_type": "code",
   "execution_count": 118,
   "id": "4f981430-3f78-41d2-9c04-d2158dc994ce",
   "metadata": {},
   "outputs": [],
   "source": [
    "plot_aucs = [results[c]['auc'] for c in checkpoints]"
   ]
  },
  {
   "cell_type": "code",
   "execution_count": 120,
   "id": "d2168abf-499e-46a5-bf9d-b8dd033fa509",
   "metadata": {},
   "outputs": [
    {
     "data": {
      "image/png": "[encoded data removed]",
      "text/plain": [
       "<Figure size 640x480 with 1 Axes>"
      ]
     },
     "metadata": {},
     "output_type": "display_data"
    }
   ],
   "source": [
    "plt.plot(checkpoints, plot_aucs)\n",
    "plt.xlabel(\"Checkpoint number\")\n",
    "plt.ylabel(\"AUC\")\n",
    "plt.savefig(f\"/mnt/scratch-lids/scratch/qixuanj/cxr_finetune_sd_{dataset_name}_base/figs/checkpoint_aucs.png\", dpi=200)\n",
    "plt.show()"
   ]
  },
  {
   "cell_type": "code",
   "execution_count": null,
   "id": "710db531-34d1-46c8-be02-cccd8d7d089f",
   "metadata": {},
   "outputs": [],
   "source": [
    "# For individual checkpoint"
   ]
  },
  {
   "cell_type": "code",
   "execution_count": 17,
   "id": "0d9a7a3d-0bf5-44d4-b92c-78e0361d4d87",
   "metadata": {
    "scrolled": true
   },
   "outputs": [
    {
     "ename": "NameError",
     "evalue": "name 'pathologies' is not defined",
     "output_type": "error",
     "traceback": [
      "\u001b[0;31m---------------------------------------------------------------------------\u001b[0m",
      "\u001b[0;31mNameError\u001b[0m                                 Traceback (most recent call last)",
      "Cell \u001b[0;32mIn[17], line 4\u001b[0m\n\u001b[1;32m      2\u001b[0m all_labels \u001b[38;5;241m=\u001b[39m []\n\u001b[1;32m      3\u001b[0m all_outputs \u001b[38;5;241m=\u001b[39m []\n\u001b[0;32m----> 4\u001b[0m \u001b[38;5;28;01mfor\u001b[39;00m i, pathology \u001b[38;5;129;01min\u001b[39;00m \u001b[38;5;28menumerate\u001b[39m(\u001b[43mpathologies\u001b[49m): \n\u001b[1;32m      5\u001b[0m     prompt \u001b[38;5;241m=\u001b[39m \u001b[38;5;124mf\u001b[39m\u001b[38;5;124m\"\u001b[39m\u001b[38;5;124ma radiograph from dataset \u001b[39m\u001b[38;5;132;01m{\u001b[39;00mdataset_name\u001b[38;5;132;01m}\u001b[39;00m\u001b[38;5;124m with conditions \u001b[39m\u001b[38;5;132;01m{\u001b[39;00mpathology\u001b[38;5;132;01m}\u001b[39;00m\u001b[38;5;124m\"\u001b[39m\n\u001b[1;32m      6\u001b[0m     images \u001b[38;5;241m=\u001b[39m pipe(prompt\u001b[38;5;241m=\u001b[39mprompt, \n\u001b[1;32m      7\u001b[0m                   strength\u001b[38;5;241m=\u001b[39m\u001b[38;5;241m0.9\u001b[39m, guidance_scale\u001b[38;5;241m=\u001b[39m\u001b[38;5;241m7.5\u001b[39m, num_inference_steps\u001b[38;5;241m=\u001b[39m\u001b[38;5;241m50\u001b[39m, \n\u001b[1;32m      8\u001b[0m                   num_images_per_prompt\u001b[38;5;241m=\u001b[39mnum_images)\u001b[38;5;241m.\u001b[39mimages\n",
      "\u001b[0;31mNameError\u001b[0m: name 'pathologies' is not defined"
     ]
    }
   ],
   "source": [
    "num_images = 10 \n",
    "all_labels = []\n",
    "all_outputs = []\n",
    "for i, pathology in enumerate(pathologies): \n",
    "    prompt = f\"a radiograph from dataset {dataset_name} with conditions {pathology}\"\n",
    "    images = pipe(prompt=prompt, \n",
    "                  strength=0.9, guidance_scale=7.5, num_inference_steps=50, \n",
    "                  num_images_per_prompt=num_images).images\n",
    "    images_t = []\n",
    "    for image in images: \n",
    "        image = np.array(image)\n",
    "        image = xrv.utils.normalize(image, maxval=255, reshape=True)\n",
    "        images_t.append(transform(image))\n",
    "    images_t = torch.stack(images_t)\n",
    "    images_t = torch.permute(images_t, (0, 2, 1, 3))\n",
    "    with torch.no_grad():\n",
    "        outputs = model(images_t)\n",
    "    outputs = convert_output(\"all\", outputs)\n",
    "    \n",
    "    labels = np.zeros((num_images, 8))\n",
    "    labels[:, i] = 1\n",
    "\n",
    "    all_outputs.append(np.array(outputs))\n",
    "    all_labels.append(labels)\n",
    "all_outputs = np.concatenate(all_outputs)\n",
    "all_labels = np.concatenate(all_labels)"
   ]
  },
  {
   "cell_type": "code",
   "execution_count": 98,
   "id": "a28600f7-09c3-48c0-9713-a443e4c5d454",
   "metadata": {},
   "outputs": [
    {
     "name": "stdout",
     "output_type": "stream",
     "text": [
      "0.5669642857142858\n"
     ]
    }
   ],
   "source": [
    "auc = roc_auc_score(all_labels, all_outputs)\n",
    "print(auc)"
   ]
  },
  {
   "cell_type": "code",
   "execution_count": 97,
   "id": "630e236b-a47c-45c4-8fc0-075d71a877da",
   "metadata": {},
   "outputs": [
    {
     "data": {
      "text/html": [
       "<div>\n",
       "<style scoped>\n",
       "    .dataframe tbody tr th:only-of-type {\n",
       "        vertical-align: middle;\n",
       "    }\n",
       "\n",
       "    .dataframe tbody tr th {\n",
       "        vertical-align: top;\n",
       "    }\n",
       "\n",
       "    .dataframe thead th {\n",
       "        text-align: right;\n",
       "    }\n",
       "</style>\n",
       "<table border=\"1\" class=\"dataframe\">\n",
       "  <thead>\n",
       "    <tr style=\"text-align: right;\">\n",
       "      <th></th>\n",
       "      <th>0</th>\n",
       "    </tr>\n",
       "  </thead>\n",
       "  <tbody>\n",
       "    <tr>\n",
       "      <th>Atelectasis</th>\n",
       "      <td>0.535714</td>\n",
       "    </tr>\n",
       "    <tr>\n",
       "      <th>Cardiomegaly</th>\n",
       "      <td>0.857143</td>\n",
       "    </tr>\n",
       "    <tr>\n",
       "      <th>Consolidation</th>\n",
       "      <td>0.142857</td>\n",
       "    </tr>\n",
       "    <tr>\n",
       "      <th>Edema</th>\n",
       "      <td>0.357143</td>\n",
       "    </tr>\n",
       "    <tr>\n",
       "      <th>Lesion</th>\n",
       "      <td>0.535714</td>\n",
       "    </tr>\n",
       "    <tr>\n",
       "      <th>Pneumonia</th>\n",
       "      <td>0.785714</td>\n",
       "    </tr>\n",
       "    <tr>\n",
       "      <th>Pneumothorax</th>\n",
       "      <td>0.392857</td>\n",
       "    </tr>\n",
       "    <tr>\n",
       "      <th>No Finding</th>\n",
       "      <td>0.928571</td>\n",
       "    </tr>\n",
       "  </tbody>\n",
       "</table>\n",
       "</div>"
      ],
      "text/plain": [
       "                      0\n",
       "Atelectasis    0.535714\n",
       "Cardiomegaly   0.857143\n",
       "Consolidation  0.142857\n",
       "Edema          0.357143\n",
       "Lesion         0.535714\n",
       "Pneumonia      0.785714\n",
       "Pneumothorax   0.392857\n",
       "No Finding     0.928571"
      ]
     },
     "execution_count": 97,
     "metadata": {},
     "output_type": "execute_result"
    }
   ],
   "source": [
    "task_aucs = pd.DataFrame(roc_auc_score(all_labels, all_outputs, average=None), index=pathologies)\n",
    "task_aucs"
   ]
  },
  {
   "cell_type": "code",
   "execution_count": 105,
   "id": "733e8f02-6277-4362-b418-e27031517fab",
   "metadata": {},
   "outputs": [],
   "source": [
    "all_outputs_binary = all_outputs.copy()\n",
    "all_outputs_binary[all_outputs_binary > 0.5] = 1\n",
    "all_outputs_binary[all_outputs_binary <= 0.5] = 0"
   ]
  },
  {
   "cell_type": "code",
   "execution_count": 107,
   "id": "9b4785ac-1a2f-4cdc-b7bd-cdcf480da8fc",
   "metadata": {},
   "outputs": [
    {
     "data": {
      "text/plain": [
       "0.0"
      ]
     },
     "execution_count": 107,
     "metadata": {},
     "output_type": "execute_result"
    }
   ],
   "source": [
    "accuracy_score(all_labels, all_outputs_binary)"
   ]
  },
  {
   "cell_type": "markdown",
   "id": "b567727f-f860-43e3-8bdd-482ae3572168",
   "metadata": {
    "jp-MarkdownHeadingCollapsed": true
   },
   "source": [
    "# CXR Cross Dataset Classifier based evaluation"
   ]
  },
  {
   "cell_type": "code",
   "execution_count": 15,
   "id": "4ee53c53-aea9-4124-b676-1ea539dd4ef0",
   "metadata": {},
   "outputs": [],
   "source": [
    "from diffusers import DiffusionPipeline, UNet2DConditionModel\n",
    "from torcheval.metrics import MulticlassAUROC, MulticlassAccuracy"
   ]
  },
  {
   "cell_type": "code",
   "execution_count": 5,
   "id": "a81af3b4-1670-44b9-8895-660592762f06",
   "metadata": {},
   "outputs": [],
   "source": [
    "oracle = torch.load(\"cxr_domain_classify/model.pt\")"
   ]
  },
  {
   "cell_type": "code",
   "execution_count": 6,
   "id": "6f56cb53-0289-40fa-ad15-430eb97af00b",
   "metadata": {
    "scrolled": true
   },
   "outputs": [
    {
     "data": {
      "text/plain": [
       "DenseNet(\n",
       "  (features): Sequential(\n",
       "    (conv0): Conv2d(3, 64, kernel_size=(7, 7), stride=(2, 2), padding=(3, 3), bias=False)\n",
       "    (norm0): BatchNorm2d(64, eps=1e-05, momentum=0.1, affine=True, track_running_stats=True)\n",
       "    (relu0): ReLU(inplace=True)\n",
       "    (pool0): MaxPool2d(kernel_size=3, stride=2, padding=1, dilation=1, ceil_mode=False)\n",
       "    (denseblock1): _DenseBlock(\n",
       "      (denselayer1): _DenseLayer(\n",
       "        (norm1): BatchNorm2d(64, eps=1e-05, momentum=0.1, affine=True, track_running_stats=True)\n",
       "        (relu1): ReLU(inplace=True)\n",
       "        (conv1): Conv2d(64, 128, kernel_size=(1, 1), stride=(1, 1), bias=False)\n",
       "        (norm2): BatchNorm2d(128, eps=1e-05, momentum=0.1, affine=True, track_running_stats=True)\n",
       "        (relu2): ReLU(inplace=True)\n",
       "        (conv2): Conv2d(128, 32, kernel_size=(3, 3), stride=(1, 1), padding=(1, 1), bias=False)\n",
       "      )\n",
       "      (denselayer2): _DenseLayer(\n",
       "        (norm1): BatchNorm2d(96, eps=1e-05, momentum=0.1, affine=True, track_running_stats=True)\n",
       "        (relu1): ReLU(inplace=True)\n",
       "        (conv1): Conv2d(96, 128, kernel_size=(1, 1), stride=(1, 1), bias=False)\n",
       "        (norm2): BatchNorm2d(128, eps=1e-05, momentum=0.1, affine=True, track_running_stats=True)\n",
       "        (relu2): ReLU(inplace=True)\n",
       "        (conv2): Conv2d(128, 32, kernel_size=(3, 3), stride=(1, 1), padding=(1, 1), bias=False)\n",
       "      )\n",
       "      (denselayer3): _DenseLayer(\n",
       "        (norm1): BatchNorm2d(128, eps=1e-05, momentum=0.1, affine=True, track_running_stats=True)\n",
       "        (relu1): ReLU(inplace=True)\n",
       "        (conv1): Conv2d(128, 128, kernel_size=(1, 1), stride=(1, 1), bias=False)\n",
       "        (norm2): BatchNorm2d(128, eps=1e-05, momentum=0.1, affine=True, track_running_stats=True)\n",
       "        (relu2): ReLU(inplace=True)\n",
       "        (conv2): Conv2d(128, 32, kernel_size=(3, 3), stride=(1, 1), padding=(1, 1), bias=False)\n",
       "      )\n",
       "      (denselayer4): _DenseLayer(\n",
       "        (norm1): BatchNorm2d(160, eps=1e-05, momentum=0.1, affine=True, track_running_stats=True)\n",
       "        (relu1): ReLU(inplace=True)\n",
       "        (conv1): Conv2d(160, 128, kernel_size=(1, 1), stride=(1, 1), bias=False)\n",
       "        (norm2): BatchNorm2d(128, eps=1e-05, momentum=0.1, affine=True, track_running_stats=True)\n",
       "        (relu2): ReLU(inplace=True)\n",
       "        (conv2): Conv2d(128, 32, kernel_size=(3, 3), stride=(1, 1), padding=(1, 1), bias=False)\n",
       "      )\n",
       "      (denselayer5): _DenseLayer(\n",
       "        (norm1): BatchNorm2d(192, eps=1e-05, momentum=0.1, affine=True, track_running_stats=True)\n",
       "        (relu1): ReLU(inplace=True)\n",
       "        (conv1): Conv2d(192, 128, kernel_size=(1, 1), stride=(1, 1), bias=False)\n",
       "        (norm2): BatchNorm2d(128, eps=1e-05, momentum=0.1, affine=True, track_running_stats=True)\n",
       "        (relu2): ReLU(inplace=True)\n",
       "        (conv2): Conv2d(128, 32, kernel_size=(3, 3), stride=(1, 1), padding=(1, 1), bias=False)\n",
       "      )\n",
       "      (denselayer6): _DenseLayer(\n",
       "        (norm1): BatchNorm2d(224, eps=1e-05, momentum=0.1, affine=True, track_running_stats=True)\n",
       "        (relu1): ReLU(inplace=True)\n",
       "        (conv1): Conv2d(224, 128, kernel_size=(1, 1), stride=(1, 1), bias=False)\n",
       "        (norm2): BatchNorm2d(128, eps=1e-05, momentum=0.1, affine=True, track_running_stats=True)\n",
       "        (relu2): ReLU(inplace=True)\n",
       "        (conv2): Conv2d(128, 32, kernel_size=(3, 3), stride=(1, 1), padding=(1, 1), bias=False)\n",
       "      )\n",
       "    )\n",
       "    (transition1): _Transition(\n",
       "      (norm): BatchNorm2d(256, eps=1e-05, momentum=0.1, affine=True, track_running_stats=True)\n",
       "      (relu): ReLU(inplace=True)\n",
       "      (conv): Conv2d(256, 128, kernel_size=(1, 1), stride=(1, 1), bias=False)\n",
       "      (pool): AvgPool2d(kernel_size=2, stride=2, padding=0)\n",
       "    )\n",
       "    (denseblock2): _DenseBlock(\n",
       "      (denselayer1): _DenseLayer(\n",
       "        (norm1): BatchNorm2d(128, eps=1e-05, momentum=0.1, affine=True, track_running_stats=True)\n",
       "        (relu1): ReLU(inplace=True)\n",
       "        (conv1): Conv2d(128, 128, kernel_size=(1, 1), stride=(1, 1), bias=False)\n",
       "        (norm2): BatchNorm2d(128, eps=1e-05, momentum=0.1, affine=True, track_running_stats=True)\n",
       "        (relu2): ReLU(inplace=True)\n",
       "        (conv2): Conv2d(128, 32, kernel_size=(3, 3), stride=(1, 1), padding=(1, 1), bias=False)\n",
       "      )\n",
       "      (denselayer2): _DenseLayer(\n",
       "        (norm1): BatchNorm2d(160, eps=1e-05, momentum=0.1, affine=True, track_running_stats=True)\n",
       "        (relu1): ReLU(inplace=True)\n",
       "        (conv1): Conv2d(160, 128, kernel_size=(1, 1), stride=(1, 1), bias=False)\n",
       "        (norm2): BatchNorm2d(128, eps=1e-05, momentum=0.1, affine=True, track_running_stats=True)\n",
       "        (relu2): ReLU(inplace=True)\n",
       "        (conv2): Conv2d(128, 32, kernel_size=(3, 3), stride=(1, 1), padding=(1, 1), bias=False)\n",
       "      )\n",
       "      (denselayer3): _DenseLayer(\n",
       "        (norm1): BatchNorm2d(192, eps=1e-05, momentum=0.1, affine=True, track_running_stats=True)\n",
       "        (relu1): ReLU(inplace=True)\n",
       "        (conv1): Conv2d(192, 128, kernel_size=(1, 1), stride=(1, 1), bias=False)\n",
       "        (norm2): BatchNorm2d(128, eps=1e-05, momentum=0.1, affine=True, track_running_stats=True)\n",
       "        (relu2): ReLU(inplace=True)\n",
       "        (conv2): Conv2d(128, 32, kernel_size=(3, 3), stride=(1, 1), padding=(1, 1), bias=False)\n",
       "      )\n",
       "      (denselayer4): _DenseLayer(\n",
       "        (norm1): BatchNorm2d(224, eps=1e-05, momentum=0.1, affine=True, track_running_stats=True)\n",
       "        (relu1): ReLU(inplace=True)\n",
       "        (conv1): Conv2d(224, 128, kernel_size=(1, 1), stride=(1, 1), bias=False)\n",
       "        (norm2): BatchNorm2d(128, eps=1e-05, momentum=0.1, affine=True, track_running_stats=True)\n",
       "        (relu2): ReLU(inplace=True)\n",
       "        (conv2): Conv2d(128, 32, kernel_size=(3, 3), stride=(1, 1), padding=(1, 1), bias=False)\n",
       "      )\n",
       "      (denselayer5): _DenseLayer(\n",
       "        (norm1): BatchNorm2d(256, eps=1e-05, momentum=0.1, affine=True, track_running_stats=True)\n",
       "        (relu1): ReLU(inplace=True)\n",
       "        (conv1): Conv2d(256, 128, kernel_size=(1, 1), stride=(1, 1), bias=False)\n",
       "        (norm2): BatchNorm2d(128, eps=1e-05, momentum=0.1, affine=True, track_running_stats=True)\n",
       "        (relu2): ReLU(inplace=True)\n",
       "        (conv2): Conv2d(128, 32, kernel_size=(3, 3), stride=(1, 1), padding=(1, 1), bias=False)\n",
       "      )\n",
       "      (denselayer6): _DenseLayer(\n",
       "        (norm1): BatchNorm2d(288, eps=1e-05, momentum=0.1, affine=True, track_running_stats=True)\n",
       "        (relu1): ReLU(inplace=True)\n",
       "        (conv1): Conv2d(288, 128, kernel_size=(1, 1), stride=(1, 1), bias=False)\n",
       "        (norm2): BatchNorm2d(128, eps=1e-05, momentum=0.1, affine=True, track_running_stats=True)\n",
       "        (relu2): ReLU(inplace=True)\n",
       "        (conv2): Conv2d(128, 32, kernel_size=(3, 3), stride=(1, 1), padding=(1, 1), bias=False)\n",
       "      )\n",
       "      (denselayer7): _DenseLayer(\n",
       "        (norm1): BatchNorm2d(320, eps=1e-05, momentum=0.1, affine=True, track_running_stats=True)\n",
       "        (relu1): ReLU(inplace=True)\n",
       "        (conv1): Conv2d(320, 128, kernel_size=(1, 1), stride=(1, 1), bias=False)\n",
       "        (norm2): BatchNorm2d(128, eps=1e-05, momentum=0.1, affine=True, track_running_stats=True)\n",
       "        (relu2): ReLU(inplace=True)\n",
       "        (conv2): Conv2d(128, 32, kernel_size=(3, 3), stride=(1, 1), padding=(1, 1), bias=False)\n",
       "      )\n",
       "      (denselayer8): _DenseLayer(\n",
       "        (norm1): BatchNorm2d(352, eps=1e-05, momentum=0.1, affine=True, track_running_stats=True)\n",
       "        (relu1): ReLU(inplace=True)\n",
       "        (conv1): Conv2d(352, 128, kernel_size=(1, 1), stride=(1, 1), bias=False)\n",
       "        (norm2): BatchNorm2d(128, eps=1e-05, momentum=0.1, affine=True, track_running_stats=True)\n",
       "        (relu2): ReLU(inplace=True)\n",
       "        (conv2): Conv2d(128, 32, kernel_size=(3, 3), stride=(1, 1), padding=(1, 1), bias=False)\n",
       "      )\n",
       "      (denselayer9): _DenseLayer(\n",
       "        (norm1): BatchNorm2d(384, eps=1e-05, momentum=0.1, affine=True, track_running_stats=True)\n",
       "        (relu1): ReLU(inplace=True)\n",
       "        (conv1): Conv2d(384, 128, kernel_size=(1, 1), stride=(1, 1), bias=False)\n",
       "        (norm2): BatchNorm2d(128, eps=1e-05, momentum=0.1, affine=True, track_running_stats=True)\n",
       "        (relu2): ReLU(inplace=True)\n",
       "        (conv2): Conv2d(128, 32, kernel_size=(3, 3), stride=(1, 1), padding=(1, 1), bias=False)\n",
       "      )\n",
       "      (denselayer10): _DenseLayer(\n",
       "        (norm1): BatchNorm2d(416, eps=1e-05, momentum=0.1, affine=True, track_running_stats=True)\n",
       "        (relu1): ReLU(inplace=True)\n",
       "        (conv1): Conv2d(416, 128, kernel_size=(1, 1), stride=(1, 1), bias=False)\n",
       "        (norm2): BatchNorm2d(128, eps=1e-05, momentum=0.1, affine=True, track_running_stats=True)\n",
       "        (relu2): ReLU(inplace=True)\n",
       "        (conv2): Conv2d(128, 32, kernel_size=(3, 3), stride=(1, 1), padding=(1, 1), bias=False)\n",
       "      )\n",
       "      (denselayer11): _DenseLayer(\n",
       "        (norm1): BatchNorm2d(448, eps=1e-05, momentum=0.1, affine=True, track_running_stats=True)\n",
       "        (relu1): ReLU(inplace=True)\n",
       "        (conv1): Conv2d(448, 128, kernel_size=(1, 1), stride=(1, 1), bias=False)\n",
       "        (norm2): BatchNorm2d(128, eps=1e-05, momentum=0.1, affine=True, track_running_stats=True)\n",
       "        (relu2): ReLU(inplace=True)\n",
       "        (conv2): Conv2d(128, 32, kernel_size=(3, 3), stride=(1, 1), padding=(1, 1), bias=False)\n",
       "      )\n",
       "      (denselayer12): _DenseLayer(\n",
       "        (norm1): BatchNorm2d(480, eps=1e-05, momentum=0.1, affine=True, track_running_stats=True)\n",
       "        (relu1): ReLU(inplace=True)\n",
       "        (conv1): Conv2d(480, 128, kernel_size=(1, 1), stride=(1, 1), bias=False)\n",
       "        (norm2): BatchNorm2d(128, eps=1e-05, momentum=0.1, affine=True, track_running_stats=True)\n",
       "        (relu2): ReLU(inplace=True)\n",
       "        (conv2): Conv2d(128, 32, kernel_size=(3, 3), stride=(1, 1), padding=(1, 1), bias=False)\n",
       "      )\n",
       "    )\n",
       "    (transition2): _Transition(\n",
       "      (norm): BatchNorm2d(512, eps=1e-05, momentum=0.1, affine=True, track_running_stats=True)\n",
       "      (relu): ReLU(inplace=True)\n",
       "      (conv): Conv2d(512, 256, kernel_size=(1, 1), stride=(1, 1), bias=False)\n",
       "      (pool): AvgPool2d(kernel_size=2, stride=2, padding=0)\n",
       "    )\n",
       "    (denseblock3): _DenseBlock(\n",
       "      (denselayer1): _DenseLayer(\n",
       "        (norm1): BatchNorm2d(256, eps=1e-05, momentum=0.1, affine=True, track_running_stats=True)\n",
       "        (relu1): ReLU(inplace=True)\n",
       "        (conv1): Conv2d(256, 128, kernel_size=(1, 1), stride=(1, 1), bias=False)\n",
       "        (norm2): BatchNorm2d(128, eps=1e-05, momentum=0.1, affine=True, track_running_stats=True)\n",
       "        (relu2): ReLU(inplace=True)\n",
       "        (conv2): Conv2d(128, 32, kernel_size=(3, 3), stride=(1, 1), padding=(1, 1), bias=False)\n",
       "      )\n",
       "      (denselayer2): _DenseLayer(\n",
       "        (norm1): BatchNorm2d(288, eps=1e-05, momentum=0.1, affine=True, track_running_stats=True)\n",
       "        (relu1): ReLU(inplace=True)\n",
       "        (conv1): Conv2d(288, 128, kernel_size=(1, 1), stride=(1, 1), bias=False)\n",
       "        (norm2): BatchNorm2d(128, eps=1e-05, momentum=0.1, affine=True, track_running_stats=True)\n",
       "        (relu2): ReLU(inplace=True)\n",
       "        (conv2): Conv2d(128, 32, kernel_size=(3, 3), stride=(1, 1), padding=(1, 1), bias=False)\n",
       "      )\n",
       "      (denselayer3): _DenseLayer(\n",
       "        (norm1): BatchNorm2d(320, eps=1e-05, momentum=0.1, affine=True, track_running_stats=True)\n",
       "        (relu1): ReLU(inplace=True)\n",
       "        (conv1): Conv2d(320, 128, kernel_size=(1, 1), stride=(1, 1), bias=False)\n",
       "        (norm2): BatchNorm2d(128, eps=1e-05, momentum=0.1, affine=True, track_running_stats=True)\n",
       "        (relu2): ReLU(inplace=True)\n",
       "        (conv2): Conv2d(128, 32, kernel_size=(3, 3), stride=(1, 1), padding=(1, 1), bias=False)\n",
       "      )\n",
       "      (denselayer4): _DenseLayer(\n",
       "        (norm1): BatchNorm2d(352, eps=1e-05, momentum=0.1, affine=True, track_running_stats=True)\n",
       "        (relu1): ReLU(inplace=True)\n",
       "        (conv1): Conv2d(352, 128, kernel_size=(1, 1), stride=(1, 1), bias=False)\n",
       "        (norm2): BatchNorm2d(128, eps=1e-05, momentum=0.1, affine=True, track_running_stats=True)\n",
       "        (relu2): ReLU(inplace=True)\n",
       "        (conv2): Conv2d(128, 32, kernel_size=(3, 3), stride=(1, 1), padding=(1, 1), bias=False)\n",
       "      )\n",
       "      (denselayer5): _DenseLayer(\n",
       "        (norm1): BatchNorm2d(384, eps=1e-05, momentum=0.1, affine=True, track_running_stats=True)\n",
       "        (relu1): ReLU(inplace=True)\n",
       "        (conv1): Conv2d(384, 128, kernel_size=(1, 1), stride=(1, 1), bias=False)\n",
       "        (norm2): BatchNorm2d(128, eps=1e-05, momentum=0.1, affine=True, track_running_stats=True)\n",
       "        (relu2): ReLU(inplace=True)\n",
       "        (conv2): Conv2d(128, 32, kernel_size=(3, 3), stride=(1, 1), padding=(1, 1), bias=False)\n",
       "      )\n",
       "      (denselayer6): _DenseLayer(\n",
       "        (norm1): BatchNorm2d(416, eps=1e-05, momentum=0.1, affine=True, track_running_stats=True)\n",
       "        (relu1): ReLU(inplace=True)\n",
       "        (conv1): Conv2d(416, 128, kernel_size=(1, 1), stride=(1, 1), bias=False)\n",
       "        (norm2): BatchNorm2d(128, eps=1e-05, momentum=0.1, affine=True, track_running_stats=True)\n",
       "        (relu2): ReLU(inplace=True)\n",
       "        (conv2): Conv2d(128, 32, kernel_size=(3, 3), stride=(1, 1), padding=(1, 1), bias=False)\n",
       "      )\n",
       "      (denselayer7): _DenseLayer(\n",
       "        (norm1): BatchNorm2d(448, eps=1e-05, momentum=0.1, affine=True, track_running_stats=True)\n",
       "        (relu1): ReLU(inplace=True)\n",
       "        (conv1): Conv2d(448, 128, kernel_size=(1, 1), stride=(1, 1), bias=False)\n",
       "        (norm2): BatchNorm2d(128, eps=1e-05, momentum=0.1, affine=True, track_running_stats=True)\n",
       "        (relu2): ReLU(inplace=True)\n",
       "        (conv2): Conv2d(128, 32, kernel_size=(3, 3), stride=(1, 1), padding=(1, 1), bias=False)\n",
       "      )\n",
       "      (denselayer8): _DenseLayer(\n",
       "        (norm1): BatchNorm2d(480, eps=1e-05, momentum=0.1, affine=True, track_running_stats=True)\n",
       "        (relu1): ReLU(inplace=True)\n",
       "        (conv1): Conv2d(480, 128, kernel_size=(1, 1), stride=(1, 1), bias=False)\n",
       "        (norm2): BatchNorm2d(128, eps=1e-05, momentum=0.1, affine=True, track_running_stats=True)\n",
       "        (relu2): ReLU(inplace=True)\n",
       "        (conv2): Conv2d(128, 32, kernel_size=(3, 3), stride=(1, 1), padding=(1, 1), bias=False)\n",
       "      )\n",
       "      (denselayer9): _DenseLayer(\n",
       "        (norm1): BatchNorm2d(512, eps=1e-05, momentum=0.1, affine=True, track_running_stats=True)\n",
       "        (relu1): ReLU(inplace=True)\n",
       "        (conv1): Conv2d(512, 128, kernel_size=(1, 1), stride=(1, 1), bias=False)\n",
       "        (norm2): BatchNorm2d(128, eps=1e-05, momentum=0.1, affine=True, track_running_stats=True)\n",
       "        (relu2): ReLU(inplace=True)\n",
       "        (conv2): Conv2d(128, 32, kernel_size=(3, 3), stride=(1, 1), padding=(1, 1), bias=False)\n",
       "      )\n",
       "      (denselayer10): _DenseLayer(\n",
       "        (norm1): BatchNorm2d(544, eps=1e-05, momentum=0.1, affine=True, track_running_stats=True)\n",
       "        (relu1): ReLU(inplace=True)\n",
       "        (conv1): Conv2d(544, 128, kernel_size=(1, 1), stride=(1, 1), bias=False)\n",
       "        (norm2): BatchNorm2d(128, eps=1e-05, momentum=0.1, affine=True, track_running_stats=True)\n",
       "        (relu2): ReLU(inplace=True)\n",
       "        (conv2): Conv2d(128, 32, kernel_size=(3, 3), stride=(1, 1), padding=(1, 1), bias=False)\n",
       "      )\n",
       "      (denselayer11): _DenseLayer(\n",
       "        (norm1): BatchNorm2d(576, eps=1e-05, momentum=0.1, affine=True, track_running_stats=True)\n",
       "        (relu1): ReLU(inplace=True)\n",
       "        (conv1): Conv2d(576, 128, kernel_size=(1, 1), stride=(1, 1), bias=False)\n",
       "        (norm2): BatchNorm2d(128, eps=1e-05, momentum=0.1, affine=True, track_running_stats=True)\n",
       "        (relu2): ReLU(inplace=True)\n",
       "        (conv2): Conv2d(128, 32, kernel_size=(3, 3), stride=(1, 1), padding=(1, 1), bias=False)\n",
       "      )\n",
       "      (denselayer12): _DenseLayer(\n",
       "        (norm1): BatchNorm2d(608, eps=1e-05, momentum=0.1, affine=True, track_running_stats=True)\n",
       "        (relu1): ReLU(inplace=True)\n",
       "        (conv1): Conv2d(608, 128, kernel_size=(1, 1), stride=(1, 1), bias=False)\n",
       "        (norm2): BatchNorm2d(128, eps=1e-05, momentum=0.1, affine=True, track_running_stats=True)\n",
       "        (relu2): ReLU(inplace=True)\n",
       "        (conv2): Conv2d(128, 32, kernel_size=(3, 3), stride=(1, 1), padding=(1, 1), bias=False)\n",
       "      )\n",
       "      (denselayer13): _DenseLayer(\n",
       "        (norm1): BatchNorm2d(640, eps=1e-05, momentum=0.1, affine=True, track_running_stats=True)\n",
       "        (relu1): ReLU(inplace=True)\n",
       "        (conv1): Conv2d(640, 128, kernel_size=(1, 1), stride=(1, 1), bias=False)\n",
       "        (norm2): BatchNorm2d(128, eps=1e-05, momentum=0.1, affine=True, track_running_stats=True)\n",
       "        (relu2): ReLU(inplace=True)\n",
       "        (conv2): Conv2d(128, 32, kernel_size=(3, 3), stride=(1, 1), padding=(1, 1), bias=False)\n",
       "      )\n",
       "      (denselayer14): _DenseLayer(\n",
       "        (norm1): BatchNorm2d(672, eps=1e-05, momentum=0.1, affine=True, track_running_stats=True)\n",
       "        (relu1): ReLU(inplace=True)\n",
       "        (conv1): Conv2d(672, 128, kernel_size=(1, 1), stride=(1, 1), bias=False)\n",
       "        (norm2): BatchNorm2d(128, eps=1e-05, momentum=0.1, affine=True, track_running_stats=True)\n",
       "        (relu2): ReLU(inplace=True)\n",
       "        (conv2): Conv2d(128, 32, kernel_size=(3, 3), stride=(1, 1), padding=(1, 1), bias=False)\n",
       "      )\n",
       "      (denselayer15): _DenseLayer(\n",
       "        (norm1): BatchNorm2d(704, eps=1e-05, momentum=0.1, affine=True, track_running_stats=True)\n",
       "        (relu1): ReLU(inplace=True)\n",
       "        (conv1): Conv2d(704, 128, kernel_size=(1, 1), stride=(1, 1), bias=False)\n",
       "        (norm2): BatchNorm2d(128, eps=1e-05, momentum=0.1, affine=True, track_running_stats=True)\n",
       "        (relu2): ReLU(inplace=True)\n",
       "        (conv2): Conv2d(128, 32, kernel_size=(3, 3), stride=(1, 1), padding=(1, 1), bias=False)\n",
       "      )\n",
       "      (denselayer16): _DenseLayer(\n",
       "        (norm1): BatchNorm2d(736, eps=1e-05, momentum=0.1, affine=True, track_running_stats=True)\n",
       "        (relu1): ReLU(inplace=True)\n",
       "        (conv1): Conv2d(736, 128, kernel_size=(1, 1), stride=(1, 1), bias=False)\n",
       "        (norm2): BatchNorm2d(128, eps=1e-05, momentum=0.1, affine=True, track_running_stats=True)\n",
       "        (relu2): ReLU(inplace=True)\n",
       "        (conv2): Conv2d(128, 32, kernel_size=(3, 3), stride=(1, 1), padding=(1, 1), bias=False)\n",
       "      )\n",
       "      (denselayer17): _DenseLayer(\n",
       "        (norm1): BatchNorm2d(768, eps=1e-05, momentum=0.1, affine=True, track_running_stats=True)\n",
       "        (relu1): ReLU(inplace=True)\n",
       "        (conv1): Conv2d(768, 128, kernel_size=(1, 1), stride=(1, 1), bias=False)\n",
       "        (norm2): BatchNorm2d(128, eps=1e-05, momentum=0.1, affine=True, track_running_stats=True)\n",
       "        (relu2): ReLU(inplace=True)\n",
       "        (conv2): Conv2d(128, 32, kernel_size=(3, 3), stride=(1, 1), padding=(1, 1), bias=False)\n",
       "      )\n",
       "      (denselayer18): _DenseLayer(\n",
       "        (norm1): BatchNorm2d(800, eps=1e-05, momentum=0.1, affine=True, track_running_stats=True)\n",
       "        (relu1): ReLU(inplace=True)\n",
       "        (conv1): Conv2d(800, 128, kernel_size=(1, 1), stride=(1, 1), bias=False)\n",
       "        (norm2): BatchNorm2d(128, eps=1e-05, momentum=0.1, affine=True, track_running_stats=True)\n",
       "        (relu2): ReLU(inplace=True)\n",
       "        (conv2): Conv2d(128, 32, kernel_size=(3, 3), stride=(1, 1), padding=(1, 1), bias=False)\n",
       "      )\n",
       "      (denselayer19): _DenseLayer(\n",
       "        (norm1): BatchNorm2d(832, eps=1e-05, momentum=0.1, affine=True, track_running_stats=True)\n",
       "        (relu1): ReLU(inplace=True)\n",
       "        (conv1): Conv2d(832, 128, kernel_size=(1, 1), stride=(1, 1), bias=False)\n",
       "        (norm2): BatchNorm2d(128, eps=1e-05, momentum=0.1, affine=True, track_running_stats=True)\n",
       "        (relu2): ReLU(inplace=True)\n",
       "        (conv2): Conv2d(128, 32, kernel_size=(3, 3), stride=(1, 1), padding=(1, 1), bias=False)\n",
       "      )\n",
       "      (denselayer20): _DenseLayer(\n",
       "        (norm1): BatchNorm2d(864, eps=1e-05, momentum=0.1, affine=True, track_running_stats=True)\n",
       "        (relu1): ReLU(inplace=True)\n",
       "        (conv1): Conv2d(864, 128, kernel_size=(1, 1), stride=(1, 1), bias=False)\n",
       "        (norm2): BatchNorm2d(128, eps=1e-05, momentum=0.1, affine=True, track_running_stats=True)\n",
       "        (relu2): ReLU(inplace=True)\n",
       "        (conv2): Conv2d(128, 32, kernel_size=(3, 3), stride=(1, 1), padding=(1, 1), bias=False)\n",
       "      )\n",
       "      (denselayer21): _DenseLayer(\n",
       "        (norm1): BatchNorm2d(896, eps=1e-05, momentum=0.1, affine=True, track_running_stats=True)\n",
       "        (relu1): ReLU(inplace=True)\n",
       "        (conv1): Conv2d(896, 128, kernel_size=(1, 1), stride=(1, 1), bias=False)\n",
       "        (norm2): BatchNorm2d(128, eps=1e-05, momentum=0.1, affine=True, track_running_stats=True)\n",
       "        (relu2): ReLU(inplace=True)\n",
       "        (conv2): Conv2d(128, 32, kernel_size=(3, 3), stride=(1, 1), padding=(1, 1), bias=False)\n",
       "      )\n",
       "      (denselayer22): _DenseLayer(\n",
       "        (norm1): BatchNorm2d(928, eps=1e-05, momentum=0.1, affine=True, track_running_stats=True)\n",
       "        (relu1): ReLU(inplace=True)\n",
       "        (conv1): Conv2d(928, 128, kernel_size=(1, 1), stride=(1, 1), bias=False)\n",
       "        (norm2): BatchNorm2d(128, eps=1e-05, momentum=0.1, affine=True, track_running_stats=True)\n",
       "        (relu2): ReLU(inplace=True)\n",
       "        (conv2): Conv2d(128, 32, kernel_size=(3, 3), stride=(1, 1), padding=(1, 1), bias=False)\n",
       "      )\n",
       "      (denselayer23): _DenseLayer(\n",
       "        (norm1): BatchNorm2d(960, eps=1e-05, momentum=0.1, affine=True, track_running_stats=True)\n",
       "        (relu1): ReLU(inplace=True)\n",
       "        (conv1): Conv2d(960, 128, kernel_size=(1, 1), stride=(1, 1), bias=False)\n",
       "        (norm2): BatchNorm2d(128, eps=1e-05, momentum=0.1, affine=True, track_running_stats=True)\n",
       "        (relu2): ReLU(inplace=True)\n",
       "        (conv2): Conv2d(128, 32, kernel_size=(3, 3), stride=(1, 1), padding=(1, 1), bias=False)\n",
       "      )\n",
       "      (denselayer24): _DenseLayer(\n",
       "        (norm1): BatchNorm2d(992, eps=1e-05, momentum=0.1, affine=True, track_running_stats=True)\n",
       "        (relu1): ReLU(inplace=True)\n",
       "        (conv1): Conv2d(992, 128, kernel_size=(1, 1), stride=(1, 1), bias=False)\n",
       "        (norm2): BatchNorm2d(128, eps=1e-05, momentum=0.1, affine=True, track_running_stats=True)\n",
       "        (relu2): ReLU(inplace=True)\n",
       "        (conv2): Conv2d(128, 32, kernel_size=(3, 3), stride=(1, 1), padding=(1, 1), bias=False)\n",
       "      )\n",
       "    )\n",
       "    (transition3): _Transition(\n",
       "      (norm): BatchNorm2d(1024, eps=1e-05, momentum=0.1, affine=True, track_running_stats=True)\n",
       "      (relu): ReLU(inplace=True)\n",
       "      (conv): Conv2d(1024, 512, kernel_size=(1, 1), stride=(1, 1), bias=False)\n",
       "      (pool): AvgPool2d(kernel_size=2, stride=2, padding=0)\n",
       "    )\n",
       "    (denseblock4): _DenseBlock(\n",
       "      (denselayer1): _DenseLayer(\n",
       "        (norm1): BatchNorm2d(512, eps=1e-05, momentum=0.1, affine=True, track_running_stats=True)\n",
       "        (relu1): ReLU(inplace=True)\n",
       "        (conv1): Conv2d(512, 128, kernel_size=(1, 1), stride=(1, 1), bias=False)\n",
       "        (norm2): BatchNorm2d(128, eps=1e-05, momentum=0.1, affine=True, track_running_stats=True)\n",
       "        (relu2): ReLU(inplace=True)\n",
       "        (conv2): Conv2d(128, 32, kernel_size=(3, 3), stride=(1, 1), padding=(1, 1), bias=False)\n",
       "      )\n",
       "      (denselayer2): _DenseLayer(\n",
       "        (norm1): BatchNorm2d(544, eps=1e-05, momentum=0.1, affine=True, track_running_stats=True)\n",
       "        (relu1): ReLU(inplace=True)\n",
       "        (conv1): Conv2d(544, 128, kernel_size=(1, 1), stride=(1, 1), bias=False)\n",
       "        (norm2): BatchNorm2d(128, eps=1e-05, momentum=0.1, affine=True, track_running_stats=True)\n",
       "        (relu2): ReLU(inplace=True)\n",
       "        (conv2): Conv2d(128, 32, kernel_size=(3, 3), stride=(1, 1), padding=(1, 1), bias=False)\n",
       "      )\n",
       "      (denselayer3): _DenseLayer(\n",
       "        (norm1): BatchNorm2d(576, eps=1e-05, momentum=0.1, affine=True, track_running_stats=True)\n",
       "        (relu1): ReLU(inplace=True)\n",
       "        (conv1): Conv2d(576, 128, kernel_size=(1, 1), stride=(1, 1), bias=False)\n",
       "        (norm2): BatchNorm2d(128, eps=1e-05, momentum=0.1, affine=True, track_running_stats=True)\n",
       "        (relu2): ReLU(inplace=True)\n",
       "        (conv2): Conv2d(128, 32, kernel_size=(3, 3), stride=(1, 1), padding=(1, 1), bias=False)\n",
       "      )\n",
       "      (denselayer4): _DenseLayer(\n",
       "        (norm1): BatchNorm2d(608, eps=1e-05, momentum=0.1, affine=True, track_running_stats=True)\n",
       "        (relu1): ReLU(inplace=True)\n",
       "        (conv1): Conv2d(608, 128, kernel_size=(1, 1), stride=(1, 1), bias=False)\n",
       "        (norm2): BatchNorm2d(128, eps=1e-05, momentum=0.1, affine=True, track_running_stats=True)\n",
       "        (relu2): ReLU(inplace=True)\n",
       "        (conv2): Conv2d(128, 32, kernel_size=(3, 3), stride=(1, 1), padding=(1, 1), bias=False)\n",
       "      )\n",
       "      (denselayer5): _DenseLayer(\n",
       "        (norm1): BatchNorm2d(640, eps=1e-05, momentum=0.1, affine=True, track_running_stats=True)\n",
       "        (relu1): ReLU(inplace=True)\n",
       "        (conv1): Conv2d(640, 128, kernel_size=(1, 1), stride=(1, 1), bias=False)\n",
       "        (norm2): BatchNorm2d(128, eps=1e-05, momentum=0.1, affine=True, track_running_stats=True)\n",
       "        (relu2): ReLU(inplace=True)\n",
       "        (conv2): Conv2d(128, 32, kernel_size=(3, 3), stride=(1, 1), padding=(1, 1), bias=False)\n",
       "      )\n",
       "      (denselayer6): _DenseLayer(\n",
       "        (norm1): BatchNorm2d(672, eps=1e-05, momentum=0.1, affine=True, track_running_stats=True)\n",
       "        (relu1): ReLU(inplace=True)\n",
       "        (conv1): Conv2d(672, 128, kernel_size=(1, 1), stride=(1, 1), bias=False)\n",
       "        (norm2): BatchNorm2d(128, eps=1e-05, momentum=0.1, affine=True, track_running_stats=True)\n",
       "        (relu2): ReLU(inplace=True)\n",
       "        (conv2): Conv2d(128, 32, kernel_size=(3, 3), stride=(1, 1), padding=(1, 1), bias=False)\n",
       "      )\n",
       "      (denselayer7): _DenseLayer(\n",
       "        (norm1): BatchNorm2d(704, eps=1e-05, momentum=0.1, affine=True, track_running_stats=True)\n",
       "        (relu1): ReLU(inplace=True)\n",
       "        (conv1): Conv2d(704, 128, kernel_size=(1, 1), stride=(1, 1), bias=False)\n",
       "        (norm2): BatchNorm2d(128, eps=1e-05, momentum=0.1, affine=True, track_running_stats=True)\n",
       "        (relu2): ReLU(inplace=True)\n",
       "        (conv2): Conv2d(128, 32, kernel_size=(3, 3), stride=(1, 1), padding=(1, 1), bias=False)\n",
       "      )\n",
       "      (denselayer8): _DenseLayer(\n",
       "        (norm1): BatchNorm2d(736, eps=1e-05, momentum=0.1, affine=True, track_running_stats=True)\n",
       "        (relu1): ReLU(inplace=True)\n",
       "        (conv1): Conv2d(736, 128, kernel_size=(1, 1), stride=(1, 1), bias=False)\n",
       "        (norm2): BatchNorm2d(128, eps=1e-05, momentum=0.1, affine=True, track_running_stats=True)\n",
       "        (relu2): ReLU(inplace=True)\n",
       "        (conv2): Conv2d(128, 32, kernel_size=(3, 3), stride=(1, 1), padding=(1, 1), bias=False)\n",
       "      )\n",
       "      (denselayer9): _DenseLayer(\n",
       "        (norm1): BatchNorm2d(768, eps=1e-05, momentum=0.1, affine=True, track_running_stats=True)\n",
       "        (relu1): ReLU(inplace=True)\n",
       "        (conv1): Conv2d(768, 128, kernel_size=(1, 1), stride=(1, 1), bias=False)\n",
       "        (norm2): BatchNorm2d(128, eps=1e-05, momentum=0.1, affine=True, track_running_stats=True)\n",
       "        (relu2): ReLU(inplace=True)\n",
       "        (conv2): Conv2d(128, 32, kernel_size=(3, 3), stride=(1, 1), padding=(1, 1), bias=False)\n",
       "      )\n",
       "      (denselayer10): _DenseLayer(\n",
       "        (norm1): BatchNorm2d(800, eps=1e-05, momentum=0.1, affine=True, track_running_stats=True)\n",
       "        (relu1): ReLU(inplace=True)\n",
       "        (conv1): Conv2d(800, 128, kernel_size=(1, 1), stride=(1, 1), bias=False)\n",
       "        (norm2): BatchNorm2d(128, eps=1e-05, momentum=0.1, affine=True, track_running_stats=True)\n",
       "        (relu2): ReLU(inplace=True)\n",
       "        (conv2): Conv2d(128, 32, kernel_size=(3, 3), stride=(1, 1), padding=(1, 1), bias=False)\n",
       "      )\n",
       "      (denselayer11): _DenseLayer(\n",
       "        (norm1): BatchNorm2d(832, eps=1e-05, momentum=0.1, affine=True, track_running_stats=True)\n",
       "        (relu1): ReLU(inplace=True)\n",
       "        (conv1): Conv2d(832, 128, kernel_size=(1, 1), stride=(1, 1), bias=False)\n",
       "        (norm2): BatchNorm2d(128, eps=1e-05, momentum=0.1, affine=True, track_running_stats=True)\n",
       "        (relu2): ReLU(inplace=True)\n",
       "        (conv2): Conv2d(128, 32, kernel_size=(3, 3), stride=(1, 1), padding=(1, 1), bias=False)\n",
       "      )\n",
       "      (denselayer12): _DenseLayer(\n",
       "        (norm1): BatchNorm2d(864, eps=1e-05, momentum=0.1, affine=True, track_running_stats=True)\n",
       "        (relu1): ReLU(inplace=True)\n",
       "        (conv1): Conv2d(864, 128, kernel_size=(1, 1), stride=(1, 1), bias=False)\n",
       "        (norm2): BatchNorm2d(128, eps=1e-05, momentum=0.1, affine=True, track_running_stats=True)\n",
       "        (relu2): ReLU(inplace=True)\n",
       "        (conv2): Conv2d(128, 32, kernel_size=(3, 3), stride=(1, 1), padding=(1, 1), bias=False)\n",
       "      )\n",
       "      (denselayer13): _DenseLayer(\n",
       "        (norm1): BatchNorm2d(896, eps=1e-05, momentum=0.1, affine=True, track_running_stats=True)\n",
       "        (relu1): ReLU(inplace=True)\n",
       "        (conv1): Conv2d(896, 128, kernel_size=(1, 1), stride=(1, 1), bias=False)\n",
       "        (norm2): BatchNorm2d(128, eps=1e-05, momentum=0.1, affine=True, track_running_stats=True)\n",
       "        (relu2): ReLU(inplace=True)\n",
       "        (conv2): Conv2d(128, 32, kernel_size=(3, 3), stride=(1, 1), padding=(1, 1), bias=False)\n",
       "      )\n",
       "      (denselayer14): _DenseLayer(\n",
       "        (norm1): BatchNorm2d(928, eps=1e-05, momentum=0.1, affine=True, track_running_stats=True)\n",
       "        (relu1): ReLU(inplace=True)\n",
       "        (conv1): Conv2d(928, 128, kernel_size=(1, 1), stride=(1, 1), bias=False)\n",
       "        (norm2): BatchNorm2d(128, eps=1e-05, momentum=0.1, affine=True, track_running_stats=True)\n",
       "        (relu2): ReLU(inplace=True)\n",
       "        (conv2): Conv2d(128, 32, kernel_size=(3, 3), stride=(1, 1), padding=(1, 1), bias=False)\n",
       "      )\n",
       "      (denselayer15): _DenseLayer(\n",
       "        (norm1): BatchNorm2d(960, eps=1e-05, momentum=0.1, affine=True, track_running_stats=True)\n",
       "        (relu1): ReLU(inplace=True)\n",
       "        (conv1): Conv2d(960, 128, kernel_size=(1, 1), stride=(1, 1), bias=False)\n",
       "        (norm2): BatchNorm2d(128, eps=1e-05, momentum=0.1, affine=True, track_running_stats=True)\n",
       "        (relu2): ReLU(inplace=True)\n",
       "        (conv2): Conv2d(128, 32, kernel_size=(3, 3), stride=(1, 1), padding=(1, 1), bias=False)\n",
       "      )\n",
       "      (denselayer16): _DenseLayer(\n",
       "        (norm1): BatchNorm2d(992, eps=1e-05, momentum=0.1, affine=True, track_running_stats=True)\n",
       "        (relu1): ReLU(inplace=True)\n",
       "        (conv1): Conv2d(992, 128, kernel_size=(1, 1), stride=(1, 1), bias=False)\n",
       "        (norm2): BatchNorm2d(128, eps=1e-05, momentum=0.1, affine=True, track_running_stats=True)\n",
       "        (relu2): ReLU(inplace=True)\n",
       "        (conv2): Conv2d(128, 32, kernel_size=(3, 3), stride=(1, 1), padding=(1, 1), bias=False)\n",
       "      )\n",
       "    )\n",
       "    (norm5): BatchNorm2d(1024, eps=1e-05, momentum=0.1, affine=True, track_running_stats=True)\n",
       "  )\n",
       "  (classifier): Linear(in_features=1024, out_features=4, bias=True)\n",
       ")"
      ]
     },
     "execution_count": 6,
     "metadata": {},
     "output_type": "execute_result"
    }
   ],
   "source": [
    "oracle.eval()"
   ]
  },
  {
   "cell_type": "code",
   "execution_count": 7,
   "id": "591203be-d31b-4e8f-8bce-925e19a70a76",
   "metadata": {},
   "outputs": [],
   "source": [
    "label_mapping = {'mimic': 0, 'chexpert': 1, 'padchest': 2, 'nih': 3}"
   ]
  },
  {
   "cell_type": "code",
   "execution_count": null,
   "id": "239fb51e-5fa5-430b-be79-9e7829ab8fba",
   "metadata": {},
   "outputs": [],
   "source": [
    "transform = torchvision.transforms.Compose([xrv.datasets.XRayCenterCrop(),\n",
    "                                            xrv.datasets.XRayResizer(224),\n",
    "                                            v2.ToDtype(torch.float32, scale=True),\n",
    "                                            v2.Normalize(mean=[0.485, 0.456, 0.406], std=[0.229, 0.224, 0.225]), \n",
    "                                            ])"
   ]
  },
  {
   "cell_type": "code",
   "execution_count": null,
   "id": "81c9df41-7f23-47d0-ac98-da39ae608bd0",
   "metadata": {},
   "outputs": [],
   "source": [
    "from torch.utils.data import Dataset, DataLoader\n",
    "class CXRDomain(Dataset):\n",
    "    def __init__(self, file_path, split, transform=None):\n",
    "        self.file_path = file_path \n",
    "        self.split = split \n",
    "        self.transform = transform \n",
    "        with open(self.file_path, \"rb\") as f: \n",
    "            prompt_files = pickle.load(f) \n",
    "        df = pd.concat([prompt_files['mimic'][split], prompt_files['chexpert'][split], \n",
    "                        prompt_files['padchest'][split], prompt_files['nih'][split]]).reset_index(drop=True)\n",
    "        self.label_mapping = {'mimic': 0, 'chexpert': 1, 'padchest': 2, 'nih': 3}\n",
    "        df['dataset_label'] = df['dataset_name'].map(self.label_mapping)\n",
    "        self.df = df\n",
    "        \n",
    "    def __len__(self): \n",
    "        return len(self.df)\n",
    "\n",
    "    def __getitem__(self, idx): \n",
    "        img_dirs = {\"mimic\": \"/data/healthy-ml/gobi1/data/MIMIC-CXR-JPG/files\", \n",
    "                    \"padchest\": \"/data/healthy-ml/gobi1/data/PadChest/images-224\", \n",
    "                    \"chexpert\": \"/data/healthy-ml/gobi1/data\", \n",
    "                    \"nih\": \"/data/healthy-ml/gobi1/data/ChestXray8/images\"}\n",
    "        \n",
    "        sample = self.df.iloc[idx]\n",
    "        img = cv2.imread(img_dirs[sample['dataset_name']] + \"/\" + sample['file_suffix'])\n",
    "        if self.transform: \n",
    "            img = self.transform(img) \n",
    "        return {'img': img, 'label': sample['dataset_label']}"
   ]
  },
  {
   "cell_type": "code",
   "execution_count": null,
   "id": "ae42de38-a3da-4ce8-a70d-0979ff450d6d",
   "metadata": {},
   "outputs": [],
   "source": [
    "test_ds = CXRDomain(\"cxr_prompt_files_base10000.pkl\", \"test\", transform)\n",
    "test_dataloader = DataLoader(test_ds, batch_size=16, shuffle=False)"
   ]
  },
  {
   "cell_type": "code",
   "execution_count": null,
   "id": "464d4cf3-30b6-497b-86ba-2d1e80c2e379",
   "metadata": {},
   "outputs": [],
   "source": [
    "oracle.eval()\n",
    "avg_loss = []\n",
    "task_outputs = []\n",
    "task_targets = []\n",
    "t = tqdm(test_dataloader)\n",
    "for batch_idx, sample in enumerate(t): \n",
    "    images, targets = sample['img'], sample['label']\n",
    "    images = torch.cat((images, images, images), 1)\n",
    "    images = images.to(\"cuda\")\n",
    "    targets = targets.to(\"cuda\")\n",
    "    with torch.no_grad():\n",
    "        outputs = oracle(images)\n",
    "\n",
    "    task_outputs.append(outputs.detach().cpu().numpy())\n",
    "    task_targets.append(targets.detach().cpu().numpy())\n",
    "    \n",
    "task_outputs = np.concatenate(task_outputs)\n",
    "task_targets = np.concatenate(task_targets)\n",
    "auc = MulticlassAUROC(num_classes=4)\n",
    "auc.update(torch.Tensor(task_outputs), torch.Tensor(task_targets))\n",
    "auc_result = auc.compute()\n",
    "print(auc_result)"
   ]
  },
  {
   "cell_type": "code",
   "execution_count": 12,
   "id": "b463085d-95a6-49d2-b0c8-e231fa80c293",
   "metadata": {},
   "outputs": [
    {
     "name": "stdout",
     "output_type": "stream",
     "text": [
      "Setting XRayResizer engine to cv2 could increase performance.\n"
     ]
    }
   ],
   "source": [
    "transform = torchvision.transforms.Compose([xrv.datasets.XRayCenterCrop(),\n",
    "                                            xrv.datasets.XRayResizer(224),\n",
    "                                            v2.ToDtype(torch.float32, scale=True),\n",
    "                                            v2.Normalize(mean=[0.485, 0.456, 0.406], std=[0.229, 0.224, 0.225]), \n",
    "                                            ])"
   ]
  },
  {
   "cell_type": "code",
   "execution_count": 8,
   "id": "1ef04275-26b4-44d5-8428-9629d2fe2c96",
   "metadata": {},
   "outputs": [],
   "source": [
    "from torch.utils.data import Dataset, DataLoader\n",
    "class CXRDomain(Dataset):\n",
    "    def __init__(self, file_path, split, transform=None):\n",
    "        self.file_path = file_path \n",
    "        self.split = split \n",
    "        self.transform = transform \n",
    "        with open(self.file_path, \"rb\") as f: \n",
    "            prompt_files = pickle.load(f) \n",
    "        df = pd.concat([prompt_files['mimic'][split], prompt_files['chexpert'][split], \n",
    "                        prompt_files['padchest'][split], prompt_files['nih'][split]]).reset_index(drop=True)\n",
    "        self.label_mapping = {'mimic': 0, 'chexpert': 1, 'padchest': 2, 'nih': 3}\n",
    "        df['dataset_label'] = df['dataset_name'].map(self.label_mapping)\n",
    "        self.df = df\n",
    "        \n",
    "    def __len__(self): \n",
    "        return len(self.df)\n",
    "\n",
    "    def __getitem__(self, idx): \n",
    "        img_dirs = {\"mimic\": \"/data/healthy-ml/gobi1/data/MIMIC-CXR-JPG/files\", \n",
    "                    \"padchest\": \"/data/healthy-ml/gobi1/data/PadChest/images-224\", \n",
    "                    \"chexpert\": \"/data/healthy-ml/gobi1/data\", \n",
    "                    \"nih\": \"/data/healthy-ml/gobi1/data/ChestXray8/images\"}\n",
    "        \n",
    "        sample = self.df.iloc[idx]\n",
    "        img = cv2.imread(img_dirs[sample['dataset_name']] + \"/\" + sample['file_suffix'])\n",
    "        if self.transform: \n",
    "            img = self.transform(img) \n",
    "        return {'img': img, 'label': sample['dataset_label']}"
   ]
  },
  {
   "cell_type": "code",
   "execution_count": 13,
   "id": "219b9610-44da-449e-b18c-ed48bc1d8492",
   "metadata": {},
   "outputs": [],
   "source": [
    "test_ds = CXRDomain(\"cxr_prompt_files_base10000.pkl\", \"test\", transform)\n",
    "test_dataloader = DataLoader(test_ds, batch_size=16, shuffle=False)"
   ]
  },
  {
   "cell_type": "code",
   "execution_count": 196,
   "id": "101a284e-7698-46b1-a20d-32beea97d7fa",
   "metadata": {},
   "outputs": [
    {
     "name": "stderr",
     "output_type": "stream",
     "text": [
      "100%|███████████████████████████████████████████████████████████████████████████████████████████████████| 2465/2465 [2:05:00<00:00,  3.04s/it]"
     ]
    },
    {
     "name": "stdout",
     "output_type": "stream",
     "text": [
      "tensor(0.8504)\n"
     ]
    },
    {
     "name": "stderr",
     "output_type": "stream",
     "text": [
      "\n"
     ]
    }
   ],
   "source": [
    "oracle.eval()\n",
    "avg_loss = []\n",
    "task_outputs = []\n",
    "task_targets = []\n",
    "t = tqdm(test_dataloader)\n",
    "for batch_idx, sample in enumerate(t): \n",
    "    images, targets = sample['img'], sample['label']\n",
    "    images = torch.cat((images, images, images), 1)\n",
    "    images = images.to(\"cuda\")\n",
    "    targets = targets.to(\"cuda\")\n",
    "    with torch.no_grad():\n",
    "        outputs = oracle(images)\n",
    "\n",
    "    task_outputs.append(outputs.detach().cpu().numpy())\n",
    "    task_targets.append(targets.detach().cpu().numpy())\n",
    "    \n",
    "task_outputs = np.concatenate(task_outputs)\n",
    "task_targets = np.concatenate(task_targets)\n",
    "auc = MulticlassAUROC(num_classes=4)\n",
    "auc.update(torch.Tensor(task_outputs), torch.Tensor(task_targets))\n",
    "auc_result = auc.compute()\n",
    "print(auc_result)"
   ]
  },
  {
   "cell_type": "markdown",
   "id": "ddd40339-7d1b-4523-962f-faa859cb9830",
   "metadata": {},
   "source": [
    "## Run"
   ]
  },
  {
   "cell_type": "code",
   "execution_count": 17,
   "id": "e3649fb5-6f2f-492c-8070-69c4dcd0d8ee",
   "metadata": {},
   "outputs": [
    {
     "name": "stdout",
     "output_type": "stream",
     "text": [
      "checkpoint 200\n"
     ]
    },
    {
     "name": "stderr",
     "output_type": "stream",
     "text": [
      "Keyword arguments {'dtype': torch.float16} are not expected by StableDiffusionPipeline and will be ignored.\n",
      "Loading pipeline components...: 100%|███████████████████████████████████████████████████████████████████████████| 7/7 [00:00<00:00,  9.92it/s]\n",
      "100%|█████████████████████████████████████████████████████████████████████████████████████████████████████████| 30/30 [00:10<00:00,  2.86it/s]\n",
      "100%|█████████████████████████████████████████████████████████████████████████████████████████████████████████| 30/30 [00:10<00:00,  2.83it/s]\n",
      "100%|█████████████████████████████████████████████████████████████████████████████████████████████████████████| 30/30 [00:10<00:00,  2.81it/s]\n",
      "Potential NSFW content was detected in one or more images. A black image will be returned instead. Try again with a different prompt and/or seed.\n",
      "100%|█████████████████████████████████████████████████████████████████████████████████████████████████████████| 30/30 [00:10<00:00,  2.80it/s]\n"
     ]
    },
    {
     "name": "stdout",
     "output_type": "stream",
     "text": [
      "tensor(0.3000)\n",
      "tensor(0.4000)\n",
      "checkpoint 400\n"
     ]
    },
    {
     "name": "stderr",
     "output_type": "stream",
     "text": [
      "Keyword arguments {'dtype': torch.float16} are not expected by StableDiffusionPipeline and will be ignored.\n",
      "Loading pipeline components...: 100%|███████████████████████████████████████████████████████████████████████████| 7/7 [00:00<00:00, 11.43it/s]\n",
      "100%|█████████████████████████████████████████████████████████████████████████████████████████████████████████| 30/30 [00:10<00:00,  2.84it/s]\n",
      "100%|█████████████████████████████████████████████████████████████████████████████████████████████████████████| 30/30 [00:10<00:00,  2.82it/s]\n",
      "100%|█████████████████████████████████████████████████████████████████████████████████████████████████████████| 30/30 [00:10<00:00,  2.80it/s]\n",
      "100%|█████████████████████████████████████████████████████████████████████████████████████████████████████████| 30/30 [00:10<00:00,  2.80it/s]\n"
     ]
    },
    {
     "name": "stdout",
     "output_type": "stream",
     "text": [
      "tensor(0.1000)\n",
      "tensor(0.4000)\n",
      "checkpoint 600\n"
     ]
    },
    {
     "name": "stderr",
     "output_type": "stream",
     "text": [
      "Keyword arguments {'dtype': torch.float16} are not expected by StableDiffusionPipeline and will be ignored.\n",
      "Loading pipeline components...: 100%|███████████████████████████████████████████████████████████████████████████| 7/7 [00:00<00:00,  9.12it/s]\n",
      "100%|█████████████████████████████████████████████████████████████████████████████████████████████████████████| 30/30 [00:10<00:00,  2.87it/s]\n",
      "100%|█████████████████████████████████████████████████████████████████████████████████████████████████████████| 30/30 [00:10<00:00,  2.84it/s]\n",
      "100%|█████████████████████████████████████████████████████████████████████████████████████████████████████████| 30/30 [00:10<00:00,  2.82it/s]\n",
      "100%|█████████████████████████████████████████████████████████████████████████████████████████████████████████| 30/30 [00:10<00:00,  2.81it/s]\n"
     ]
    },
    {
     "name": "stdout",
     "output_type": "stream",
     "text": [
      "tensor(0.1000)\n",
      "tensor(0.1000)\n",
      "checkpoint 800\n"
     ]
    },
    {
     "name": "stderr",
     "output_type": "stream",
     "text": [
      "Keyword arguments {'dtype': torch.float16} are not expected by StableDiffusionPipeline and will be ignored.\n",
      "Loading pipeline components...: 100%|███████████████████████████████████████████████████████████████████████████| 7/7 [00:00<00:00, 10.48it/s]\n",
      "100%|█████████████████████████████████████████████████████████████████████████████████████████████████████████| 30/30 [00:10<00:00,  2.86it/s]\n",
      "100%|█████████████████████████████████████████████████████████████████████████████████████████████████████████| 30/30 [00:10<00:00,  2.84it/s]\n",
      "100%|█████████████████████████████████████████████████████████████████████████████████████████████████████████| 30/30 [00:10<00:00,  2.81it/s]\n",
      "100%|█████████████████████████████████████████████████████████████████████████████████████████████████████████| 30/30 [00:10<00:00,  2.81it/s]\n"
     ]
    },
    {
     "name": "stdout",
     "output_type": "stream",
     "text": [
      "tensor(0.1000)\n",
      "tensor(0.1000)\n",
      "checkpoint 1000\n"
     ]
    },
    {
     "name": "stderr",
     "output_type": "stream",
     "text": [
      "Keyword arguments {'dtype': torch.float16} are not expected by StableDiffusionPipeline and will be ignored.\n",
      "Loading pipeline components...: 100%|███████████████████████████████████████████████████████████████████████████| 7/7 [00:00<00:00, 10.18it/s]\n",
      "100%|█████████████████████████████████████████████████████████████████████████████████████████████████████████| 30/30 [00:10<00:00,  2.83it/s]\n",
      "100%|█████████████████████████████████████████████████████████████████████████████████████████████████████████| 30/30 [00:10<00:00,  2.82it/s]\n",
      "100%|█████████████████████████████████████████████████████████████████████████████████████████████████████████| 30/30 [00:10<00:00,  2.81it/s]\n",
      "100%|█████████████████████████████████████████████████████████████████████████████████████████████████████████| 30/30 [00:10<00:00,  2.80it/s]\n"
     ]
    },
    {
     "name": "stdout",
     "output_type": "stream",
     "text": [
      "tensor(0.1000)\n",
      "tensor(0.6000)\n"
     ]
    }
   ],
   "source": [
    "num_images = 10\n",
    "checkpoints = np.arange(200, 1001, 200)\n",
    "model_id = \"runwayml/stable-diffusion-v1-5\"\n",
    "\n",
    "keyword = \"cxr_transfer_sd_mimic_nih_1000_balanced\"\n",
    "condition_prompts = [\"Cardiomegaly, Pneumonia\", \"No Findings\"]\n",
    "\n",
    "results = {}\n",
    "for checkpoint in checkpoints:\n",
    "    results[checkpoint] = {}\n",
    "    print(\"checkpoint {}\".format(checkpoint))\n",
    "    \n",
    "    file_prefix = f\"/mnt/scratch-lids/scratch/qixuanj/{keyword}/checkpoint-{checkpoint}\"\n",
    "    unet = UNet2DConditionModel.from_pretrained(f\"{file_prefix}/unet\")\n",
    "    \n",
    "    pipe = DiffusionPipeline.from_pretrained(model_id, unet=unet, dtype=torch.float16, safety_checker=None)\n",
    "    pipe.to(\"cuda\")\n",
    "\n",
    "    source_dataset = keyword.split(\"_\")[3]\n",
    "    target_dataset = keyword.split(\"_\")[4]\n",
    "\n",
    "\n",
    "    # Source \n",
    "    all_labels = []\n",
    "    all_outputs = []\n",
    "    for i, condition in enumerate(condition_prompts): \n",
    "        prompt = f\"a radiograph from dataset {source_dataset} with conditions {condition}\"\n",
    "        images = pipe(prompt=prompt, \n",
    "                      strength=0.9, guidance_scale=7.5, num_inference_steps=30, \n",
    "                      num_images_per_prompt=num_images).images\n",
    "        images_t = []\n",
    "        for image in images: \n",
    "            image = torch.Tensor(transform(np.array(image)))\n",
    "            image = torch.cat((image, image, image), 0)\n",
    "            images_t.append(image)\n",
    "        images_t = torch.stack(images_t)\n",
    "        images_t = images_t.to(\"cuda\")\n",
    "        \n",
    "        with torch.no_grad():\n",
    "            outputs = oracle(images_t)\n",
    "        \n",
    "        labels = np.repeat(label_mapping[source_dataset], num_images)\n",
    "    \n",
    "        all_outputs.append(outputs.detach().cpu().numpy())\n",
    "        all_labels.append(labels)\n",
    "    all_outputs = np.concatenate(all_outputs)\n",
    "    all_labels = np.concatenate(all_labels)\n",
    "    \n",
    "    # auc = MulticlassAUROC(num_classes=4)\n",
    "    # auc.update(torch.Tensor(all_outputs), torch.Tensor(all_labels))\n",
    "    # source_auc_result = auc.compute()\n",
    "    \n",
    "    acc = MulticlassAccuracy()\n",
    "    acc.update(torch.Tensor(all_outputs), torch.Tensor(all_labels))\n",
    "    source_auc_result = acc.compute().item()\n",
    "    \n",
    "    # Target \n",
    "    all_labels = []\n",
    "    all_outputs = []\n",
    "    for i, condition in enumerate(condition_prompts): \n",
    "        prompt = f\"a radiograph from dataset {target_dataset} with conditions {condition}\"\n",
    "        images = pipe(prompt=prompt, \n",
    "                      strength=0.9, guidance_scale=7.5, num_inference_steps=30, \n",
    "                      num_images_per_prompt=num_images).images\n",
    "        images_t = []\n",
    "        for image in images: \n",
    "            image = torch.Tensor(transform(np.array(image)))\n",
    "            image = torch.cat((image, image, image), 0)\n",
    "            images_t.append(image)\n",
    "        images_t = torch.stack(images_t)\n",
    "        images_t = images_t.to(\"cuda\")\n",
    "        \n",
    "        with torch.no_grad():\n",
    "            outputs = oracle(images_t)\n",
    "        \n",
    "        labels = np.repeat(label_mapping[target_dataset], num_images)\n",
    "    \n",
    "        all_outputs.append(outputs.detach().cpu().numpy())\n",
    "        all_labels.append(labels)\n",
    "    all_outputs = np.concatenate(all_outputs)\n",
    "    all_labels = np.concatenate(all_labels)\n",
    "    \n",
    "    # auc = MulticlassAUROC(num_classes=4)\n",
    "    # auc.update(torch.Tensor(all_outputs), torch.Tensor(all_labels))\n",
    "    # target_auc_result = auc.compute()\n",
    "\n",
    "    acc = MulticlassAccuracy()\n",
    "    acc.update(torch.Tensor(all_outputs), torch.Tensor(all_labels))\n",
    "    target_auc_result = acc.compute().item()\n",
    "\n",
    "    results[checkpoint]['source_acc'] = source_auc_result\n",
    "    results[checkpoint]['target_acc'] = target_auc_result\n",
    "    print(source_auc_result) \n",
    "    print(target_auc_result)\n",
    "    \n",
    "result_dir = f\"/mnt/scratch-lids/scratch/qixuanj/{keyword}/eval\"\n",
    "if not os.path.exists(result_dir): \n",
    "    os.makedirs(result_dir)\n",
    "with open(result_dir + \"/checkpoint_oracle_acc.pkl\", \"wb\") as f: \n",
    "    pickle.dump(results, f) "
   ]
  },
  {
   "cell_type": "code",
   "execution_count": 184,
   "id": "4a255c87-32d0-4adf-846f-2db977e2efa2",
   "metadata": {},
   "outputs": [
    {
     "name": "stdout",
     "output_type": "stream",
     "text": [
      "checkpoint 4500\n"
     ]
    },
    {
     "name": "stderr",
     "output_type": "stream",
     "text": [
      "Keyword arguments {'dtype': torch.float16} are not expected by StableDiffusionPipeline and will be ignored.\n",
      "Loading pipeline components...: 100%|███████████████████████████████████████████████████████████████████████████| 7/7 [00:00<00:00,  7.33it/s]\n",
      "100%|█████████████████████████████████████████████████████████████████████████████████████████████████████████| 30/30 [00:20<00:00,  1.50it/s]\n",
      "100%|█████████████████████████████████████████████████████████████████████████████████████████████████████████| 30/30 [00:20<00:00,  1.48it/s]\n"
     ]
    },
    {
     "name": "stdout",
     "output_type": "stream",
     "text": [
      "tensor(0.5000)\n"
     ]
    }
   ],
   "source": [
    "# Benchmark baseline model \n",
    "\n",
    "num_images = 10\n",
    "checkpoints = [4500]\n",
    "model_id = \"runwayml/stable-diffusion-v1-5\"\n",
    "\n",
    "keyword = \"cxr_finetune_sd_chexpert_base\"\n",
    "condition_prompts = [\"Cardiomegaly, Pneumonia\", \"No Findings\"]\n",
    "\n",
    "results = {}\n",
    "for checkpoint in checkpoints:\n",
    "    results[checkpoint] = {}\n",
    "    print(\"checkpoint {}\".format(checkpoint))\n",
    "    \n",
    "    file_prefix = f\"/mnt/scratch-lids/scratch/qixuanj/{keyword}/checkpoint-{checkpoint}\"\n",
    "    unet = UNet2DConditionModel.from_pretrained(f\"{file_prefix}/unet\")\n",
    "    \n",
    "    pipe = DiffusionPipeline.from_pretrained(model_id, unet=unet, dtype=torch.float16)\n",
    "    pipe.to(\"cuda\")\n",
    "\n",
    "    source_dataset = keyword.split(\"_\")[3]\n",
    "\n",
    "    # Source \n",
    "    all_labels = []\n",
    "    all_outputs = []\n",
    "    for i, condition in enumerate(condition_prompts): \n",
    "        prompt = f\"a radiograph from dataset {source_dataset} with conditions {condition}\"\n",
    "        images = pipe(prompt=prompt, \n",
    "                      strength=0.9, guidance_scale=7.5, num_inference_steps=30, \n",
    "                      num_images_per_prompt=num_images).images\n",
    "        images_t = []\n",
    "        for image in images: \n",
    "            image = torch.Tensor(transform(np.array(image)))\n",
    "            image = torch.cat((image, image, image), 0)\n",
    "            images_t.append(image)\n",
    "        images_t = torch.stack(images_t)\n",
    "        images_t = images_t.to(\"cuda\")\n",
    "        \n",
    "        with torch.no_grad():\n",
    "            outputs = oracle(images_t)\n",
    "        \n",
    "        labels = np.repeat(label_mapping[source_dataset], num_images)\n",
    "    \n",
    "        all_outputs.append(outputs.detach().cpu().numpy())\n",
    "        all_labels.append(labels)\n",
    "    all_outputs = np.concatenate(all_outputs)\n",
    "    all_labels = np.concatenate(all_labels)\n",
    "    \n",
    "    auc = MulticlassAUROC(num_classes=4)\n",
    "    auc.update(torch.Tensor(all_outputs), torch.Tensor(all_labels))\n",
    "    source_auc_result = auc.compute()\n",
    "\n",
    "    results[checkpoint]['source_auc'] = source_auc_result\n",
    "    print(source_auc_result) \n",
    "    break"
   ]
  },
  {
   "cell_type": "markdown",
   "id": "50df4df0-081b-4cf1-a3fc-542f209b8cdd",
   "metadata": {},
   "source": [
    "# Waterbirds Classifier evaluation"
   ]
  },
  {
   "cell_type": "code",
   "execution_count": 264,
   "id": "4212817c-6ce0-441b-ab0d-3fee87219f83",
   "metadata": {},
   "outputs": [],
   "source": [
    "from torcheval.metrics import BinaryAUROC, BinaryAccuracy, MulticlassAccuracy"
   ]
  },
  {
   "cell_type": "code",
   "execution_count": 30,
   "id": "47b2f5a9-50ed-46f9-acec-9324f075df86",
   "metadata": {},
   "outputs": [],
   "source": [
    "model = torch.load(\"waterbirds_results/oracle/model.pt\")"
   ]
  },
  {
   "cell_type": "code",
   "execution_count": 31,
   "id": "6c1b2c7e-4a05-42e9-8f3e-b0bf942a60f1",
   "metadata": {},
   "outputs": [
    {
     "data": {
      "text/plain": [
       "ResNet(\n",
       "  (conv1): Conv2d(3, 64, kernel_size=(7, 7), stride=(2, 2), padding=(3, 3), bias=False)\n",
       "  (bn1): BatchNorm2d(64, eps=1e-05, momentum=0.1, affine=True, track_running_stats=True)\n",
       "  (relu): ReLU(inplace=True)\n",
       "  (maxpool): MaxPool2d(kernel_size=3, stride=2, padding=1, dilation=1, ceil_mode=False)\n",
       "  (layer1): Sequential(\n",
       "    (0): Bottleneck(\n",
       "      (conv1): Conv2d(64, 64, kernel_size=(1, 1), stride=(1, 1), bias=False)\n",
       "      (bn1): BatchNorm2d(64, eps=1e-05, momentum=0.1, affine=True, track_running_stats=True)\n",
       "      (conv2): Conv2d(64, 64, kernel_size=(3, 3), stride=(1, 1), padding=(1, 1), bias=False)\n",
       "      (bn2): BatchNorm2d(64, eps=1e-05, momentum=0.1, affine=True, track_running_stats=True)\n",
       "      (conv3): Conv2d(64, 256, kernel_size=(1, 1), stride=(1, 1), bias=False)\n",
       "      (bn3): BatchNorm2d(256, eps=1e-05, momentum=0.1, affine=True, track_running_stats=True)\n",
       "      (relu): ReLU(inplace=True)\n",
       "      (downsample): Sequential(\n",
       "        (0): Conv2d(64, 256, kernel_size=(1, 1), stride=(1, 1), bias=False)\n",
       "        (1): BatchNorm2d(256, eps=1e-05, momentum=0.1, affine=True, track_running_stats=True)\n",
       "      )\n",
       "    )\n",
       "    (1): Bottleneck(\n",
       "      (conv1): Conv2d(256, 64, kernel_size=(1, 1), stride=(1, 1), bias=False)\n",
       "      (bn1): BatchNorm2d(64, eps=1e-05, momentum=0.1, affine=True, track_running_stats=True)\n",
       "      (conv2): Conv2d(64, 64, kernel_size=(3, 3), stride=(1, 1), padding=(1, 1), bias=False)\n",
       "      (bn2): BatchNorm2d(64, eps=1e-05, momentum=0.1, affine=True, track_running_stats=True)\n",
       "      (conv3): Conv2d(64, 256, kernel_size=(1, 1), stride=(1, 1), bias=False)\n",
       "      (bn3): BatchNorm2d(256, eps=1e-05, momentum=0.1, affine=True, track_running_stats=True)\n",
       "      (relu): ReLU(inplace=True)\n",
       "    )\n",
       "    (2): Bottleneck(\n",
       "      (conv1): Conv2d(256, 64, kernel_size=(1, 1), stride=(1, 1), bias=False)\n",
       "      (bn1): BatchNorm2d(64, eps=1e-05, momentum=0.1, affine=True, track_running_stats=True)\n",
       "      (conv2): Conv2d(64, 64, kernel_size=(3, 3), stride=(1, 1), padding=(1, 1), bias=False)\n",
       "      (bn2): BatchNorm2d(64, eps=1e-05, momentum=0.1, affine=True, track_running_stats=True)\n",
       "      (conv3): Conv2d(64, 256, kernel_size=(1, 1), stride=(1, 1), bias=False)\n",
       "      (bn3): BatchNorm2d(256, eps=1e-05, momentum=0.1, affine=True, track_running_stats=True)\n",
       "      (relu): ReLU(inplace=True)\n",
       "    )\n",
       "  )\n",
       "  (layer2): Sequential(\n",
       "    (0): Bottleneck(\n",
       "      (conv1): Conv2d(256, 128, kernel_size=(1, 1), stride=(1, 1), bias=False)\n",
       "      (bn1): BatchNorm2d(128, eps=1e-05, momentum=0.1, affine=True, track_running_stats=True)\n",
       "      (conv2): Conv2d(128, 128, kernel_size=(3, 3), stride=(2, 2), padding=(1, 1), bias=False)\n",
       "      (bn2): BatchNorm2d(128, eps=1e-05, momentum=0.1, affine=True, track_running_stats=True)\n",
       "      (conv3): Conv2d(128, 512, kernel_size=(1, 1), stride=(1, 1), bias=False)\n",
       "      (bn3): BatchNorm2d(512, eps=1e-05, momentum=0.1, affine=True, track_running_stats=True)\n",
       "      (relu): ReLU(inplace=True)\n",
       "      (downsample): Sequential(\n",
       "        (0): Conv2d(256, 512, kernel_size=(1, 1), stride=(2, 2), bias=False)\n",
       "        (1): BatchNorm2d(512, eps=1e-05, momentum=0.1, affine=True, track_running_stats=True)\n",
       "      )\n",
       "    )\n",
       "    (1): Bottleneck(\n",
       "      (conv1): Conv2d(512, 128, kernel_size=(1, 1), stride=(1, 1), bias=False)\n",
       "      (bn1): BatchNorm2d(128, eps=1e-05, momentum=0.1, affine=True, track_running_stats=True)\n",
       "      (conv2): Conv2d(128, 128, kernel_size=(3, 3), stride=(1, 1), padding=(1, 1), bias=False)\n",
       "      (bn2): BatchNorm2d(128, eps=1e-05, momentum=0.1, affine=True, track_running_stats=True)\n",
       "      (conv3): Conv2d(128, 512, kernel_size=(1, 1), stride=(1, 1), bias=False)\n",
       "      (bn3): BatchNorm2d(512, eps=1e-05, momentum=0.1, affine=True, track_running_stats=True)\n",
       "      (relu): ReLU(inplace=True)\n",
       "    )\n",
       "    (2): Bottleneck(\n",
       "      (conv1): Conv2d(512, 128, kernel_size=(1, 1), stride=(1, 1), bias=False)\n",
       "      (bn1): BatchNorm2d(128, eps=1e-05, momentum=0.1, affine=True, track_running_stats=True)\n",
       "      (conv2): Conv2d(128, 128, kernel_size=(3, 3), stride=(1, 1), padding=(1, 1), bias=False)\n",
       "      (bn2): BatchNorm2d(128, eps=1e-05, momentum=0.1, affine=True, track_running_stats=True)\n",
       "      (conv3): Conv2d(128, 512, kernel_size=(1, 1), stride=(1, 1), bias=False)\n",
       "      (bn3): BatchNorm2d(512, eps=1e-05, momentum=0.1, affine=True, track_running_stats=True)\n",
       "      (relu): ReLU(inplace=True)\n",
       "    )\n",
       "    (3): Bottleneck(\n",
       "      (conv1): Conv2d(512, 128, kernel_size=(1, 1), stride=(1, 1), bias=False)\n",
       "      (bn1): BatchNorm2d(128, eps=1e-05, momentum=0.1, affine=True, track_running_stats=True)\n",
       "      (conv2): Conv2d(128, 128, kernel_size=(3, 3), stride=(1, 1), padding=(1, 1), bias=False)\n",
       "      (bn2): BatchNorm2d(128, eps=1e-05, momentum=0.1, affine=True, track_running_stats=True)\n",
       "      (conv3): Conv2d(128, 512, kernel_size=(1, 1), stride=(1, 1), bias=False)\n",
       "      (bn3): BatchNorm2d(512, eps=1e-05, momentum=0.1, affine=True, track_running_stats=True)\n",
       "      (relu): ReLU(inplace=True)\n",
       "    )\n",
       "  )\n",
       "  (layer3): Sequential(\n",
       "    (0): Bottleneck(\n",
       "      (conv1): Conv2d(512, 256, kernel_size=(1, 1), stride=(1, 1), bias=False)\n",
       "      (bn1): BatchNorm2d(256, eps=1e-05, momentum=0.1, affine=True, track_running_stats=True)\n",
       "      (conv2): Conv2d(256, 256, kernel_size=(3, 3), stride=(2, 2), padding=(1, 1), bias=False)\n",
       "      (bn2): BatchNorm2d(256, eps=1e-05, momentum=0.1, affine=True, track_running_stats=True)\n",
       "      (conv3): Conv2d(256, 1024, kernel_size=(1, 1), stride=(1, 1), bias=False)\n",
       "      (bn3): BatchNorm2d(1024, eps=1e-05, momentum=0.1, affine=True, track_running_stats=True)\n",
       "      (relu): ReLU(inplace=True)\n",
       "      (downsample): Sequential(\n",
       "        (0): Conv2d(512, 1024, kernel_size=(1, 1), stride=(2, 2), bias=False)\n",
       "        (1): BatchNorm2d(1024, eps=1e-05, momentum=0.1, affine=True, track_running_stats=True)\n",
       "      )\n",
       "    )\n",
       "    (1): Bottleneck(\n",
       "      (conv1): Conv2d(1024, 256, kernel_size=(1, 1), stride=(1, 1), bias=False)\n",
       "      (bn1): BatchNorm2d(256, eps=1e-05, momentum=0.1, affine=True, track_running_stats=True)\n",
       "      (conv2): Conv2d(256, 256, kernel_size=(3, 3), stride=(1, 1), padding=(1, 1), bias=False)\n",
       "      (bn2): BatchNorm2d(256, eps=1e-05, momentum=0.1, affine=True, track_running_stats=True)\n",
       "      (conv3): Conv2d(256, 1024, kernel_size=(1, 1), stride=(1, 1), bias=False)\n",
       "      (bn3): BatchNorm2d(1024, eps=1e-05, momentum=0.1, affine=True, track_running_stats=True)\n",
       "      (relu): ReLU(inplace=True)\n",
       "    )\n",
       "    (2): Bottleneck(\n",
       "      (conv1): Conv2d(1024, 256, kernel_size=(1, 1), stride=(1, 1), bias=False)\n",
       "      (bn1): BatchNorm2d(256, eps=1e-05, momentum=0.1, affine=True, track_running_stats=True)\n",
       "      (conv2): Conv2d(256, 256, kernel_size=(3, 3), stride=(1, 1), padding=(1, 1), bias=False)\n",
       "      (bn2): BatchNorm2d(256, eps=1e-05, momentum=0.1, affine=True, track_running_stats=True)\n",
       "      (conv3): Conv2d(256, 1024, kernel_size=(1, 1), stride=(1, 1), bias=False)\n",
       "      (bn3): BatchNorm2d(1024, eps=1e-05, momentum=0.1, affine=True, track_running_stats=True)\n",
       "      (relu): ReLU(inplace=True)\n",
       "    )\n",
       "    (3): Bottleneck(\n",
       "      (conv1): Conv2d(1024, 256, kernel_size=(1, 1), stride=(1, 1), bias=False)\n",
       "      (bn1): BatchNorm2d(256, eps=1e-05, momentum=0.1, affine=True, track_running_stats=True)\n",
       "      (conv2): Conv2d(256, 256, kernel_size=(3, 3), stride=(1, 1), padding=(1, 1), bias=False)\n",
       "      (bn2): BatchNorm2d(256, eps=1e-05, momentum=0.1, affine=True, track_running_stats=True)\n",
       "      (conv3): Conv2d(256, 1024, kernel_size=(1, 1), stride=(1, 1), bias=False)\n",
       "      (bn3): BatchNorm2d(1024, eps=1e-05, momentum=0.1, affine=True, track_running_stats=True)\n",
       "      (relu): ReLU(inplace=True)\n",
       "    )\n",
       "    (4): Bottleneck(\n",
       "      (conv1): Conv2d(1024, 256, kernel_size=(1, 1), stride=(1, 1), bias=False)\n",
       "      (bn1): BatchNorm2d(256, eps=1e-05, momentum=0.1, affine=True, track_running_stats=True)\n",
       "      (conv2): Conv2d(256, 256, kernel_size=(3, 3), stride=(1, 1), padding=(1, 1), bias=False)\n",
       "      (bn2): BatchNorm2d(256, eps=1e-05, momentum=0.1, affine=True, track_running_stats=True)\n",
       "      (conv3): Conv2d(256, 1024, kernel_size=(1, 1), stride=(1, 1), bias=False)\n",
       "      (bn3): BatchNorm2d(1024, eps=1e-05, momentum=0.1, affine=True, track_running_stats=True)\n",
       "      (relu): ReLU(inplace=True)\n",
       "    )\n",
       "    (5): Bottleneck(\n",
       "      (conv1): Conv2d(1024, 256, kernel_size=(1, 1), stride=(1, 1), bias=False)\n",
       "      (bn1): BatchNorm2d(256, eps=1e-05, momentum=0.1, affine=True, track_running_stats=True)\n",
       "      (conv2): Conv2d(256, 256, kernel_size=(3, 3), stride=(1, 1), padding=(1, 1), bias=False)\n",
       "      (bn2): BatchNorm2d(256, eps=1e-05, momentum=0.1, affine=True, track_running_stats=True)\n",
       "      (conv3): Conv2d(256, 1024, kernel_size=(1, 1), stride=(1, 1), bias=False)\n",
       "      (bn3): BatchNorm2d(1024, eps=1e-05, momentum=0.1, affine=True, track_running_stats=True)\n",
       "      (relu): ReLU(inplace=True)\n",
       "    )\n",
       "  )\n",
       "  (layer4): Sequential(\n",
       "    (0): Bottleneck(\n",
       "      (conv1): Conv2d(1024, 512, kernel_size=(1, 1), stride=(1, 1), bias=False)\n",
       "      (bn1): BatchNorm2d(512, eps=1e-05, momentum=0.1, affine=True, track_running_stats=True)\n",
       "      (conv2): Conv2d(512, 512, kernel_size=(3, 3), stride=(2, 2), padding=(1, 1), bias=False)\n",
       "      (bn2): BatchNorm2d(512, eps=1e-05, momentum=0.1, affine=True, track_running_stats=True)\n",
       "      (conv3): Conv2d(512, 2048, kernel_size=(1, 1), stride=(1, 1), bias=False)\n",
       "      (bn3): BatchNorm2d(2048, eps=1e-05, momentum=0.1, affine=True, track_running_stats=True)\n",
       "      (relu): ReLU(inplace=True)\n",
       "      (downsample): Sequential(\n",
       "        (0): Conv2d(1024, 2048, kernel_size=(1, 1), stride=(2, 2), bias=False)\n",
       "        (1): BatchNorm2d(2048, eps=1e-05, momentum=0.1, affine=True, track_running_stats=True)\n",
       "      )\n",
       "    )\n",
       "    (1): Bottleneck(\n",
       "      (conv1): Conv2d(2048, 512, kernel_size=(1, 1), stride=(1, 1), bias=False)\n",
       "      (bn1): BatchNorm2d(512, eps=1e-05, momentum=0.1, affine=True, track_running_stats=True)\n",
       "      (conv2): Conv2d(512, 512, kernel_size=(3, 3), stride=(1, 1), padding=(1, 1), bias=False)\n",
       "      (bn2): BatchNorm2d(512, eps=1e-05, momentum=0.1, affine=True, track_running_stats=True)\n",
       "      (conv3): Conv2d(512, 2048, kernel_size=(1, 1), stride=(1, 1), bias=False)\n",
       "      (bn3): BatchNorm2d(2048, eps=1e-05, momentum=0.1, affine=True, track_running_stats=True)\n",
       "      (relu): ReLU(inplace=True)\n",
       "    )\n",
       "    (2): Bottleneck(\n",
       "      (conv1): Conv2d(2048, 512, kernel_size=(1, 1), stride=(1, 1), bias=False)\n",
       "      (bn1): BatchNorm2d(512, eps=1e-05, momentum=0.1, affine=True, track_running_stats=True)\n",
       "      (conv2): Conv2d(512, 512, kernel_size=(3, 3), stride=(1, 1), padding=(1, 1), bias=False)\n",
       "      (bn2): BatchNorm2d(512, eps=1e-05, momentum=0.1, affine=True, track_running_stats=True)\n",
       "      (conv3): Conv2d(512, 2048, kernel_size=(1, 1), stride=(1, 1), bias=False)\n",
       "      (bn3): BatchNorm2d(2048, eps=1e-05, momentum=0.1, affine=True, track_running_stats=True)\n",
       "      (relu): ReLU(inplace=True)\n",
       "    )\n",
       "  )\n",
       "  (avgpool): AdaptiveAvgPool2d(output_size=(1, 1))\n",
       "  (fc): Linear(in_features=2048, out_features=1, bias=True)\n",
       ")"
      ]
     },
     "execution_count": 31,
     "metadata": {},
     "output_type": "execute_result"
    }
   ],
   "source": [
    "model.to(\"cuda\")\n",
    "model.eval()"
   ]
  },
  {
   "cell_type": "code",
   "execution_count": 267,
   "id": "c12b7528-e0c9-4613-a924-bdcf167970af",
   "metadata": {},
   "outputs": [],
   "source": [
    "from diffusers import StableDiffusionPipeline\n",
    "from diffusers import DiffusionPipeline, UNet2DConditionModel"
   ]
  },
  {
   "cell_type": "code",
   "execution_count": 36,
   "id": "3fd209f9-1b63-47a7-8aeb-fdd12a80720e",
   "metadata": {},
   "outputs": [],
   "source": [
    "# y = 0 (landbird), y = 1 (waterbird)\n",
    "transform = torchvision.transforms.Compose([v2.CenterCrop(224),\n",
    "                                            v2.RandomHorizontalFlip(),\n",
    "                                            v2.ToTensor(),\n",
    "                                            v2.Normalize(mean=[0.485, 0.456, 0.406], std=[0.229, 0.224, 0.225]), \n",
    "                                            ])\n",
    "sigmoid = torch.nn.Sigmoid()"
   ]
  },
  {
   "cell_type": "code",
   "execution_count": 269,
   "id": "6fc2d797-abc0-4a62-9629-ce4153fc2953",
   "metadata": {
    "scrolled": true
   },
   "outputs": [
    {
     "name": "stderr",
     "output_type": "stream",
     "text": [
      "Keyword arguments {'dtype': torch.bfloat16} are not expected by StableDiffusionPipeline and will be ignored.\n",
      "Loading pipeline components...: 100%|███████████████████████████████████████████████████████████████████████████| 6/6 [00:00<00:00,  9.88it/s]\n",
      "You have disabled the safety checker for <class 'diffusers.pipelines.stable_diffusion.pipeline_stable_diffusion.StableDiffusionPipeline'> by passing `safety_checker=None`. Ensure that you abide to the conditions of the Stable Diffusion license and do not expose unfiltered results in services or applications open to the public. Both the diffusers team and Hugging Face strongly recommend to keep the safety filter enabled in all public facing circumstances, disabling it only for use-cases that involve analyzing network behavior or auditing its results. For more information, please have a look at https://github.com/huggingface/diffusers/pull/254 .\n",
      "100%|█████████████████████████████████████████████████████████████████████████████████████████████████████████| 50/50 [00:33<00:00,  1.50it/s]\n",
      "100%|█████████████████████████████████████████████████████████████████████████████████████████████████████████| 50/50 [00:33<00:00,  1.48it/s]\n",
      "100%|█████████████████████████████████████████████████████████████████████████████████████████████████████████| 50/50 [00:33<00:00,  1.47it/s]\n",
      "100%|█████████████████████████████████████████████████████████████████████████████████████████████████████████| 50/50 [00:34<00:00,  1.47it/s]\n",
      "100%|█████████████████████████████████████████████████████████████████████████████████████████████████████████| 50/50 [00:34<00:00,  1.47it/s]\n",
      "100%|█████████████████████████████████████████████████████████████████████████████████████████████████████████| 50/50 [00:34<00:00,  1.47it/s]\n"
     ]
    },
    {
     "name": "stdout",
     "output_type": "stream",
     "text": [
      "[tensor(0.9000), tensor(0.5000), tensor(0.5000), tensor(0.1000), tensor(0.5000), tensor(0.9000)]\n",
      "0.56666666\n"
     ]
    },
    {
     "name": "stderr",
     "output_type": "stream",
     "text": [
      "Keyword arguments {'dtype': torch.bfloat16} are not expected by StableDiffusionPipeline and will be ignored.\n",
      "Loading pipeline components...: 100%|███████████████████████████████████████████████████████████████████████████| 6/6 [00:00<00:00,  9.92it/s]\n",
      "You have disabled the safety checker for <class 'diffusers.pipelines.stable_diffusion.pipeline_stable_diffusion.StableDiffusionPipeline'> by passing `safety_checker=None`. Ensure that you abide to the conditions of the Stable Diffusion license and do not expose unfiltered results in services or applications open to the public. Both the diffusers team and Hugging Face strongly recommend to keep the safety filter enabled in all public facing circumstances, disabling it only for use-cases that involve analyzing network behavior or auditing its results. For more information, please have a look at https://github.com/huggingface/diffusers/pull/254 .\n",
      "100%|█████████████████████████████████████████████████████████████████████████████████████████████████████████| 50/50 [00:33<00:00,  1.50it/s]\n",
      "100%|█████████████████████████████████████████████████████████████████████████████████████████████████████████| 50/50 [00:33<00:00,  1.48it/s]\n",
      "100%|█████████████████████████████████████████████████████████████████████████████████████████████████████████| 50/50 [00:33<00:00,  1.48it/s]\n",
      "100%|█████████████████████████████████████████████████████████████████████████████████████████████████████████| 50/50 [00:33<00:00,  1.47it/s]\n",
      "100%|█████████████████████████████████████████████████████████████████████████████████████████████████████████| 50/50 [00:33<00:00,  1.47it/s]\n",
      "100%|█████████████████████████████████████████████████████████████████████████████████████████████████████████| 50/50 [00:34<00:00,  1.47it/s]\n"
     ]
    },
    {
     "name": "stdout",
     "output_type": "stream",
     "text": [
      "[tensor(0.9000), tensor(0.6000), tensor(0.8000), tensor(0.5000), tensor(0.1000), tensor(1.)]\n",
      "0.65\n"
     ]
    },
    {
     "name": "stderr",
     "output_type": "stream",
     "text": [
      "Keyword arguments {'dtype': torch.bfloat16} are not expected by StableDiffusionPipeline and will be ignored.\n",
      "Loading pipeline components...: 100%|███████████████████████████████████████████████████████████████████████████| 6/6 [00:00<00:00,  9.50it/s]\n",
      "You have disabled the safety checker for <class 'diffusers.pipelines.stable_diffusion.pipeline_stable_diffusion.StableDiffusionPipeline'> by passing `safety_checker=None`. Ensure that you abide to the conditions of the Stable Diffusion license and do not expose unfiltered results in services or applications open to the public. Both the diffusers team and Hugging Face strongly recommend to keep the safety filter enabled in all public facing circumstances, disabling it only for use-cases that involve analyzing network behavior or auditing its results. For more information, please have a look at https://github.com/huggingface/diffusers/pull/254 .\n",
      "100%|█████████████████████████████████████████████████████████████████████████████████████████████████████████| 50/50 [00:33<00:00,  1.51it/s]\n",
      "100%|█████████████████████████████████████████████████████████████████████████████████████████████████████████| 50/50 [00:33<00:00,  1.49it/s]\n",
      "100%|█████████████████████████████████████████████████████████████████████████████████████████████████████████| 50/50 [00:33<00:00,  1.48it/s]\n",
      "100%|█████████████████████████████████████████████████████████████████████████████████████████████████████████| 50/50 [00:33<00:00,  1.48it/s]\n",
      "100%|█████████████████████████████████████████████████████████████████████████████████████████████████████████| 50/50 [00:33<00:00,  1.47it/s]\n",
      "100%|█████████████████████████████████████████████████████████████████████████████████████████████████████████| 50/50 [00:33<00:00,  1.47it/s]\n"
     ]
    },
    {
     "name": "stdout",
     "output_type": "stream",
     "text": [
      "[tensor(0.8000), tensor(0.6000), tensor(0.6000), tensor(0.4000), tensor(0.4000), tensor(1.)]\n",
      "0.6333334\n"
     ]
    },
    {
     "name": "stderr",
     "output_type": "stream",
     "text": [
      "Keyword arguments {'dtype': torch.bfloat16} are not expected by StableDiffusionPipeline and will be ignored.\n",
      "Loading pipeline components...: 100%|███████████████████████████████████████████████████████████████████████████| 6/6 [00:00<00:00, 11.54it/s]\n",
      "You have disabled the safety checker for <class 'diffusers.pipelines.stable_diffusion.pipeline_stable_diffusion.StableDiffusionPipeline'> by passing `safety_checker=None`. Ensure that you abide to the conditions of the Stable Diffusion license and do not expose unfiltered results in services or applications open to the public. Both the diffusers team and Hugging Face strongly recommend to keep the safety filter enabled in all public facing circumstances, disabling it only for use-cases that involve analyzing network behavior or auditing its results. For more information, please have a look at https://github.com/huggingface/diffusers/pull/254 .\n",
      "100%|█████████████████████████████████████████████████████████████████████████████████████████████████████████| 50/50 [00:33<00:00,  1.47it/s]\n",
      "100%|█████████████████████████████████████████████████████████████████████████████████████████████████████████| 50/50 [00:33<00:00,  1.47it/s]\n",
      "100%|█████████████████████████████████████████████████████████████████████████████████████████████████████████| 50/50 [00:34<00:00,  1.47it/s]\n",
      "100%|█████████████████████████████████████████████████████████████████████████████████████████████████████████| 50/50 [00:34<00:00,  1.47it/s]\n",
      "100%|█████████████████████████████████████████████████████████████████████████████████████████████████████████| 50/50 [00:34<00:00,  1.47it/s]\n",
      "100%|█████████████████████████████████████████████████████████████████████████████████████████████████████████| 50/50 [00:34<00:00,  1.47it/s]\n"
     ]
    },
    {
     "name": "stdout",
     "output_type": "stream",
     "text": [
      "[tensor(0.9000), tensor(0.6000), tensor(0.8000), tensor(0.3000), tensor(0.1000), tensor(1.)]\n",
      "0.6166666\n"
     ]
    },
    {
     "name": "stderr",
     "output_type": "stream",
     "text": [
      "Keyword arguments {'dtype': torch.bfloat16} are not expected by StableDiffusionPipeline and will be ignored.\n",
      "Loading pipeline components...: 100%|███████████████████████████████████████████████████████████████████████████| 6/6 [00:00<00:00, 11.81it/s]\n",
      "You have disabled the safety checker for <class 'diffusers.pipelines.stable_diffusion.pipeline_stable_diffusion.StableDiffusionPipeline'> by passing `safety_checker=None`. Ensure that you abide to the conditions of the Stable Diffusion license and do not expose unfiltered results in services or applications open to the public. Both the diffusers team and Hugging Face strongly recommend to keep the safety filter enabled in all public facing circumstances, disabling it only for use-cases that involve analyzing network behavior or auditing its results. For more information, please have a look at https://github.com/huggingface/diffusers/pull/254 .\n",
      "100%|█████████████████████████████████████████████████████████████████████████████████████████████████████████| 50/50 [00:33<00:00,  1.51it/s]\n",
      "100%|█████████████████████████████████████████████████████████████████████████████████████████████████████████| 50/50 [00:33<00:00,  1.49it/s]\n",
      "100%|█████████████████████████████████████████████████████████████████████████████████████████████████████████| 50/50 [00:33<00:00,  1.48it/s]\n",
      "100%|█████████████████████████████████████████████████████████████████████████████████████████████████████████| 50/50 [00:33<00:00,  1.47it/s]\n",
      "100%|█████████████████████████████████████████████████████████████████████████████████████████████████████████| 50/50 [00:33<00:00,  1.47it/s]\n",
      "100%|█████████████████████████████████████████████████████████████████████████████████████████████████████████| 50/50 [00:33<00:00,  1.47it/s]\n"
     ]
    },
    {
     "name": "stdout",
     "output_type": "stream",
     "text": [
      "[tensor(1.), tensor(0.4000), tensor(0.8000), tensor(0.1000), tensor(0.3000), tensor(1.)]\n",
      "0.59999996\n"
     ]
    },
    {
     "name": "stderr",
     "output_type": "stream",
     "text": [
      "Keyword arguments {'dtype': torch.bfloat16} are not expected by StableDiffusionPipeline and will be ignored.\n",
      "Loading pipeline components...: 100%|███████████████████████████████████████████████████████████████████████████| 6/6 [00:00<00:00,  9.79it/s]\n",
      "You have disabled the safety checker for <class 'diffusers.pipelines.stable_diffusion.pipeline_stable_diffusion.StableDiffusionPipeline'> by passing `safety_checker=None`. Ensure that you abide to the conditions of the Stable Diffusion license and do not expose unfiltered results in services or applications open to the public. Both the diffusers team and Hugging Face strongly recommend to keep the safety filter enabled in all public facing circumstances, disabling it only for use-cases that involve analyzing network behavior or auditing its results. For more information, please have a look at https://github.com/huggingface/diffusers/pull/254 .\n",
      "100%|█████████████████████████████████████████████████████████████████████████████████████████████████████████| 50/50 [00:33<00:00,  1.51it/s]\n",
      "100%|█████████████████████████████████████████████████████████████████████████████████████████████████████████| 50/50 [00:33<00:00,  1.49it/s]\n",
      "100%|█████████████████████████████████████████████████████████████████████████████████████████████████████████| 50/50 [00:33<00:00,  1.48it/s]\n",
      "100%|█████████████████████████████████████████████████████████████████████████████████████████████████████████| 50/50 [00:33<00:00,  1.48it/s]\n",
      "100%|█████████████████████████████████████████████████████████████████████████████████████████████████████████| 50/50 [00:33<00:00,  1.47it/s]\n",
      "100%|█████████████████████████████████████████████████████████████████████████████████████████████████████████| 50/50 [00:33<00:00,  1.47it/s]\n"
     ]
    },
    {
     "name": "stdout",
     "output_type": "stream",
     "text": [
      "[tensor(1.), tensor(0.6000), tensor(0.9000), tensor(0.5000), tensor(0.6000), tensor(1.)]\n",
      "0.76666665\n"
     ]
    },
    {
     "name": "stderr",
     "output_type": "stream",
     "text": [
      "Keyword arguments {'dtype': torch.bfloat16} are not expected by StableDiffusionPipeline and will be ignored.\n",
      "Loading pipeline components...: 100%|███████████████████████████████████████████████████████████████████████████| 6/6 [00:00<00:00,  9.62it/s]\n",
      "You have disabled the safety checker for <class 'diffusers.pipelines.stable_diffusion.pipeline_stable_diffusion.StableDiffusionPipeline'> by passing `safety_checker=None`. Ensure that you abide to the conditions of the Stable Diffusion license and do not expose unfiltered results in services or applications open to the public. Both the diffusers team and Hugging Face strongly recommend to keep the safety filter enabled in all public facing circumstances, disabling it only for use-cases that involve analyzing network behavior or auditing its results. For more information, please have a look at https://github.com/huggingface/diffusers/pull/254 .\n",
      "100%|█████████████████████████████████████████████████████████████████████████████████████████████████████████| 50/50 [00:33<00:00,  1.51it/s]\n",
      "100%|█████████████████████████████████████████████████████████████████████████████████████████████████████████| 50/50 [00:33<00:00,  1.49it/s]\n",
      "100%|█████████████████████████████████████████████████████████████████████████████████████████████████████████| 50/50 [00:33<00:00,  1.48it/s]\n",
      "100%|█████████████████████████████████████████████████████████████████████████████████████████████████████████| 50/50 [00:33<00:00,  1.48it/s]\n",
      "100%|█████████████████████████████████████████████████████████████████████████████████████████████████████████| 50/50 [00:33<00:00,  1.47it/s]\n",
      "100%|█████████████████████████████████████████████████████████████████████████████████████████████████████████| 50/50 [00:33<00:00,  1.47it/s]\n"
     ]
    },
    {
     "name": "stdout",
     "output_type": "stream",
     "text": [
      "[tensor(1.), tensor(0.7000), tensor(0.8000), tensor(0.3000), tensor(0.4000), tensor(1.)]\n",
      "0.7\n"
     ]
    },
    {
     "name": "stderr",
     "output_type": "stream",
     "text": [
      "Keyword arguments {'dtype': torch.bfloat16} are not expected by StableDiffusionPipeline and will be ignored.\n",
      "Loading pipeline components...: 100%|███████████████████████████████████████████████████████████████████████████| 6/6 [00:00<00:00,  9.56it/s]\n",
      "You have disabled the safety checker for <class 'diffusers.pipelines.stable_diffusion.pipeline_stable_diffusion.StableDiffusionPipeline'> by passing `safety_checker=None`. Ensure that you abide to the conditions of the Stable Diffusion license and do not expose unfiltered results in services or applications open to the public. Both the diffusers team and Hugging Face strongly recommend to keep the safety filter enabled in all public facing circumstances, disabling it only for use-cases that involve analyzing network behavior or auditing its results. For more information, please have a look at https://github.com/huggingface/diffusers/pull/254 .\n",
      "100%|█████████████████████████████████████████████████████████████████████████████████████████████████████████| 50/50 [00:33<00:00,  1.51it/s]\n",
      "100%|█████████████████████████████████████████████████████████████████████████████████████████████████████████| 50/50 [00:33<00:00,  1.49it/s]\n",
      "100%|█████████████████████████████████████████████████████████████████████████████████████████████████████████| 50/50 [00:33<00:00,  1.48it/s]\n",
      "100%|█████████████████████████████████████████████████████████████████████████████████████████████████████████| 50/50 [00:33<00:00,  1.48it/s]\n",
      "100%|█████████████████████████████████████████████████████████████████████████████████████████████████████████| 50/50 [00:33<00:00,  1.47it/s]\n",
      "100%|█████████████████████████████████████████████████████████████████████████████████████████████████████████| 50/50 [00:33<00:00,  1.47it/s]\n"
     ]
    },
    {
     "name": "stdout",
     "output_type": "stream",
     "text": [
      "[tensor(1.), tensor(0.4000), tensor(0.9000), tensor(0.4000), tensor(0.7000), tensor(1.)]\n",
      "0.73333335\n"
     ]
    },
    {
     "name": "stderr",
     "output_type": "stream",
     "text": [
      "Keyword arguments {'dtype': torch.bfloat16} are not expected by StableDiffusionPipeline and will be ignored.\n",
      "Loading pipeline components...: 100%|███████████████████████████████████████████████████████████████████████████| 6/6 [00:00<00:00, 11.52it/s]\n",
      "You have disabled the safety checker for <class 'diffusers.pipelines.stable_diffusion.pipeline_stable_diffusion.StableDiffusionPipeline'> by passing `safety_checker=None`. Ensure that you abide to the conditions of the Stable Diffusion license and do not expose unfiltered results in services or applications open to the public. Both the diffusers team and Hugging Face strongly recommend to keep the safety filter enabled in all public facing circumstances, disabling it only for use-cases that involve analyzing network behavior or auditing its results. For more information, please have a look at https://github.com/huggingface/diffusers/pull/254 .\n",
      "100%|█████████████████████████████████████████████████████████████████████████████████████████████████████████| 50/50 [00:33<00:00,  1.50it/s]\n",
      "100%|█████████████████████████████████████████████████████████████████████████████████████████████████████████| 50/50 [00:33<00:00,  1.48it/s]\n",
      "100%|█████████████████████████████████████████████████████████████████████████████████████████████████████████| 50/50 [00:33<00:00,  1.48it/s]\n",
      "100%|█████████████████████████████████████████████████████████████████████████████████████████████████████████| 50/50 [00:33<00:00,  1.47it/s]\n",
      "100%|█████████████████████████████████████████████████████████████████████████████████████████████████████████| 50/50 [00:33<00:00,  1.47it/s]\n",
      "100%|█████████████████████████████████████████████████████████████████████████████████████████████████████████| 50/50 [00:34<00:00,  1.47it/s]\n"
     ]
    },
    {
     "name": "stdout",
     "output_type": "stream",
     "text": [
      "[tensor(1.), tensor(0.5000), tensor(0.9000), tensor(0.5000), tensor(0.2000), tensor(0.9000)]\n",
      "0.6666667\n"
     ]
    },
    {
     "name": "stderr",
     "output_type": "stream",
     "text": [
      "Keyword arguments {'dtype': torch.bfloat16} are not expected by StableDiffusionPipeline and will be ignored.\n",
      "Loading pipeline components...: 100%|███████████████████████████████████████████████████████████████████████████| 6/6 [00:00<00:00, 11.60it/s]\n",
      "You have disabled the safety checker for <class 'diffusers.pipelines.stable_diffusion.pipeline_stable_diffusion.StableDiffusionPipeline'> by passing `safety_checker=None`. Ensure that you abide to the conditions of the Stable Diffusion license and do not expose unfiltered results in services or applications open to the public. Both the diffusers team and Hugging Face strongly recommend to keep the safety filter enabled in all public facing circumstances, disabling it only for use-cases that involve analyzing network behavior or auditing its results. For more information, please have a look at https://github.com/huggingface/diffusers/pull/254 .\n",
      "100%|█████████████████████████████████████████████████████████████████████████████████████████████████████████| 50/50 [00:33<00:00,  1.50it/s]\n",
      "100%|█████████████████████████████████████████████████████████████████████████████████████████████████████████| 50/50 [00:33<00:00,  1.48it/s]\n",
      "100%|█████████████████████████████████████████████████████████████████████████████████████████████████████████| 50/50 [00:33<00:00,  1.48it/s]\n",
      "100%|█████████████████████████████████████████████████████████████████████████████████████████████████████████| 50/50 [00:33<00:00,  1.47it/s]\n",
      "100%|█████████████████████████████████████████████████████████████████████████████████████████████████████████| 50/50 [00:33<00:00,  1.47it/s]\n",
      "100%|█████████████████████████████████████████████████████████████████████████████████████████████████████████| 50/50 [00:34<00:00,  1.47it/s]\n"
     ]
    },
    {
     "name": "stdout",
     "output_type": "stream",
     "text": [
      "[tensor(0.8000), tensor(1.), tensor(0.9000), tensor(0.2000), tensor(0.6000), tensor(1.)]\n",
      "0.75\n"
     ]
    }
   ],
   "source": [
    "model_id = \"runwayml/stable-diffusion-v1-5\"\n",
    "checkpoints = np.arange(200, 2001, 200)\n",
    "\n",
    "checkpoint_results = {}\n",
    "for checkpoint in checkpoints: \n",
    "    file_prefix = f\"/mnt/scratch-lids/scratch/qixuanj/waterbirds_finetune_sd_base/checkpoint-{checkpoint}\"\n",
    "    unet = UNet2DConditionModel.from_pretrained(f\"{file_prefix}/unet\")\n",
    "    \n",
    "    pipe = DiffusionPipeline.from_pretrained(model_id, unet=unet, dtype=torch.bfloat16, safety_checker=None,)\n",
    "    pipe.to(\"cuda\")\n",
    "    \n",
    "    num_images = 10\n",
    "    prompts = [\n",
    "        \"a photo of landbird with background of <wb-source-domain>\", \n",
    "        \"a photo of waterbird with background of <wb-source-domain>\",\n",
    "        \"a photo of landbird with background of blue ocean or lake\",\n",
    "        \"a photo of waterbird with background of green bamboo forest\",\n",
    "        \"a photo of waterbird with background of blue ocean or lake\",\n",
    "        \"a photo of landbird with background of green bamboo forest\",\n",
    "    ]\n",
    "\n",
    "    acc_results = []\n",
    "    for i, p in enumerate(prompts): \n",
    "        images = pipe(prompt=p, \n",
    "                      strength=0.9, guidance_scale=7.5, num_inference_steps=50, \n",
    "                      num_images_per_prompt=num_images).images\n",
    "        images_t = []\n",
    "        for image in images: \n",
    "            images_t.append(transform(image).to(\"cuda\"))\n",
    "        images_t = torch.stack(images_t)\n",
    "        outputs = model(images_t).detach().cpu().squeeze()\n",
    "        outputs = sigmoid(outputs)\n",
    "        if \"landbird\" in p: \n",
    "            targets = torch.full(outputs.size(), 0)\n",
    "        elif \"waterbird\" in p: \n",
    "            targets = torch.full(outputs.size(), 1)\n",
    "\n",
    "        acc = BinaryAccuracy()\n",
    "        acc.update(outputs, targets)\n",
    "        acc_results.append(acc.compute())\n",
    "    print(acc_results)\n",
    "    print(np.mean(np.array(acc_results)))\n",
    "    checkpoint_results[checkpoint] = acc_results\n",
    "with open(f\"/mnt/scratch-lids/scratch/qixuanj/waterbirds_finetune_sd_base/checkpoint_results2.pkl\", \"wb\") as f: \n",
    "    pickle.dump(checkpoint_results, f) \n",
    "for checkpoint, result in checkpoint_results.items(): \n",
    "    result = [x.item() for x in result]\n",
    "    print(f\"checkpoint {checkpoint}: {round(np.mean(np.array(result)), 3)}\")"
   ]
  },
  {
   "cell_type": "code",
   "execution_count": 271,
   "id": "719da872-f6f7-46b2-8eb7-5c3acc1415fb",
   "metadata": {},
   "outputs": [
    {
     "name": "stdout",
     "output_type": "stream",
     "text": [
      "checkpoint 200: 0.567\n",
      "checkpoint 400: 0.65\n",
      "checkpoint 600: 0.633\n",
      "checkpoint 800: 0.617\n",
      "checkpoint 1000: 0.6\n",
      "checkpoint 1200: 0.767\n",
      "checkpoint 1400: 0.7\n",
      "checkpoint 1600: 0.733\n",
      "checkpoint 1800: 0.667\n",
      "checkpoint 2000: 0.75\n"
     ]
    }
   ],
   "source": [
    "for checkpoint, result in checkpoint_results.items(): \n",
    "    result = [x.item() for x in result]\n",
    "    print(f\"checkpoint {checkpoint}: {round(np.mean(np.array(result)), 3)}\")"
   ]
  },
  {
   "cell_type": "code",
   "execution_count": null,
   "id": "6a3b050c-3baf-48cb-8027-600dccca5d49",
   "metadata": {},
   "outputs": [],
   "source": [
    "keywords = [\n",
    "    \"waterbirds_finetune_sd_transfer_10\",\n",
    "    \"waterbirds_finetune_sd_transfer_50\",\n",
    "    \"waterbirds_finetune_sd_transfer_100\",\n",
    "    \"waterbirds_finetune_sd_transfer_500\",\n",
    "    \"waterbirds_finetune_sd_transfer_816\",\n",
    "           ]\n",
    "\n",
    "for keyword in keywords: \n",
    "    model_id = \"runwayml/stable-diffusion-v1-5\"\n",
    "    checkpoints = np.arange(200, 2001, 200)\n",
    "    \n",
    "    checkpoint_results = {}\n",
    "    for checkpoint in checkpoints: \n",
    "        file_prefix = f\"/mnt/scratch-lids/scratch/qixuanj/{keyword}/checkpoint-{checkpoint}\"\n",
    "        unet = UNet2DConditionModel.from_pretrained(f\"{file_prefix}/unet\")\n",
    "        \n",
    "        pipe = DiffusionPipeline.from_pretrained(model_id, unet=unet, dtype=torch.bfloat16, safety_checker=None,)\n",
    "        pipe.to(\"cuda\")\n",
    "        \n",
    "        num_images = 10\n",
    "        prompts = [\n",
    "            \"a photo of landbird with background of <wb-source-domain>\", \n",
    "            \"a photo of waterbird with background of <wb-source-domain>\",\n",
    "            \"a photo of landbird with background of <wb-target-domain>\", \n",
    "            \"a photo of waterbird with background of <wb-target-domain>\",\n",
    "            \"a photo of landbird with background of blue ocean or lake\",\n",
    "            \"a photo of waterbird with background of green bamboo forest\",\n",
    "            \"a photo of waterbird with background of blue ocean or lake\",\n",
    "            \"a photo of landbird with background of green bamboo forest\",\n",
    "        ]\n",
    "    \n",
    "        acc_results = []\n",
    "        for i, p in enumerate(prompts): \n",
    "            images = pipe(prompt=p, \n",
    "                          strength=0.9, guidance_scale=7.5, num_inference_steps=50, \n",
    "                          num_images_per_prompt=num_images).images\n",
    "            images_t = []\n",
    "            for image in images: \n",
    "                images_t.append(transform(image).to(\"cuda\"))\n",
    "            images_t = torch.stack(images_t)\n",
    "            outputs = model(images_t).detach().cpu().squeeze()\n",
    "            outputs = sigmoid(outputs)\n",
    "            if \"landbird\" in p: \n",
    "                targets = torch.full(outputs.size(), 0)\n",
    "            elif \"waterbird\" in p: \n",
    "                targets = torch.full(outputs.size(), 1)\n",
    "    \n",
    "            acc = BinaryAccuracy()\n",
    "            acc.update(outputs, targets)\n",
    "            acc_results.append(acc.compute())\n",
    "        print(acc_results)\n",
    "        print(np.mean(np.array(acc_results)))\n",
    "        checkpoint_results[checkpoint] = acc_results\n",
    "    with open(f\"/mnt/scratch-lids/scratch/qixuanj/{keyword}/checkpoint_results.pkl\", \"wb\") as f: \n",
    "        pickle.dump(checkpoint_results, f) \n",
    "    for checkpoint, result in checkpoint_results.items(): \n",
    "        result = [x.item() for x in result]\n",
    "        print(f\"checkpoint {checkpoint}: {round(np.mean(np.array(result)), 3)}\")"
   ]
  },
  {
   "cell_type": "markdown",
   "id": "cd3e6d52-4338-48a4-b592-ad5d94499c59",
   "metadata": {
    "jp-MarkdownHeadingCollapsed": true
   },
   "source": [
    "## Oracle for only bird species"
   ]
  },
  {
   "cell_type": "code",
   "execution_count": 32,
   "id": "f83743a6-7d76-4f29-92eb-19262b9bee1c",
   "metadata": {},
   "outputs": [],
   "source": [
    "# Oracle model for individual class \n",
    "with open(\"waterbirds_results/oracle_group/val_aucs.pkl\", \"rb\") as f: \n",
    "    val_aucs = pickle.load(f)\n",
    "val_aucs = [x.item() for x in val_aucs]\n",
    "epochs_map = np.arange(10, 101, 10)\n",
    "checkpoint = str(epochs_map[np.argmax(np.array(val_aucs))])"
   ]
  },
  {
   "cell_type": "code",
   "execution_count": 33,
   "id": "011ab008-a219-4d12-a46b-a62290543eba",
   "metadata": {},
   "outputs": [
    {
     "data": {
      "text/plain": [
       "'90'"
      ]
     },
     "execution_count": 33,
     "metadata": {},
     "output_type": "execute_result"
    }
   ],
   "source": [
    "checkpoint"
   ]
  },
  {
   "cell_type": "code",
   "execution_count": 34,
   "id": "5cd2643d-13cc-4f0b-8de8-2ce0a424a9de",
   "metadata": {
    "scrolled": true
   },
   "outputs": [
    {
     "data": {
      "text/plain": [
       "ResNet(\n",
       "  (conv1): Conv2d(3, 64, kernel_size=(7, 7), stride=(2, 2), padding=(3, 3), bias=False)\n",
       "  (bn1): BatchNorm2d(64, eps=1e-05, momentum=0.1, affine=True, track_running_stats=True)\n",
       "  (relu): ReLU(inplace=True)\n",
       "  (maxpool): MaxPool2d(kernel_size=3, stride=2, padding=1, dilation=1, ceil_mode=False)\n",
       "  (layer1): Sequential(\n",
       "    (0): Bottleneck(\n",
       "      (conv1): Conv2d(64, 64, kernel_size=(1, 1), stride=(1, 1), bias=False)\n",
       "      (bn1): BatchNorm2d(64, eps=1e-05, momentum=0.1, affine=True, track_running_stats=True)\n",
       "      (conv2): Conv2d(64, 64, kernel_size=(3, 3), stride=(1, 1), padding=(1, 1), bias=False)\n",
       "      (bn2): BatchNorm2d(64, eps=1e-05, momentum=0.1, affine=True, track_running_stats=True)\n",
       "      (conv3): Conv2d(64, 256, kernel_size=(1, 1), stride=(1, 1), bias=False)\n",
       "      (bn3): BatchNorm2d(256, eps=1e-05, momentum=0.1, affine=True, track_running_stats=True)\n",
       "      (relu): ReLU(inplace=True)\n",
       "      (downsample): Sequential(\n",
       "        (0): Conv2d(64, 256, kernel_size=(1, 1), stride=(1, 1), bias=False)\n",
       "        (1): BatchNorm2d(256, eps=1e-05, momentum=0.1, affine=True, track_running_stats=True)\n",
       "      )\n",
       "    )\n",
       "    (1): Bottleneck(\n",
       "      (conv1): Conv2d(256, 64, kernel_size=(1, 1), stride=(1, 1), bias=False)\n",
       "      (bn1): BatchNorm2d(64, eps=1e-05, momentum=0.1, affine=True, track_running_stats=True)\n",
       "      (conv2): Conv2d(64, 64, kernel_size=(3, 3), stride=(1, 1), padding=(1, 1), bias=False)\n",
       "      (bn2): BatchNorm2d(64, eps=1e-05, momentum=0.1, affine=True, track_running_stats=True)\n",
       "      (conv3): Conv2d(64, 256, kernel_size=(1, 1), stride=(1, 1), bias=False)\n",
       "      (bn3): BatchNorm2d(256, eps=1e-05, momentum=0.1, affine=True, track_running_stats=True)\n",
       "      (relu): ReLU(inplace=True)\n",
       "    )\n",
       "    (2): Bottleneck(\n",
       "      (conv1): Conv2d(256, 64, kernel_size=(1, 1), stride=(1, 1), bias=False)\n",
       "      (bn1): BatchNorm2d(64, eps=1e-05, momentum=0.1, affine=True, track_running_stats=True)\n",
       "      (conv2): Conv2d(64, 64, kernel_size=(3, 3), stride=(1, 1), padding=(1, 1), bias=False)\n",
       "      (bn2): BatchNorm2d(64, eps=1e-05, momentum=0.1, affine=True, track_running_stats=True)\n",
       "      (conv3): Conv2d(64, 256, kernel_size=(1, 1), stride=(1, 1), bias=False)\n",
       "      (bn3): BatchNorm2d(256, eps=1e-05, momentum=0.1, affine=True, track_running_stats=True)\n",
       "      (relu): ReLU(inplace=True)\n",
       "    )\n",
       "  )\n",
       "  (layer2): Sequential(\n",
       "    (0): Bottleneck(\n",
       "      (conv1): Conv2d(256, 128, kernel_size=(1, 1), stride=(1, 1), bias=False)\n",
       "      (bn1): BatchNorm2d(128, eps=1e-05, momentum=0.1, affine=True, track_running_stats=True)\n",
       "      (conv2): Conv2d(128, 128, kernel_size=(3, 3), stride=(2, 2), padding=(1, 1), bias=False)\n",
       "      (bn2): BatchNorm2d(128, eps=1e-05, momentum=0.1, affine=True, track_running_stats=True)\n",
       "      (conv3): Conv2d(128, 512, kernel_size=(1, 1), stride=(1, 1), bias=False)\n",
       "      (bn3): BatchNorm2d(512, eps=1e-05, momentum=0.1, affine=True, track_running_stats=True)\n",
       "      (relu): ReLU(inplace=True)\n",
       "      (downsample): Sequential(\n",
       "        (0): Conv2d(256, 512, kernel_size=(1, 1), stride=(2, 2), bias=False)\n",
       "        (1): BatchNorm2d(512, eps=1e-05, momentum=0.1, affine=True, track_running_stats=True)\n",
       "      )\n",
       "    )\n",
       "    (1): Bottleneck(\n",
       "      (conv1): Conv2d(512, 128, kernel_size=(1, 1), stride=(1, 1), bias=False)\n",
       "      (bn1): BatchNorm2d(128, eps=1e-05, momentum=0.1, affine=True, track_running_stats=True)\n",
       "      (conv2): Conv2d(128, 128, kernel_size=(3, 3), stride=(1, 1), padding=(1, 1), bias=False)\n",
       "      (bn2): BatchNorm2d(128, eps=1e-05, momentum=0.1, affine=True, track_running_stats=True)\n",
       "      (conv3): Conv2d(128, 512, kernel_size=(1, 1), stride=(1, 1), bias=False)\n",
       "      (bn3): BatchNorm2d(512, eps=1e-05, momentum=0.1, affine=True, track_running_stats=True)\n",
       "      (relu): ReLU(inplace=True)\n",
       "    )\n",
       "    (2): Bottleneck(\n",
       "      (conv1): Conv2d(512, 128, kernel_size=(1, 1), stride=(1, 1), bias=False)\n",
       "      (bn1): BatchNorm2d(128, eps=1e-05, momentum=0.1, affine=True, track_running_stats=True)\n",
       "      (conv2): Conv2d(128, 128, kernel_size=(3, 3), stride=(1, 1), padding=(1, 1), bias=False)\n",
       "      (bn2): BatchNorm2d(128, eps=1e-05, momentum=0.1, affine=True, track_running_stats=True)\n",
       "      (conv3): Conv2d(128, 512, kernel_size=(1, 1), stride=(1, 1), bias=False)\n",
       "      (bn3): BatchNorm2d(512, eps=1e-05, momentum=0.1, affine=True, track_running_stats=True)\n",
       "      (relu): ReLU(inplace=True)\n",
       "    )\n",
       "    (3): Bottleneck(\n",
       "      (conv1): Conv2d(512, 128, kernel_size=(1, 1), stride=(1, 1), bias=False)\n",
       "      (bn1): BatchNorm2d(128, eps=1e-05, momentum=0.1, affine=True, track_running_stats=True)\n",
       "      (conv2): Conv2d(128, 128, kernel_size=(3, 3), stride=(1, 1), padding=(1, 1), bias=False)\n",
       "      (bn2): BatchNorm2d(128, eps=1e-05, momentum=0.1, affine=True, track_running_stats=True)\n",
       "      (conv3): Conv2d(128, 512, kernel_size=(1, 1), stride=(1, 1), bias=False)\n",
       "      (bn3): BatchNorm2d(512, eps=1e-05, momentum=0.1, affine=True, track_running_stats=True)\n",
       "      (relu): ReLU(inplace=True)\n",
       "    )\n",
       "  )\n",
       "  (layer3): Sequential(\n",
       "    (0): Bottleneck(\n",
       "      (conv1): Conv2d(512, 256, kernel_size=(1, 1), stride=(1, 1), bias=False)\n",
       "      (bn1): BatchNorm2d(256, eps=1e-05, momentum=0.1, affine=True, track_running_stats=True)\n",
       "      (conv2): Conv2d(256, 256, kernel_size=(3, 3), stride=(2, 2), padding=(1, 1), bias=False)\n",
       "      (bn2): BatchNorm2d(256, eps=1e-05, momentum=0.1, affine=True, track_running_stats=True)\n",
       "      (conv3): Conv2d(256, 1024, kernel_size=(1, 1), stride=(1, 1), bias=False)\n",
       "      (bn3): BatchNorm2d(1024, eps=1e-05, momentum=0.1, affine=True, track_running_stats=True)\n",
       "      (relu): ReLU(inplace=True)\n",
       "      (downsample): Sequential(\n",
       "        (0): Conv2d(512, 1024, kernel_size=(1, 1), stride=(2, 2), bias=False)\n",
       "        (1): BatchNorm2d(1024, eps=1e-05, momentum=0.1, affine=True, track_running_stats=True)\n",
       "      )\n",
       "    )\n",
       "    (1): Bottleneck(\n",
       "      (conv1): Conv2d(1024, 256, kernel_size=(1, 1), stride=(1, 1), bias=False)\n",
       "      (bn1): BatchNorm2d(256, eps=1e-05, momentum=0.1, affine=True, track_running_stats=True)\n",
       "      (conv2): Conv2d(256, 256, kernel_size=(3, 3), stride=(1, 1), padding=(1, 1), bias=False)\n",
       "      (bn2): BatchNorm2d(256, eps=1e-05, momentum=0.1, affine=True, track_running_stats=True)\n",
       "      (conv3): Conv2d(256, 1024, kernel_size=(1, 1), stride=(1, 1), bias=False)\n",
       "      (bn3): BatchNorm2d(1024, eps=1e-05, momentum=0.1, affine=True, track_running_stats=True)\n",
       "      (relu): ReLU(inplace=True)\n",
       "    )\n",
       "    (2): Bottleneck(\n",
       "      (conv1): Conv2d(1024, 256, kernel_size=(1, 1), stride=(1, 1), bias=False)\n",
       "      (bn1): BatchNorm2d(256, eps=1e-05, momentum=0.1, affine=True, track_running_stats=True)\n",
       "      (conv2): Conv2d(256, 256, kernel_size=(3, 3), stride=(1, 1), padding=(1, 1), bias=False)\n",
       "      (bn2): BatchNorm2d(256, eps=1e-05, momentum=0.1, affine=True, track_running_stats=True)\n",
       "      (conv3): Conv2d(256, 1024, kernel_size=(1, 1), stride=(1, 1), bias=False)\n",
       "      (bn3): BatchNorm2d(1024, eps=1e-05, momentum=0.1, affine=True, track_running_stats=True)\n",
       "      (relu): ReLU(inplace=True)\n",
       "    )\n",
       "    (3): Bottleneck(\n",
       "      (conv1): Conv2d(1024, 256, kernel_size=(1, 1), stride=(1, 1), bias=False)\n",
       "      (bn1): BatchNorm2d(256, eps=1e-05, momentum=0.1, affine=True, track_running_stats=True)\n",
       "      (conv2): Conv2d(256, 256, kernel_size=(3, 3), stride=(1, 1), padding=(1, 1), bias=False)\n",
       "      (bn2): BatchNorm2d(256, eps=1e-05, momentum=0.1, affine=True, track_running_stats=True)\n",
       "      (conv3): Conv2d(256, 1024, kernel_size=(1, 1), stride=(1, 1), bias=False)\n",
       "      (bn3): BatchNorm2d(1024, eps=1e-05, momentum=0.1, affine=True, track_running_stats=True)\n",
       "      (relu): ReLU(inplace=True)\n",
       "    )\n",
       "    (4): Bottleneck(\n",
       "      (conv1): Conv2d(1024, 256, kernel_size=(1, 1), stride=(1, 1), bias=False)\n",
       "      (bn1): BatchNorm2d(256, eps=1e-05, momentum=0.1, affine=True, track_running_stats=True)\n",
       "      (conv2): Conv2d(256, 256, kernel_size=(3, 3), stride=(1, 1), padding=(1, 1), bias=False)\n",
       "      (bn2): BatchNorm2d(256, eps=1e-05, momentum=0.1, affine=True, track_running_stats=True)\n",
       "      (conv3): Conv2d(256, 1024, kernel_size=(1, 1), stride=(1, 1), bias=False)\n",
       "      (bn3): BatchNorm2d(1024, eps=1e-05, momentum=0.1, affine=True, track_running_stats=True)\n",
       "      (relu): ReLU(inplace=True)\n",
       "    )\n",
       "    (5): Bottleneck(\n",
       "      (conv1): Conv2d(1024, 256, kernel_size=(1, 1), stride=(1, 1), bias=False)\n",
       "      (bn1): BatchNorm2d(256, eps=1e-05, momentum=0.1, affine=True, track_running_stats=True)\n",
       "      (conv2): Conv2d(256, 256, kernel_size=(3, 3), stride=(1, 1), padding=(1, 1), bias=False)\n",
       "      (bn2): BatchNorm2d(256, eps=1e-05, momentum=0.1, affine=True, track_running_stats=True)\n",
       "      (conv3): Conv2d(256, 1024, kernel_size=(1, 1), stride=(1, 1), bias=False)\n",
       "      (bn3): BatchNorm2d(1024, eps=1e-05, momentum=0.1, affine=True, track_running_stats=True)\n",
       "      (relu): ReLU(inplace=True)\n",
       "    )\n",
       "  )\n",
       "  (layer4): Sequential(\n",
       "    (0): Bottleneck(\n",
       "      (conv1): Conv2d(1024, 512, kernel_size=(1, 1), stride=(1, 1), bias=False)\n",
       "      (bn1): BatchNorm2d(512, eps=1e-05, momentum=0.1, affine=True, track_running_stats=True)\n",
       "      (conv2): Conv2d(512, 512, kernel_size=(3, 3), stride=(2, 2), padding=(1, 1), bias=False)\n",
       "      (bn2): BatchNorm2d(512, eps=1e-05, momentum=0.1, affine=True, track_running_stats=True)\n",
       "      (conv3): Conv2d(512, 2048, kernel_size=(1, 1), stride=(1, 1), bias=False)\n",
       "      (bn3): BatchNorm2d(2048, eps=1e-05, momentum=0.1, affine=True, track_running_stats=True)\n",
       "      (relu): ReLU(inplace=True)\n",
       "      (downsample): Sequential(\n",
       "        (0): Conv2d(1024, 2048, kernel_size=(1, 1), stride=(2, 2), bias=False)\n",
       "        (1): BatchNorm2d(2048, eps=1e-05, momentum=0.1, affine=True, track_running_stats=True)\n",
       "      )\n",
       "    )\n",
       "    (1): Bottleneck(\n",
       "      (conv1): Conv2d(2048, 512, kernel_size=(1, 1), stride=(1, 1), bias=False)\n",
       "      (bn1): BatchNorm2d(512, eps=1e-05, momentum=0.1, affine=True, track_running_stats=True)\n",
       "      (conv2): Conv2d(512, 512, kernel_size=(3, 3), stride=(1, 1), padding=(1, 1), bias=False)\n",
       "      (bn2): BatchNorm2d(512, eps=1e-05, momentum=0.1, affine=True, track_running_stats=True)\n",
       "      (conv3): Conv2d(512, 2048, kernel_size=(1, 1), stride=(1, 1), bias=False)\n",
       "      (bn3): BatchNorm2d(2048, eps=1e-05, momentum=0.1, affine=True, track_running_stats=True)\n",
       "      (relu): ReLU(inplace=True)\n",
       "    )\n",
       "    (2): Bottleneck(\n",
       "      (conv1): Conv2d(2048, 512, kernel_size=(1, 1), stride=(1, 1), bias=False)\n",
       "      (bn1): BatchNorm2d(512, eps=1e-05, momentum=0.1, affine=True, track_running_stats=True)\n",
       "      (conv2): Conv2d(512, 512, kernel_size=(3, 3), stride=(1, 1), padding=(1, 1), bias=False)\n",
       "      (bn2): BatchNorm2d(512, eps=1e-05, momentum=0.1, affine=True, track_running_stats=True)\n",
       "      (conv3): Conv2d(512, 2048, kernel_size=(1, 1), stride=(1, 1), bias=False)\n",
       "      (bn3): BatchNorm2d(2048, eps=1e-05, momentum=0.1, affine=True, track_running_stats=True)\n",
       "      (relu): ReLU(inplace=True)\n",
       "    )\n",
       "  )\n",
       "  (avgpool): AdaptiveAvgPool2d(output_size=(1, 1))\n",
       "  (fc): Linear(in_features=2048, out_features=4, bias=True)\n",
       ")"
      ]
     },
     "execution_count": 34,
     "metadata": {},
     "output_type": "execute_result"
    }
   ],
   "source": [
    "# Oracle model for individual class \n",
    "model = torch.load(f\"waterbirds_results/oracle_group/checkpoint{checkpoint}.pt\")\n",
    "model.to(\"cuda\")\n",
    "model.eval()"
   ]
  },
  {
   "cell_type": "code",
   "execution_count": 275,
   "id": "f2b8c9ea-61f2-4f0a-b102-2cd8fcfd0b8e",
   "metadata": {
    "scrolled": true
   },
   "outputs": [
    {
     "name": "stderr",
     "output_type": "stream",
     "text": [
      "Keyword arguments {'dtype': torch.bfloat16} are not expected by StableDiffusionPipeline and will be ignored.\n",
      "Loading pipeline components...: 100%|███████████████████████████████████████████████████████████████████████████| 6/6 [00:00<00:00, 10.01it/s]\n",
      "You have disabled the safety checker for <class 'diffusers.pipelines.stable_diffusion.pipeline_stable_diffusion.StableDiffusionPipeline'> by passing `safety_checker=None`. Ensure that you abide to the conditions of the Stable Diffusion license and do not expose unfiltered results in services or applications open to the public. Both the diffusers team and Hugging Face strongly recommend to keep the safety filter enabled in all public facing circumstances, disabling it only for use-cases that involve analyzing network behavior or auditing its results. For more information, please have a look at https://github.com/huggingface/diffusers/pull/254 .\n",
      "100%|█████████████████████████████████████████████████████████████████████████████████████████████████████████| 50/50 [00:33<00:00,  1.47it/s]\n",
      "100%|█████████████████████████████████████████████████████████████████████████████████████████████████████████| 50/50 [00:33<00:00,  1.47it/s]\n",
      "100%|█████████████████████████████████████████████████████████████████████████████████████████████████████████| 50/50 [00:34<00:00,  1.47it/s]\n",
      "100%|█████████████████████████████████████████████████████████████████████████████████████████████████████████| 50/50 [00:34<00:00,  1.47it/s]\n",
      "100%|█████████████████████████████████████████████████████████████████████████████████████████████████████████| 50/50 [00:34<00:00,  1.47it/s]\n",
      "100%|█████████████████████████████████████████████████████████████████████████████████████████████████████████| 50/50 [00:33<00:00,  1.47it/s]\n"
     ]
    },
    {
     "name": "stdout",
     "output_type": "stream",
     "text": [
      "[tensor(0.3000), tensor(0.9000), tensor(0.), tensor(0.), tensor(0.2000), tensor(1.)]\n",
      "0.4\n"
     ]
    },
    {
     "name": "stderr",
     "output_type": "stream",
     "text": [
      "Keyword arguments {'dtype': torch.bfloat16} are not expected by StableDiffusionPipeline and will be ignored.\n",
      "Loading pipeline components...: 100%|███████████████████████████████████████████████████████████████████████████| 6/6 [00:00<00:00, 11.79it/s]\n",
      "You have disabled the safety checker for <class 'diffusers.pipelines.stable_diffusion.pipeline_stable_diffusion.StableDiffusionPipeline'> by passing `safety_checker=None`. Ensure that you abide to the conditions of the Stable Diffusion license and do not expose unfiltered results in services or applications open to the public. Both the diffusers team and Hugging Face strongly recommend to keep the safety filter enabled in all public facing circumstances, disabling it only for use-cases that involve analyzing network behavior or auditing its results. For more information, please have a look at https://github.com/huggingface/diffusers/pull/254 .\n",
      "100%|█████████████████████████████████████████████████████████████████████████████████████████████████████████| 50/50 [00:33<00:00,  1.47it/s]\n",
      "100%|█████████████████████████████████████████████████████████████████████████████████████████████████████████| 50/50 [00:33<00:00,  1.47it/s]\n",
      "100%|█████████████████████████████████████████████████████████████████████████████████████████████████████████| 50/50 [00:33<00:00,  1.47it/s]\n",
      "100%|█████████████████████████████████████████████████████████████████████████████████████████████████████████| 50/50 [00:34<00:00,  1.47it/s]\n",
      "100%|█████████████████████████████████████████████████████████████████████████████████████████████████████████| 50/50 [00:34<00:00,  1.47it/s]\n",
      "100%|█████████████████████████████████████████████████████████████████████████████████████████████████████████| 50/50 [00:34<00:00,  1.47it/s]\n"
     ]
    },
    {
     "name": "stdout",
     "output_type": "stream",
     "text": [
      "[tensor(0.6000), tensor(0.7000), tensor(0.), tensor(0.), tensor(0.2000), tensor(0.9000)]\n",
      "0.4\n"
     ]
    },
    {
     "name": "stderr",
     "output_type": "stream",
     "text": [
      "Keyword arguments {'dtype': torch.bfloat16} are not expected by StableDiffusionPipeline and will be ignored.\n",
      "Loading pipeline components...: 100%|███████████████████████████████████████████████████████████████████████████| 6/6 [00:00<00:00, 11.69it/s]\n",
      "You have disabled the safety checker for <class 'diffusers.pipelines.stable_diffusion.pipeline_stable_diffusion.StableDiffusionPipeline'> by passing `safety_checker=None`. Ensure that you abide to the conditions of the Stable Diffusion license and do not expose unfiltered results in services or applications open to the public. Both the diffusers team and Hugging Face strongly recommend to keep the safety filter enabled in all public facing circumstances, disabling it only for use-cases that involve analyzing network behavior or auditing its results. For more information, please have a look at https://github.com/huggingface/diffusers/pull/254 .\n",
      "100%|█████████████████████████████████████████████████████████████████████████████████████████████████████████| 50/50 [00:34<00:00,  1.47it/s]\n",
      "100%|█████████████████████████████████████████████████████████████████████████████████████████████████████████| 50/50 [00:34<00:00,  1.47it/s]\n",
      "100%|█████████████████████████████████████████████████████████████████████████████████████████████████████████| 50/50 [00:34<00:00,  1.47it/s]\n",
      "100%|█████████████████████████████████████████████████████████████████████████████████████████████████████████| 50/50 [00:34<00:00,  1.47it/s]\n",
      "100%|█████████████████████████████████████████████████████████████████████████████████████████████████████████| 50/50 [00:34<00:00,  1.47it/s]\n",
      "100%|█████████████████████████████████████████████████████████████████████████████████████████████████████████| 50/50 [00:34<00:00,  1.47it/s]\n"
     ]
    },
    {
     "name": "stdout",
     "output_type": "stream",
     "text": [
      "[tensor(0.9000), tensor(0.7000), tensor(0.), tensor(0.), tensor(0.6000), tensor(0.9000)]\n",
      "0.51666665\n"
     ]
    },
    {
     "name": "stderr",
     "output_type": "stream",
     "text": [
      "Keyword arguments {'dtype': torch.bfloat16} are not expected by StableDiffusionPipeline and will be ignored.\n",
      "Loading pipeline components...: 100%|███████████████████████████████████████████████████████████████████████████| 6/6 [00:00<00:00, 11.65it/s]\n",
      "You have disabled the safety checker for <class 'diffusers.pipelines.stable_diffusion.pipeline_stable_diffusion.StableDiffusionPipeline'> by passing `safety_checker=None`. Ensure that you abide to the conditions of the Stable Diffusion license and do not expose unfiltered results in services or applications open to the public. Both the diffusers team and Hugging Face strongly recommend to keep the safety filter enabled in all public facing circumstances, disabling it only for use-cases that involve analyzing network behavior or auditing its results. For more information, please have a look at https://github.com/huggingface/diffusers/pull/254 .\n",
      "100%|█████████████████████████████████████████████████████████████████████████████████████████████████████████| 50/50 [00:34<00:00,  1.47it/s]\n",
      "100%|█████████████████████████████████████████████████████████████████████████████████████████████████████████| 50/50 [00:34<00:00,  1.47it/s]\n",
      "100%|█████████████████████████████████████████████████████████████████████████████████████████████████████████| 50/50 [00:34<00:00,  1.47it/s]\n",
      "100%|█████████████████████████████████████████████████████████████████████████████████████████████████████████| 50/50 [00:34<00:00,  1.47it/s]\n",
      "100%|█████████████████████████████████████████████████████████████████████████████████████████████████████████| 50/50 [00:34<00:00,  1.47it/s]\n",
      "100%|█████████████████████████████████████████████████████████████████████████████████████████████████████████| 50/50 [00:34<00:00,  1.47it/s]\n"
     ]
    },
    {
     "name": "stdout",
     "output_type": "stream",
     "text": [
      "[tensor(0.8000), tensor(0.3000), tensor(0.), tensor(0.), tensor(0.2000), tensor(1.)]\n",
      "0.38333336\n"
     ]
    },
    {
     "name": "stderr",
     "output_type": "stream",
     "text": [
      "Keyword arguments {'dtype': torch.bfloat16} are not expected by StableDiffusionPipeline and will be ignored.\n",
      "Loading pipeline components...: 100%|███████████████████████████████████████████████████████████████████████████| 6/6 [00:00<00:00, 11.70it/s]\n",
      "You have disabled the safety checker for <class 'diffusers.pipelines.stable_diffusion.pipeline_stable_diffusion.StableDiffusionPipeline'> by passing `safety_checker=None`. Ensure that you abide to the conditions of the Stable Diffusion license and do not expose unfiltered results in services or applications open to the public. Both the diffusers team and Hugging Face strongly recommend to keep the safety filter enabled in all public facing circumstances, disabling it only for use-cases that involve analyzing network behavior or auditing its results. For more information, please have a look at https://github.com/huggingface/diffusers/pull/254 .\n",
      "100%|█████████████████████████████████████████████████████████████████████████████████████████████████████████| 50/50 [00:34<00:00,  1.47it/s]\n",
      "100%|█████████████████████████████████████████████████████████████████████████████████████████████████████████| 50/50 [00:34<00:00,  1.47it/s]\n",
      "100%|█████████████████████████████████████████████████████████████████████████████████████████████████████████| 50/50 [00:34<00:00,  1.47it/s]\n",
      "100%|█████████████████████████████████████████████████████████████████████████████████████████████████████████| 50/50 [00:34<00:00,  1.47it/s]\n",
      "100%|█████████████████████████████████████████████████████████████████████████████████████████████████████████| 50/50 [00:34<00:00,  1.47it/s]\n",
      "100%|█████████████████████████████████████████████████████████████████████████████████████████████████████████| 50/50 [00:34<00:00,  1.47it/s]\n"
     ]
    },
    {
     "name": "stdout",
     "output_type": "stream",
     "text": [
      "[tensor(0.8000), tensor(0.3000), tensor(0.), tensor(0.), tensor(0.7000), tensor(0.8000)]\n",
      "0.4333333\n"
     ]
    },
    {
     "name": "stderr",
     "output_type": "stream",
     "text": [
      "Keyword arguments {'dtype': torch.bfloat16} are not expected by StableDiffusionPipeline and will be ignored.\n",
      "Loading pipeline components...: 100%|███████████████████████████████████████████████████████████████████████████| 6/6 [00:00<00:00, 11.56it/s]\n",
      "You have disabled the safety checker for <class 'diffusers.pipelines.stable_diffusion.pipeline_stable_diffusion.StableDiffusionPipeline'> by passing `safety_checker=None`. Ensure that you abide to the conditions of the Stable Diffusion license and do not expose unfiltered results in services or applications open to the public. Both the diffusers team and Hugging Face strongly recommend to keep the safety filter enabled in all public facing circumstances, disabling it only for use-cases that involve analyzing network behavior or auditing its results. For more information, please have a look at https://github.com/huggingface/diffusers/pull/254 .\n",
      "100%|█████████████████████████████████████████████████████████████████████████████████████████████████████████| 50/50 [00:34<00:00,  1.47it/s]\n",
      "100%|█████████████████████████████████████████████████████████████████████████████████████████████████████████| 50/50 [00:34<00:00,  1.47it/s]\n",
      "100%|█████████████████████████████████████████████████████████████████████████████████████████████████████████| 50/50 [00:34<00:00,  1.47it/s]\n",
      "100%|█████████████████████████████████████████████████████████████████████████████████████████████████████████| 50/50 [00:34<00:00,  1.46it/s]\n",
      "100%|█████████████████████████████████████████████████████████████████████████████████████████████████████████| 50/50 [00:34<00:00,  1.47it/s]\n",
      "100%|█████████████████████████████████████████████████████████████████████████████████████████████████████████| 50/50 [00:34<00:00,  1.47it/s]\n"
     ]
    },
    {
     "name": "stdout",
     "output_type": "stream",
     "text": [
      "[tensor(0.9000), tensor(0.5000), tensor(0.), tensor(0.), tensor(0.3000), tensor(1.)]\n",
      "0.45000002\n"
     ]
    },
    {
     "name": "stderr",
     "output_type": "stream",
     "text": [
      "Keyword arguments {'dtype': torch.bfloat16} are not expected by StableDiffusionPipeline and will be ignored.\n",
      "Loading pipeline components...: 100%|███████████████████████████████████████████████████████████████████████████| 6/6 [00:00<00:00, 11.66it/s]\n",
      "You have disabled the safety checker for <class 'diffusers.pipelines.stable_diffusion.pipeline_stable_diffusion.StableDiffusionPipeline'> by passing `safety_checker=None`. Ensure that you abide to the conditions of the Stable Diffusion license and do not expose unfiltered results in services or applications open to the public. Both the diffusers team and Hugging Face strongly recommend to keep the safety filter enabled in all public facing circumstances, disabling it only for use-cases that involve analyzing network behavior or auditing its results. For more information, please have a look at https://github.com/huggingface/diffusers/pull/254 .\n",
      "100%|█████████████████████████████████████████████████████████████████████████████████████████████████████████| 50/50 [00:34<00:00,  1.47it/s]\n",
      "100%|█████████████████████████████████████████████████████████████████████████████████████████████████████████| 50/50 [00:34<00:00,  1.47it/s]\n",
      "100%|█████████████████████████████████████████████████████████████████████████████████████████████████████████| 50/50 [00:34<00:00,  1.47it/s]\n",
      "100%|█████████████████████████████████████████████████████████████████████████████████████████████████████████| 50/50 [00:34<00:00,  1.47it/s]\n",
      "100%|█████████████████████████████████████████████████████████████████████████████████████████████████████████| 50/50 [00:34<00:00,  1.47it/s]\n",
      "100%|█████████████████████████████████████████████████████████████████████████████████████████████████████████| 50/50 [00:34<00:00,  1.47it/s]\n"
     ]
    },
    {
     "name": "stdout",
     "output_type": "stream",
     "text": [
      "[tensor(0.8000), tensor(0.5000), tensor(0.), tensor(0.), tensor(0.1000), tensor(1.)]\n",
      "0.4\n"
     ]
    },
    {
     "name": "stderr",
     "output_type": "stream",
     "text": [
      "Keyword arguments {'dtype': torch.bfloat16} are not expected by StableDiffusionPipeline and will be ignored.\n",
      "Loading pipeline components...: 100%|███████████████████████████████████████████████████████████████████████████| 6/6 [00:00<00:00, 11.29it/s]\n",
      "You have disabled the safety checker for <class 'diffusers.pipelines.stable_diffusion.pipeline_stable_diffusion.StableDiffusionPipeline'> by passing `safety_checker=None`. Ensure that you abide to the conditions of the Stable Diffusion license and do not expose unfiltered results in services or applications open to the public. Both the diffusers team and Hugging Face strongly recommend to keep the safety filter enabled in all public facing circumstances, disabling it only for use-cases that involve analyzing network behavior or auditing its results. For more information, please have a look at https://github.com/huggingface/diffusers/pull/254 .\n",
      "100%|█████████████████████████████████████████████████████████████████████████████████████████████████████████| 50/50 [00:34<00:00,  1.47it/s]\n",
      "100%|█████████████████████████████████████████████████████████████████████████████████████████████████████████| 50/50 [00:34<00:00,  1.47it/s]\n",
      "100%|█████████████████████████████████████████████████████████████████████████████████████████████████████████| 50/50 [00:34<00:00,  1.47it/s]\n",
      "100%|█████████████████████████████████████████████████████████████████████████████████████████████████████████| 50/50 [00:34<00:00,  1.47it/s]\n",
      "100%|█████████████████████████████████████████████████████████████████████████████████████████████████████████| 50/50 [00:34<00:00,  1.47it/s]\n",
      "100%|█████████████████████████████████████████████████████████████████████████████████████████████████████████| 50/50 [00:34<00:00,  1.47it/s]\n"
     ]
    },
    {
     "name": "stdout",
     "output_type": "stream",
     "text": [
      "[tensor(0.9000), tensor(0.5000), tensor(0.1000), tensor(0.), tensor(0.3000), tensor(1.)]\n",
      "0.46666667\n"
     ]
    },
    {
     "name": "stderr",
     "output_type": "stream",
     "text": [
      "Keyword arguments {'dtype': torch.bfloat16} are not expected by StableDiffusionPipeline and will be ignored.\n",
      "Loading pipeline components...: 100%|███████████████████████████████████████████████████████████████████████████| 6/6 [00:00<00:00, 11.63it/s]\n",
      "You have disabled the safety checker for <class 'diffusers.pipelines.stable_diffusion.pipeline_stable_diffusion.StableDiffusionPipeline'> by passing `safety_checker=None`. Ensure that you abide to the conditions of the Stable Diffusion license and do not expose unfiltered results in services or applications open to the public. Both the diffusers team and Hugging Face strongly recommend to keep the safety filter enabled in all public facing circumstances, disabling it only for use-cases that involve analyzing network behavior or auditing its results. For more information, please have a look at https://github.com/huggingface/diffusers/pull/254 .\n",
      "100%|█████████████████████████████████████████████████████████████████████████████████████████████████████████| 50/50 [00:34<00:00,  1.47it/s]\n",
      "100%|█████████████████████████████████████████████████████████████████████████████████████████████████████████| 50/50 [00:34<00:00,  1.47it/s]\n",
      "100%|█████████████████████████████████████████████████████████████████████████████████████████████████████████| 50/50 [00:34<00:00,  1.47it/s]\n",
      "100%|█████████████████████████████████████████████████████████████████████████████████████████████████████████| 50/50 [00:34<00:00,  1.47it/s]\n",
      "100%|█████████████████████████████████████████████████████████████████████████████████████████████████████████| 50/50 [00:34<00:00,  1.47it/s]\n",
      "100%|█████████████████████████████████████████████████████████████████████████████████████████████████████████| 50/50 [00:34<00:00,  1.47it/s]\n"
     ]
    },
    {
     "name": "stdout",
     "output_type": "stream",
     "text": [
      "[tensor(0.9000), tensor(0.5000), tensor(0.), tensor(0.1000), tensor(0.4000), tensor(0.9000)]\n",
      "0.46666667\n"
     ]
    },
    {
     "name": "stderr",
     "output_type": "stream",
     "text": [
      "Keyword arguments {'dtype': torch.bfloat16} are not expected by StableDiffusionPipeline and will be ignored.\n",
      "Loading pipeline components...: 100%|███████████████████████████████████████████████████████████████████████████| 6/6 [00:00<00:00, 11.62it/s]\n",
      "You have disabled the safety checker for <class 'diffusers.pipelines.stable_diffusion.pipeline_stable_diffusion.StableDiffusionPipeline'> by passing `safety_checker=None`. Ensure that you abide to the conditions of the Stable Diffusion license and do not expose unfiltered results in services or applications open to the public. Both the diffusers team and Hugging Face strongly recommend to keep the safety filter enabled in all public facing circumstances, disabling it only for use-cases that involve analyzing network behavior or auditing its results. For more information, please have a look at https://github.com/huggingface/diffusers/pull/254 .\n",
      "100%|█████████████████████████████████████████████████████████████████████████████████████████████████████████| 50/50 [00:34<00:00,  1.47it/s]\n",
      "100%|█████████████████████████████████████████████████████████████████████████████████████████████████████████| 50/50 [00:34<00:00,  1.47it/s]\n",
      "100%|█████████████████████████████████████████████████████████████████████████████████████████████████████████| 50/50 [00:34<00:00,  1.47it/s]\n",
      "100%|█████████████████████████████████████████████████████████████████████████████████████████████████████████| 50/50 [00:34<00:00,  1.47it/s]\n",
      "100%|█████████████████████████████████████████████████████████████████████████████████████████████████████████| 50/50 [00:34<00:00,  1.47it/s]\n",
      "100%|█████████████████████████████████████████████████████████████████████████████████████████████████████████| 50/50 [00:34<00:00,  1.47it/s]\n"
     ]
    },
    {
     "name": "stdout",
     "output_type": "stream",
     "text": [
      "[tensor(0.7000), tensor(0.6000), tensor(0.), tensor(0.), tensor(0.5000), tensor(0.9000)]\n",
      "0.44999996\n"
     ]
    }
   ],
   "source": [
    "model_id = \"runwayml/stable-diffusion-v1-5\"\n",
    "checkpoints = np.arange(200, 2001, 200)\n",
    "num_images = 10\n",
    "\n",
    "checkpoint_results = {}\n",
    "for checkpoint in checkpoints: \n",
    "    file_prefix = f\"/mnt/scratch-lids/scratch/qixuanj/waterbirds_finetune_sd_base/checkpoint-{checkpoint}\"\n",
    "    unet = UNet2DConditionModel.from_pretrained(f\"{file_prefix}/unet\")\n",
    "    pipe = DiffusionPipeline.from_pretrained(model_id, unet=unet, dtype=torch.bfloat16, safety_checker=None,)\n",
    "    pipe.to(\"cuda\")\n",
    "    \n",
    "    prompts = [\n",
    "        \"a photo of landbird with background of <wb-source-domain>\", \n",
    "        \"a photo of waterbird with background of <wb-source-domain>\",\n",
    "        \"a photo of landbird with background of blue ocean or lake\",\n",
    "        \"a photo of waterbird with background of green bamboo forest\",\n",
    "        \"a photo of waterbird with background of blue ocean or lake\",\n",
    "        \"a photo of landbird with background of green bamboo forest\",\n",
    "    ]\n",
    "\n",
    "    acc_results = []\n",
    "    for i, p in enumerate(prompts): \n",
    "        images = pipe(prompt=p, \n",
    "                      strength=0.9, guidance_scale=7.5, num_inference_steps=50, \n",
    "                      num_images_per_prompt=num_images).images\n",
    "        images_t = []\n",
    "        for image in images: \n",
    "            images_t.append(transform(image).to(\"cuda\"))\n",
    "        images_t = torch.stack(images_t)\n",
    "        outputs = model(images_t).detach().cpu().squeeze()\n",
    "        outputs = sigmoid(outputs)\n",
    "        if \"landbird\" in p and \"<wb-source-domain>\" in p: \n",
    "            targets = torch.full((num_images, 1), 0).squeeze()\n",
    "        elif \"landbird\" in p and \"forest\" in p: \n",
    "            targets = torch.full((num_images, 1), 0).squeeze()\n",
    "        elif \"landbird\" in p and \"ocean\" in p: \n",
    "            targets = torch.full((num_images, 1), 1).squeeze()\n",
    "        elif \"waterbird\" in p and \"<wb-source-domain>\" in p: \n",
    "            targets = torch.full((num_images, 1), 3).squeeze()\n",
    "        elif \"waterbird\" in p and \"ocean\" in p: \n",
    "            targets = torch.full((num_images, 1), 3).squeeze()\n",
    "        elif \"waterbird\" in p and \"forest\" in p: \n",
    "            targets = torch.full((num_images, 1), 2).squeeze()\n",
    "\n",
    "        acc = MulticlassAccuracy()\n",
    "        acc.update(outputs, targets)\n",
    "        acc_results.append(acc.compute())\n",
    "    print(acc_results)\n",
    "    print(np.mean(np.array(acc_results)))\n",
    "    checkpoint_results[checkpoint] = acc_results\n",
    "with open(f\"/mnt/scratch-lids/scratch/qixuanj/waterbirds_finetune_sd_base/checkpoint_group_results2.pkl\", \"wb\") as f: \n",
    "    pickle.dump(checkpoint_results, f) \n",
    "for checkpoint, result in checkpoint_results.items(): \n",
    "    result = [x.item() for x in result]\n",
    "    print(f\"checkpoint {checkpoint}: {round(np.mean(np.array(result)), 3)}\")"
   ]
  },
  {
   "cell_type": "code",
   "execution_count": 38,
   "id": "9991d410-27af-403f-ac4e-675735e7cd0b",
   "metadata": {},
   "outputs": [
    {
     "name": "stderr",
     "output_type": "stream",
     "text": [
      "Keyword arguments {'dtype': torch.bfloat16} are not expected by StableDiffusionPipeline and will be ignored.\n",
      "Loading pipeline components...: 100%|███████████████████████████████████████████████████████████████████████████| 6/6 [00:00<00:00, 13.42it/s]\n",
      "You have disabled the safety checker for <class 'diffusers.pipelines.stable_diffusion.pipeline_stable_diffusion.StableDiffusionPipeline'> by passing `safety_checker=None`. Ensure that you abide to the conditions of the Stable Diffusion license and do not expose unfiltered results in services or applications open to the public. Both the diffusers team and Hugging Face strongly recommend to keep the safety filter enabled in all public facing circumstances, disabling it only for use-cases that involve analyzing network behavior or auditing its results. For more information, please have a look at https://github.com/huggingface/diffusers/pull/254 .\n"
     ]
    },
    {
     "ename": "KeyboardInterrupt",
     "evalue": "",
     "output_type": "error",
     "traceback": [
      "\u001b[0;31m---------------------------------------------------------------------------\u001b[0m",
      "\u001b[0;31mKeyboardInterrupt\u001b[0m                         Traceback (most recent call last)",
      "Cell \u001b[0;32mIn[38], line 19\u001b[0m\n\u001b[1;32m     17\u001b[0m unet \u001b[38;5;241m=\u001b[39m UNet2DConditionModel\u001b[38;5;241m.\u001b[39mfrom_pretrained(\u001b[38;5;124mf\u001b[39m\u001b[38;5;124m\"\u001b[39m\u001b[38;5;132;01m{\u001b[39;00mfile_prefix\u001b[38;5;132;01m}\u001b[39;00m\u001b[38;5;124m/unet\u001b[39m\u001b[38;5;124m\"\u001b[39m)\n\u001b[1;32m     18\u001b[0m pipe \u001b[38;5;241m=\u001b[39m DiffusionPipeline\u001b[38;5;241m.\u001b[39mfrom_pretrained(model_id, unet\u001b[38;5;241m=\u001b[39munet, dtype\u001b[38;5;241m=\u001b[39mtorch\u001b[38;5;241m.\u001b[39mbfloat16, safety_checker\u001b[38;5;241m=\u001b[39m\u001b[38;5;28;01mNone\u001b[39;00m,)\n\u001b[0;32m---> 19\u001b[0m \u001b[43mpipe\u001b[49m\u001b[38;5;241;43m.\u001b[39;49m\u001b[43mto\u001b[49m\u001b[43m(\u001b[49m\u001b[38;5;124;43m\"\u001b[39;49m\u001b[38;5;124;43mcuda\u001b[39;49m\u001b[38;5;124;43m\"\u001b[39;49m\u001b[43m)\u001b[49m\n\u001b[1;32m     21\u001b[0m prompts \u001b[38;5;241m=\u001b[39m [\n\u001b[1;32m     22\u001b[0m     \u001b[38;5;124m\"\u001b[39m\u001b[38;5;124ma photo of landbird with background of <wb-source-domain>\u001b[39m\u001b[38;5;124m\"\u001b[39m, \n\u001b[1;32m     23\u001b[0m     \u001b[38;5;124m\"\u001b[39m\u001b[38;5;124ma photo of waterbird with background of <wb-source-domain>\u001b[39m\u001b[38;5;124m\"\u001b[39m,\n\u001b[0;32m   (...)\u001b[0m\n\u001b[1;32m     29\u001b[0m     \u001b[38;5;66;03m# \"a photo of landbird with background of green bamboo forest\",\u001b[39;00m\n\u001b[1;32m     30\u001b[0m ]\n\u001b[1;32m     32\u001b[0m acc_results \u001b[38;5;241m=\u001b[39m []\n",
      "File \u001b[0;32m~/anaconda3/envs/control/lib/python3.8/site-packages/diffusers/pipelines/pipeline_utils.py:427\u001b[0m, in \u001b[0;36mDiffusionPipeline.to\u001b[0;34m(self, *args, **kwargs)\u001b[0m\n\u001b[1;32m    423\u001b[0m     logger\u001b[38;5;241m.\u001b[39mwarning(\n\u001b[1;32m    424\u001b[0m         \u001b[38;5;124mf\u001b[39m\u001b[38;5;124m\"\u001b[39m\u001b[38;5;124mThe module \u001b[39m\u001b[38;5;124m'\u001b[39m\u001b[38;5;132;01m{\u001b[39;00mmodule\u001b[38;5;241m.\u001b[39m\u001b[38;5;18m__class__\u001b[39m\u001b[38;5;241m.\u001b[39m\u001b[38;5;18m__name__\u001b[39m\u001b[38;5;132;01m}\u001b[39;00m\u001b[38;5;124m'\u001b[39m\u001b[38;5;124m has been loaded in 8bit and moving it to \u001b[39m\u001b[38;5;132;01m{\u001b[39;00mdtype\u001b[38;5;132;01m}\u001b[39;00m\u001b[38;5;124m via `.to()` is not yet supported. Module is still on \u001b[39m\u001b[38;5;132;01m{\u001b[39;00mmodule\u001b[38;5;241m.\u001b[39mdevice\u001b[38;5;132;01m}\u001b[39;00m\u001b[38;5;124m.\u001b[39m\u001b[38;5;124m\"\u001b[39m\n\u001b[1;32m    425\u001b[0m     )\n\u001b[1;32m    426\u001b[0m \u001b[38;5;28;01melse\u001b[39;00m:\n\u001b[0;32m--> 427\u001b[0m     \u001b[43mmodule\u001b[49m\u001b[38;5;241;43m.\u001b[39;49m\u001b[43mto\u001b[49m\u001b[43m(\u001b[49m\u001b[43mdevice\u001b[49m\u001b[43m,\u001b[49m\u001b[43m \u001b[49m\u001b[43mdtype\u001b[49m\u001b[43m)\u001b[49m\n\u001b[1;32m    429\u001b[0m \u001b[38;5;28;01mif\u001b[39;00m (\n\u001b[1;32m    430\u001b[0m     module\u001b[38;5;241m.\u001b[39mdtype \u001b[38;5;241m==\u001b[39m torch\u001b[38;5;241m.\u001b[39mfloat16\n\u001b[1;32m    431\u001b[0m     \u001b[38;5;129;01mand\u001b[39;00m \u001b[38;5;28mstr\u001b[39m(device) \u001b[38;5;129;01min\u001b[39;00m [\u001b[38;5;124m\"\u001b[39m\u001b[38;5;124mcpu\u001b[39m\u001b[38;5;124m\"\u001b[39m]\n\u001b[1;32m    432\u001b[0m     \u001b[38;5;129;01mand\u001b[39;00m \u001b[38;5;129;01mnot\u001b[39;00m silence_dtype_warnings\n\u001b[1;32m    433\u001b[0m     \u001b[38;5;129;01mand\u001b[39;00m \u001b[38;5;129;01mnot\u001b[39;00m is_offloaded\n\u001b[1;32m    434\u001b[0m ):\n\u001b[1;32m    435\u001b[0m     logger\u001b[38;5;241m.\u001b[39mwarning(\n\u001b[1;32m    436\u001b[0m         \u001b[38;5;124m\"\u001b[39m\u001b[38;5;124mPipelines loaded with `dtype=torch.float16` cannot run with `cpu` device. It\u001b[39m\u001b[38;5;124m\"\u001b[39m\n\u001b[1;32m    437\u001b[0m         \u001b[38;5;124m\"\u001b[39m\u001b[38;5;124m is not recommended to move them to `cpu` as running them will fail. Please make\u001b[39m\u001b[38;5;124m\"\u001b[39m\n\u001b[0;32m   (...)\u001b[0m\n\u001b[1;32m    440\u001b[0m         \u001b[38;5;124m\"\u001b[39m\u001b[38;5;124m `torch_dtype=torch.float16` argument, or use another device for inference.\u001b[39m\u001b[38;5;124m\"\u001b[39m\n\u001b[1;32m    441\u001b[0m     )\n",
      "File \u001b[0;32m~/anaconda3/envs/control/lib/python3.8/site-packages/torch/nn/modules/module.py:1160\u001b[0m, in \u001b[0;36mModule.to\u001b[0;34m(self, *args, **kwargs)\u001b[0m\n\u001b[1;32m   1156\u001b[0m         \u001b[38;5;28;01mreturn\u001b[39;00m t\u001b[38;5;241m.\u001b[39mto(device, dtype \u001b[38;5;28;01mif\u001b[39;00m t\u001b[38;5;241m.\u001b[39mis_floating_point() \u001b[38;5;129;01mor\u001b[39;00m t\u001b[38;5;241m.\u001b[39mis_complex() \u001b[38;5;28;01melse\u001b[39;00m \u001b[38;5;28;01mNone\u001b[39;00m,\n\u001b[1;32m   1157\u001b[0m                     non_blocking, memory_format\u001b[38;5;241m=\u001b[39mconvert_to_format)\n\u001b[1;32m   1158\u001b[0m     \u001b[38;5;28;01mreturn\u001b[39;00m t\u001b[38;5;241m.\u001b[39mto(device, dtype \u001b[38;5;28;01mif\u001b[39;00m t\u001b[38;5;241m.\u001b[39mis_floating_point() \u001b[38;5;129;01mor\u001b[39;00m t\u001b[38;5;241m.\u001b[39mis_complex() \u001b[38;5;28;01melse\u001b[39;00m \u001b[38;5;28;01mNone\u001b[39;00m, non_blocking)\n\u001b[0;32m-> 1160\u001b[0m \u001b[38;5;28;01mreturn\u001b[39;00m \u001b[38;5;28;43mself\u001b[39;49m\u001b[38;5;241;43m.\u001b[39;49m\u001b[43m_apply\u001b[49m\u001b[43m(\u001b[49m\u001b[43mconvert\u001b[49m\u001b[43m)\u001b[49m\n",
      "File \u001b[0;32m~/anaconda3/envs/control/lib/python3.8/site-packages/torch/nn/modules/module.py:810\u001b[0m, in \u001b[0;36mModule._apply\u001b[0;34m(self, fn, recurse)\u001b[0m\n\u001b[1;32m    808\u001b[0m \u001b[38;5;28;01mif\u001b[39;00m recurse:\n\u001b[1;32m    809\u001b[0m     \u001b[38;5;28;01mfor\u001b[39;00m module \u001b[38;5;129;01min\u001b[39;00m \u001b[38;5;28mself\u001b[39m\u001b[38;5;241m.\u001b[39mchildren():\n\u001b[0;32m--> 810\u001b[0m         \u001b[43mmodule\u001b[49m\u001b[38;5;241;43m.\u001b[39;49m\u001b[43m_apply\u001b[49m\u001b[43m(\u001b[49m\u001b[43mfn\u001b[49m\u001b[43m)\u001b[49m\n\u001b[1;32m    812\u001b[0m \u001b[38;5;28;01mdef\u001b[39;00m \u001b[38;5;21mcompute_should_use_set_data\u001b[39m(tensor, tensor_applied):\n\u001b[1;32m    813\u001b[0m     \u001b[38;5;28;01mif\u001b[39;00m torch\u001b[38;5;241m.\u001b[39m_has_compatible_shallow_copy_type(tensor, tensor_applied):\n\u001b[1;32m    814\u001b[0m         \u001b[38;5;66;03m# If the new tensor has compatible tensor type as the existing tensor,\u001b[39;00m\n\u001b[1;32m    815\u001b[0m         \u001b[38;5;66;03m# the current behavior is to change the tensor in-place using `.data =`,\u001b[39;00m\n\u001b[0;32m   (...)\u001b[0m\n\u001b[1;32m    820\u001b[0m         \u001b[38;5;66;03m# global flag to let the user control whether they want the future\u001b[39;00m\n\u001b[1;32m    821\u001b[0m         \u001b[38;5;66;03m# behavior of overwriting the existing tensor or not.\u001b[39;00m\n",
      "File \u001b[0;32m~/anaconda3/envs/control/lib/python3.8/site-packages/torch/nn/modules/module.py:810\u001b[0m, in \u001b[0;36mModule._apply\u001b[0;34m(self, fn, recurse)\u001b[0m\n\u001b[1;32m    808\u001b[0m \u001b[38;5;28;01mif\u001b[39;00m recurse:\n\u001b[1;32m    809\u001b[0m     \u001b[38;5;28;01mfor\u001b[39;00m module \u001b[38;5;129;01min\u001b[39;00m \u001b[38;5;28mself\u001b[39m\u001b[38;5;241m.\u001b[39mchildren():\n\u001b[0;32m--> 810\u001b[0m         \u001b[43mmodule\u001b[49m\u001b[38;5;241;43m.\u001b[39;49m\u001b[43m_apply\u001b[49m\u001b[43m(\u001b[49m\u001b[43mfn\u001b[49m\u001b[43m)\u001b[49m\n\u001b[1;32m    812\u001b[0m \u001b[38;5;28;01mdef\u001b[39;00m \u001b[38;5;21mcompute_should_use_set_data\u001b[39m(tensor, tensor_applied):\n\u001b[1;32m    813\u001b[0m     \u001b[38;5;28;01mif\u001b[39;00m torch\u001b[38;5;241m.\u001b[39m_has_compatible_shallow_copy_type(tensor, tensor_applied):\n\u001b[1;32m    814\u001b[0m         \u001b[38;5;66;03m# If the new tensor has compatible tensor type as the existing tensor,\u001b[39;00m\n\u001b[1;32m    815\u001b[0m         \u001b[38;5;66;03m# the current behavior is to change the tensor in-place using `.data =`,\u001b[39;00m\n\u001b[0;32m   (...)\u001b[0m\n\u001b[1;32m    820\u001b[0m         \u001b[38;5;66;03m# global flag to let the user control whether they want the future\u001b[39;00m\n\u001b[1;32m    821\u001b[0m         \u001b[38;5;66;03m# behavior of overwriting the existing tensor or not.\u001b[39;00m\n",
      "    \u001b[0;31m[... skipping similar frames: Module._apply at line 810 (7 times)]\u001b[0m\n",
      "File \u001b[0;32m~/anaconda3/envs/control/lib/python3.8/site-packages/torch/nn/modules/module.py:810\u001b[0m, in \u001b[0;36mModule._apply\u001b[0;34m(self, fn, recurse)\u001b[0m\n\u001b[1;32m    808\u001b[0m \u001b[38;5;28;01mif\u001b[39;00m recurse:\n\u001b[1;32m    809\u001b[0m     \u001b[38;5;28;01mfor\u001b[39;00m module \u001b[38;5;129;01min\u001b[39;00m \u001b[38;5;28mself\u001b[39m\u001b[38;5;241m.\u001b[39mchildren():\n\u001b[0;32m--> 810\u001b[0m         \u001b[43mmodule\u001b[49m\u001b[38;5;241;43m.\u001b[39;49m\u001b[43m_apply\u001b[49m\u001b[43m(\u001b[49m\u001b[43mfn\u001b[49m\u001b[43m)\u001b[49m\n\u001b[1;32m    812\u001b[0m \u001b[38;5;28;01mdef\u001b[39;00m \u001b[38;5;21mcompute_should_use_set_data\u001b[39m(tensor, tensor_applied):\n\u001b[1;32m    813\u001b[0m     \u001b[38;5;28;01mif\u001b[39;00m torch\u001b[38;5;241m.\u001b[39m_has_compatible_shallow_copy_type(tensor, tensor_applied):\n\u001b[1;32m    814\u001b[0m         \u001b[38;5;66;03m# If the new tensor has compatible tensor type as the existing tensor,\u001b[39;00m\n\u001b[1;32m    815\u001b[0m         \u001b[38;5;66;03m# the current behavior is to change the tensor in-place using `.data =`,\u001b[39;00m\n\u001b[0;32m   (...)\u001b[0m\n\u001b[1;32m    820\u001b[0m         \u001b[38;5;66;03m# global flag to let the user control whether they want the future\u001b[39;00m\n\u001b[1;32m    821\u001b[0m         \u001b[38;5;66;03m# behavior of overwriting the existing tensor or not.\u001b[39;00m\n",
      "File \u001b[0;32m~/anaconda3/envs/control/lib/python3.8/site-packages/torch/nn/modules/module.py:833\u001b[0m, in \u001b[0;36mModule._apply\u001b[0;34m(self, fn, recurse)\u001b[0m\n\u001b[1;32m    829\u001b[0m \u001b[38;5;66;03m# Tensors stored in modules are graph leaves, and we don't want to\u001b[39;00m\n\u001b[1;32m    830\u001b[0m \u001b[38;5;66;03m# track autograd history of `param_applied`, so we have to use\u001b[39;00m\n\u001b[1;32m    831\u001b[0m \u001b[38;5;66;03m# `with torch.no_grad():`\u001b[39;00m\n\u001b[1;32m    832\u001b[0m \u001b[38;5;28;01mwith\u001b[39;00m torch\u001b[38;5;241m.\u001b[39mno_grad():\n\u001b[0;32m--> 833\u001b[0m     param_applied \u001b[38;5;241m=\u001b[39m \u001b[43mfn\u001b[49m\u001b[43m(\u001b[49m\u001b[43mparam\u001b[49m\u001b[43m)\u001b[49m\n\u001b[1;32m    834\u001b[0m should_use_set_data \u001b[38;5;241m=\u001b[39m compute_should_use_set_data(param, param_applied)\n\u001b[1;32m    835\u001b[0m \u001b[38;5;28;01mif\u001b[39;00m should_use_set_data:\n",
      "File \u001b[0;32m~/anaconda3/envs/control/lib/python3.8/site-packages/torch/nn/modules/module.py:1158\u001b[0m, in \u001b[0;36mModule.to.<locals>.convert\u001b[0;34m(t)\u001b[0m\n\u001b[1;32m   1155\u001b[0m \u001b[38;5;28;01mif\u001b[39;00m convert_to_format \u001b[38;5;129;01mis\u001b[39;00m \u001b[38;5;129;01mnot\u001b[39;00m \u001b[38;5;28;01mNone\u001b[39;00m \u001b[38;5;129;01mand\u001b[39;00m t\u001b[38;5;241m.\u001b[39mdim() \u001b[38;5;129;01min\u001b[39;00m (\u001b[38;5;241m4\u001b[39m, \u001b[38;5;241m5\u001b[39m):\n\u001b[1;32m   1156\u001b[0m     \u001b[38;5;28;01mreturn\u001b[39;00m t\u001b[38;5;241m.\u001b[39mto(device, dtype \u001b[38;5;28;01mif\u001b[39;00m t\u001b[38;5;241m.\u001b[39mis_floating_point() \u001b[38;5;129;01mor\u001b[39;00m t\u001b[38;5;241m.\u001b[39mis_complex() \u001b[38;5;28;01melse\u001b[39;00m \u001b[38;5;28;01mNone\u001b[39;00m,\n\u001b[1;32m   1157\u001b[0m                 non_blocking, memory_format\u001b[38;5;241m=\u001b[39mconvert_to_format)\n\u001b[0;32m-> 1158\u001b[0m \u001b[38;5;28;01mreturn\u001b[39;00m \u001b[43mt\u001b[49m\u001b[38;5;241;43m.\u001b[39;49m\u001b[43mto\u001b[49m\u001b[43m(\u001b[49m\u001b[43mdevice\u001b[49m\u001b[43m,\u001b[49m\u001b[43m \u001b[49m\u001b[43mdtype\u001b[49m\u001b[43m \u001b[49m\u001b[38;5;28;43;01mif\u001b[39;49;00m\u001b[43m \u001b[49m\u001b[43mt\u001b[49m\u001b[38;5;241;43m.\u001b[39;49m\u001b[43mis_floating_point\u001b[49m\u001b[43m(\u001b[49m\u001b[43m)\u001b[49m\u001b[43m \u001b[49m\u001b[38;5;129;43;01mor\u001b[39;49;00m\u001b[43m \u001b[49m\u001b[43mt\u001b[49m\u001b[38;5;241;43m.\u001b[39;49m\u001b[43mis_complex\u001b[49m\u001b[43m(\u001b[49m\u001b[43m)\u001b[49m\u001b[43m \u001b[49m\u001b[38;5;28;43;01melse\u001b[39;49;00m\u001b[43m \u001b[49m\u001b[38;5;28;43;01mNone\u001b[39;49;00m\u001b[43m,\u001b[49m\u001b[43m \u001b[49m\u001b[43mnon_blocking\u001b[49m\u001b[43m)\u001b[49m\n",
      "\u001b[0;31mKeyboardInterrupt\u001b[0m: "
     ]
    }
   ],
   "source": [
    "keywords = [\n",
    "    \"waterbirds_finetune_sd_transfer_10\",\n",
    "    \"waterbirds_finetune_sd_transfer_50\",\n",
    "    \"waterbirds_finetune_sd_transfer_100\",\n",
    "    \"waterbirds_finetune_sd_transfer_500\",\n",
    "    \"waterbirds_finetune_sd_transfer_816\",\n",
    "           ]\n",
    "\n",
    "model_id = \"runwayml/stable-diffusion-v1-5\"\n",
    "checkpoints = np.arange(200, 2001, 200)\n",
    "num_images = 10\n",
    "\n",
    "for keyword in keywords:\n",
    "    checkpoint_results = {}\n",
    "    for checkpoint in checkpoints: \n",
    "        file_prefix = f\"/mnt/scratch-lids/scratch/qixuanj/{keyword}/checkpoint-{checkpoint}\"\n",
    "        unet = UNet2DConditionModel.from_pretrained(f\"{file_prefix}/unet\")\n",
    "        pipe = DiffusionPipeline.from_pretrained(model_id, unet=unet, dtype=torch.bfloat16, safety_checker=None,)\n",
    "        pipe.to(\"cuda\")\n",
    "        \n",
    "        prompts = [\n",
    "            \"a photo of landbird with background of <wb-source-domain>\", \n",
    "            \"a photo of waterbird with background of <wb-source-domain>\",\n",
    "            \"a photo of landbird with background of <wb-target-domain>\", \n",
    "            \"a photo of waterbird with background of <wb-target-domain>\",\n",
    "            # \"a photo of landbird with background of blue ocean or lake\",\n",
    "            # \"a photo of waterbird with background of green bamboo forest\",\n",
    "            # \"a photo of waterbird with background of blue ocean or lake\",\n",
    "            # \"a photo of landbird with background of green bamboo forest\",\n",
    "        ]\n",
    "    \n",
    "        acc_results = []\n",
    "        for i, p in enumerate(prompts): \n",
    "            images = pipe(prompt=p, \n",
    "                          strength=0.9, guidance_scale=7.5, num_inference_steps=50, \n",
    "                          num_images_per_prompt=num_images).images\n",
    "            images_t = []\n",
    "            for image in images: \n",
    "                images_t.append(transform(image).to(\"cuda\"))\n",
    "            images_t = torch.stack(images_t)\n",
    "            outputs = model(images_t).detach().cpu().squeeze()\n",
    "            outputs = sigmoid(outputs)\n",
    "            if \"landbird\" in p and \"<wb-source-domain>\" in p: \n",
    "                targets = torch.full((num_images, 1), 0).squeeze()\n",
    "            elif \"landbird\" in p and \"<wb-target-domain>\" in p: \n",
    "                targets = torch.full((num_images, 1), 1).squeeze()\n",
    "            elif \"landbird\" in p and \"forest\" in p: \n",
    "                targets = torch.full((num_images, 1), 0).squeeze()\n",
    "            elif \"landbird\" in p and \"ocean\" in p: \n",
    "                targets = torch.full((num_images, 1), 1).squeeze()\n",
    "            elif \"waterbird\" in p and \"<wb-source-domain>\" in p: \n",
    "                targets = torch.full((num_images, 1), 3).squeeze()\n",
    "            elif \"waterbird\" in p and \"<wb-target-domain>\" in p: \n",
    "                targets = torch.full((num_images, 1), 2).squeeze()\n",
    "            elif \"waterbird\" in p and \"ocean\" in p: \n",
    "                targets = torch.full((num_images, 1), 3).squeeze()\n",
    "            elif \"waterbird\" in p and \"forest\" in p: \n",
    "                targets = torch.full((num_images, 1), 2).squeeze()\n",
    "    \n",
    "            acc = MulticlassAccuracy()\n",
    "            acc.update(outputs, targets)\n",
    "            acc_results.append(acc.compute())\n",
    "        print(acc_results)\n",
    "        print(np.mean(np.array(acc_results)))\n",
    "        checkpoint_results[checkpoint] = acc_results\n",
    "    with open(f\"/mnt/scratch-lids/scratch/qixuanj/{keyword}/checkpoint_group_results2.pkl\", \"wb\") as f: \n",
    "        pickle.dump(checkpoint_results, f) \n",
    "\n",
    "    print(keyword)\n",
    "    for checkpoint, result in checkpoint_results.items():\n",
    "        result = [x.item() for x in result]\n",
    "        print(f\"checkpoint {checkpoint}: {round(np.mean(np.array(result)), 3)}\")"
   ]
  },
  {
   "cell_type": "code",
   "execution_count": 276,
   "id": "c7413b2a-1aad-4ab5-9f06-483113b66fb2",
   "metadata": {},
   "outputs": [],
   "source": [
    "with open(f\"/mnt/scratch-lids/scratch/qixuanj/waterbirds_finetune_sd_base/checkpoint_group_results2.pkl\", \"wb\") as f: \n",
    "    pickle.dump(checkpoint_results, f) "
   ]
  },
  {
   "cell_type": "code",
   "execution_count": 277,
   "id": "af5bc2ba-fca7-40cc-9299-613a38f0881e",
   "metadata": {},
   "outputs": [
    {
     "name": "stdout",
     "output_type": "stream",
     "text": [
      "checkpoint 200: 0.4\n",
      "checkpoint 400: 0.4\n",
      "checkpoint 600: 0.517\n",
      "checkpoint 800: 0.383\n",
      "checkpoint 1000: 0.433\n",
      "checkpoint 1200: 0.45\n",
      "checkpoint 1400: 0.4\n",
      "checkpoint 1600: 0.467\n",
      "checkpoint 1800: 0.467\n",
      "checkpoint 2000: 0.45\n"
     ]
    }
   ],
   "source": [
    "for checkpoint, result in checkpoint_results.items(): \n",
    "    result = [x.item() for x in result]\n",
    "    print(f\"checkpoint {checkpoint}: {round(np.mean(np.array(result)), 3)}\")"
   ]
  },
  {
   "cell_type": "code",
   "execution_count": null,
   "id": "3f7ce0d8-db0c-4840-ae16-4a8a013a54c7",
   "metadata": {},
   "outputs": [],
   "source": []
  }
 ],
 "metadata": {
  "kernelspec": {
   "display_name": "control",
   "language": "python",
   "name": "control"
  },
  "language_info": {
   "codemirror_mode": {
    "name": "ipython",
    "version": 3
   },
   "file_extension": ".py",
   "mimetype": "text/x-python",
   "name": "python",
   "nbconvert_exporter": "python",
   "pygments_lexer": "ipython3",
   "version": "3.8.5"
  }
 },
 "nbformat": 4,
 "nbformat_minor": 5
}
