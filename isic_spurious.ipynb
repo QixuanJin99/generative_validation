{
 "cells": [
  {
   "cell_type": "code",
   "execution_count": 3,
   "id": "a26fa184-199d-44ea-a12a-3a033384d595",
   "metadata": {},
   "outputs": [],
   "source": [
    "import pandas as pd\n",
    "from PIL import Image\n",
    "from torchvision.datasets import VisionDataset\n",
    "from torchvision import transforms\n",
    "\n",
    "class spuriousDermDataset(VisionDataset):\n",
    "    def __init__(self, file_path, split='train', transform=None):\n",
    "        super(spuriousDermDataset, self).__init__(root=None, transform=transform)\n",
    "\n",
    "        self.file_path = file_path\n",
    "        self.split = split\n",
    "        self.transform = transform\n",
    "\n",
    "        # Load metadata from CSV\n",
    "        self.metadata = pd.read_csv(file_path+'metadata.csv')\n",
    "\n",
    "        # Filter metadata based on split\n",
    "        self.metadata_for_split = self.metadata.iloc[[self.split in x for x in self.metadata['image']]].reset_index(drop=True)\n",
    "\n",
    "    def __len__(self):\n",
    "        return len(self.metadata_for_split)\n",
    "\n",
    "    def __getitem__(self, index):\n",
    "        img_path = self.file_path + self.metadata_for_split.iloc[index]['image']\n",
    "        melanoma_label = self.metadata_for_split.iloc[index]['benign_malignant']\n",
    "        group_label = self.metadata_for_split.iloc[index]['class']\n",
    "\n",
    "        # Load image\n",
    "        img = Image.open(img_path).convert('RGB')\n",
    "\n",
    "\n",
    "        if self.transform:\n",
    "            img = self.transform(img)\n",
    "\n",
    "        return img, melanoma_label, group_label\n",
    "    \n",
    "transform = transforms.Compose([\n",
    "    transforms.Resize((256, 256)),  # Resize image\n",
    "    transforms.ToTensor(),           # Convert to tensor\n",
    "])\n",
    "\n",
    "filepath = \"/data/scratch/wgerych/spurious_ISIC/\" #PATH_TO_SPURIOUS_ISIC \n",
    "dataset = spuriousDermDataset(file_path=filepath, split='extra', transform=transform)\n",
    "\n",
    "img, melanoma_label, group_label = dataset[0]"
   ]
  },
  {
   "cell_type": "code",
   "execution_count": 4,
   "id": "f3ac796a-7ae2-40b2-9cf6-4c1b8934a83d",
   "metadata": {},
   "outputs": [
    {
     "data": {
      "text/plain": [
       "tensor([[[0.4392, 0.4941, 0.4902,  ..., 0.4980, 0.4980, 0.4510],\n",
       "         [0.5765, 0.8353, 0.8431,  ..., 0.8745, 0.8667, 0.6000],\n",
       "         [0.5882, 0.8431, 0.8471,  ..., 0.8863, 0.8784, 0.6000],\n",
       "         ...,\n",
       "         [0.5922, 0.8431, 0.8431,  ..., 0.8784, 0.8784, 0.6039],\n",
       "         [0.5961, 0.8314, 0.8392,  ..., 0.8627, 0.8588, 0.5961],\n",
       "         [0.4510, 0.4863, 0.4824,  ..., 0.4980, 0.4980, 0.4510]],\n",
       "\n",
       "        [[0.4353, 0.4902, 0.4863,  ..., 0.4980, 0.4980, 0.4510],\n",
       "         [0.5725, 0.8314, 0.8392,  ..., 0.8745, 0.8667, 0.6000],\n",
       "         [0.5843, 0.8392, 0.8431,  ..., 0.8863, 0.8784, 0.6000],\n",
       "         ...,\n",
       "         [0.5725, 0.8039, 0.8078,  ..., 0.8784, 0.8784, 0.6039],\n",
       "         [0.5765, 0.8118, 0.8078,  ..., 0.8627, 0.8588, 0.5961],\n",
       "         [0.4392, 0.4745, 0.4706,  ..., 0.4980, 0.4980, 0.4510]],\n",
       "\n",
       "        [[0.4314, 0.4824, 0.4784,  ..., 0.5020, 0.4980, 0.4510],\n",
       "         [0.5647, 0.8235, 0.8314,  ..., 0.8745, 0.8667, 0.6000],\n",
       "         [0.5765, 0.8314, 0.8353,  ..., 0.8863, 0.8784, 0.6000],\n",
       "         ...,\n",
       "         [0.5647, 0.7843, 0.7922,  ..., 0.8784, 0.8784, 0.6039],\n",
       "         [0.5647, 0.7961, 0.7961,  ..., 0.8627, 0.8588, 0.5961],\n",
       "         [0.4314, 0.4667, 0.4627,  ..., 0.4980, 0.4980, 0.4510]]])"
      ]
     },
     "execution_count": 4,
     "metadata": {},
     "output_type": "execute_result"
    }
   ],
   "source": [
    "img"
   ]
  },
  {
   "cell_type": "code",
   "execution_count": 5,
   "id": "96ac12d6-5662-4ee0-9628-04a1c0a35205",
   "metadata": {},
   "outputs": [
    {
     "data": {
      "text/plain": [
       "'malignant'"
      ]
     },
     "execution_count": 5,
     "metadata": {},
     "output_type": "execute_result"
    }
   ],
   "source": [
    "melanoma_label"
   ]
  },
  {
   "cell_type": "code",
   "execution_count": 6,
   "id": "32b49369-9525-4c4f-85c9-380cdeff0860",
   "metadata": {},
   "outputs": [
    {
     "data": {
      "text/plain": [
       "1"
      ]
     },
     "execution_count": 6,
     "metadata": {},
     "output_type": "execute_result"
    }
   ],
   "source": [
    "group_label"
   ]
  },
  {
   "cell_type": "code",
   "execution_count": null,
   "id": "b7318ddd-1c44-45f8-bc0a-6db6c9a4ab3b",
   "metadata": {},
   "outputs": [],
   "source": []
  }
 ],
 "metadata": {
  "kernelspec": {
   "display_name": "Python 3 (ipykernel)",
   "language": "python",
   "name": "python3"
  },
  "language_info": {
   "codemirror_mode": {
    "name": "ipython",
    "version": 3
   },
   "file_extension": ".py",
   "mimetype": "text/x-python",
   "name": "python",
   "nbconvert_exporter": "python",
   "pygments_lexer": "ipython3",
   "version": "3.8.5"
  }
 },
 "nbformat": 4,
 "nbformat_minor": 5
}
