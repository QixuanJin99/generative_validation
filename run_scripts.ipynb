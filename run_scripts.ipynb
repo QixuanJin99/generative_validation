{
 "cells": [
  {
   "cell_type": "code",
   "execution_count": 4,
   "id": "58b6b0ce",
   "metadata": {},
   "outputs": [],
   "source": [
    "import subprocess\n",
    "import os\n",
    "from glob import glob\n",
    "import time"
   ]
  },
  {
   "cell_type": "markdown",
   "id": "b7a774de-86f5-4d9b-948d-161582b3f543",
   "metadata": {
    "jp-MarkdownHeadingCollapsed": true
   },
   "source": [
    "# CXR Diffusion Transfer"
   ]
  },
  {
   "cell_type": "code",
   "execution_count": 8,
   "id": "0e8e39b7-09d8-4d6f-b952-e5a08e1987b8",
   "metadata": {},
   "outputs": [
    {
     "name": "stdout",
     "output_type": "stream",
     "text": [
      "Submitted batch job 274838\n"
     ]
    }
   ],
   "source": [
    "train_nums = [1000]\n",
    "dataset = \"nih\"\n",
    "config = \"match\"\n",
    "model_path = \"runwayml/stable-diffusion-v1-5\"\n",
    "checkpoint_path = \"/mnt/scratch-lids/scratch/qixuanj/cxr_finetune_sd_mimic_base/checkpoint-4500\"\n",
    "dataset_name = f\"/data/healthy-ml/scratch/qixuanj/generative_validation/sd_chestxray_loading_transfer_{config}.py\"\n",
    "\n",
    "for trainnum in train_nums:\n",
    "    program = f'''\n",
    "    sbatch scripts/run_cxr_diffusion.sh {model_path} {checkpoint_path} {dataset} {trainnum} {dataset_name} {config}\n",
    "    '''\n",
    "    subprocess.call(program, shell=True, executable='/bin/bash',)"
   ]
  },
  {
   "cell_type": "code",
   "execution_count": 10,
   "id": "0727c9ec-a5e3-4a39-8039-d99e2ce0b4db",
   "metadata": {},
   "outputs": [
    {
     "name": "stdout",
     "output_type": "stream",
     "text": [
      "Submitted batch job 274840\n"
     ]
    }
   ],
   "source": [
    "train_nums = [1000]\n",
    "dataset = \"nih\"\n",
    "config = \"balanced\"\n",
    "model_path = \"runwayml/stable-diffusion-v1-5\"\n",
    "checkpoint_path = \"/mnt/scratch-lids/scratch/qixuanj/cxr_finetune_sd_mimic_base/checkpoint-4500\"\n",
    "dataset_name = f\"/data/healthy-ml/scratch/qixuanj/generative_validation/sd_chestxray_loading_transfer_{config}.py\"\n",
    "\n",
    "for trainnum in train_nums:\n",
    "    program = f'''\n",
    "    sbatch scripts/run_cxr_diffusion.sh {model_path} {checkpoint_path} {dataset} {trainnum} {dataset_name} {config}\n",
    "    '''\n",
    "    subprocess.call(program, shell=True, executable='/bin/bash',)"
   ]
  },
  {
   "cell_type": "code",
   "execution_count": 2,
   "id": "31ad5b4e-1294-44df-bb4c-787ec5bacc9d",
   "metadata": {},
   "outputs": [],
   "source": [
    "model_path = \"runwayml/stable-diffusion-v1-5\"\n",
    "checkpoint_path = \"/mnt/scratch-lids/scratch/qixuanj/cxr_finetune_sd_mimic_base/checkpoint-4500\""
   ]
  },
  {
   "cell_type": "code",
   "execution_count": 7,
   "id": "a2fa72f3-580e-4155-8336-50d366b29374",
   "metadata": {},
   "outputs": [
    {
     "name": "stdout",
     "output_type": "stream",
     "text": [
      "Submitted batch job 275071\n"
     ]
    },
    {
     "data": {
      "text/plain": [
       "0"
      ]
     },
     "execution_count": 7,
     "metadata": {},
     "output_type": "execute_result"
    }
   ],
   "source": [
    "# Missing ones \n",
    "dataset = \"chexpert\"\n",
    "dataset_name = f\"/data/healthy-ml/scratch/qixuanj/generative_validation/sd_chestxray_loading_transfer_balanced.py\"\n",
    "\n",
    "program = f'''\n",
    "sbatch scripts/run_cxr_diffusion.sh {model_path} {checkpoint_path} {dataset} 50 {dataset_name} \"balanced\"\n",
    "'''\n",
    "subprocess.call(program, shell=True, executable='/bin/bash',)\n",
    "\n",
    "# program = f'''\n",
    "# sbatch scripts/run_cxr_diffusion.sh {model_path} {checkpoint_path} {dataset} 10 {dataset_name} \"balanced\"\n",
    "# '''\n",
    "# subprocess.call(program, shell=True, executable='/bin/bash',)\n",
    "\n",
    "# program = f'''\n",
    "# sbatch scripts/run_cxr_diffusion.sh {model_path} {checkpoint_path} {dataset} 100 {dataset_name} \"balanced\"\n",
    "# '''\n",
    "# subprocess.call(program, shell=True, executable='/bin/bash',)\n",
    "\n",
    "# program = f'''\n",
    "# sbatch scripts/run_cxr_diffusion.sh {model_path} {checkpoint_path} {dataset} 500 {dataset_name} \"balanced\"\n",
    "# '''\n",
    "# subprocess.call(program, shell=True, executable='/bin/bash',)"
   ]
  },
  {
   "cell_type": "code",
   "execution_count": 5,
   "id": "ff256dfe-84a9-4203-9eb3-2023a4f83f27",
   "metadata": {},
   "outputs": [
    {
     "name": "stdout",
     "output_type": "stream",
     "text": [
      "Submitted batch job 275020\n"
     ]
    },
    {
     "data": {
      "text/plain": [
       "0"
      ]
     },
     "execution_count": 5,
     "metadata": {},
     "output_type": "execute_result"
    }
   ],
   "source": [
    "dataset = \"chexpert\"\n",
    "dataset_name = f\"/data/healthy-ml/scratch/qixuanj/generative_validation/sd_chestxray_loading_transfer_match.py\"\n",
    "\n",
    "program = f'''\n",
    "sbatch scripts/run_cxr_diffusion.sh {model_path} {checkpoint_path} {dataset} 500 {dataset_name} \"match\"\n",
    "'''\n",
    "subprocess.call(program, shell=True, executable='/bin/bash',)"
   ]
  },
  {
   "cell_type": "markdown",
   "id": "408cc6c5",
   "metadata": {},
   "source": [
    "# CXR Classifier"
   ]
  },
  {
   "cell_type": "code",
   "execution_count": 16,
   "id": "3e82828c-5041-4bc5-af4f-f241e3b01239",
   "metadata": {},
   "outputs": [
    {
     "name": "stdout",
     "output_type": "stream",
     "text": [
      "Submitted batch job 277507\n",
      "Submitted batch job 277508\n",
      "Submitted batch job 277509\n",
      "Submitted batch job 277510\n",
      "Submitted batch job 277511\n",
      "Submitted batch job 277512\n",
      "Submitted batch job 277513\n",
      "Submitted batch job 277514\n",
      "Submitted batch job 277515\n"
     ]
    }
   ],
   "source": [
    "# For seed 0, don't need to rerun the source training \n",
    "seed = 0 \n",
    "transfer_datasets = [\"chexpert\", \"padchest\", \"nih\"]\n",
    "\n",
    "for dataset in transfer_datasets: \n",
    "    program = f'''\n",
    "    sbatch scripts/run_cxr_base.sh {seed} {dataset}\n",
    "    sbatch scripts/run_cxr_cutmix.sh {seed} {dataset}\n",
    "    sbatch scripts/run_cxr_mixup.sh {seed} {dataset}\n",
    "    '''\n",
    "    subprocess.call(program, shell=True, executable='/bin/bash',)\n",
    "    time.sleep(0.5)"
   ]
  },
  {
   "cell_type": "code",
   "execution_count": 17,
   "id": "455155b5-d0c5-43d7-93a3-294ce4423b12",
   "metadata": {
    "scrolled": true
   },
   "outputs": [
    {
     "name": "stdout",
     "output_type": "stream",
     "text": [
      "Submitted batch job 277516\n",
      "Submitted batch job 277517\n",
      "Submitted batch job 277518\n",
      "Submitted batch job 277519\n",
      "Submitted batch job 277520\n",
      "Submitted batch job 277521\n",
      "Submitted batch job 277523\n",
      "Submitted batch job 277524\n",
      "Submitted batch job 277525\n",
      "Submitted batch job 277526\n",
      "Submitted batch job 277527\n",
      "Submitted batch job 277528\n",
      "Submitted batch job 277529\n",
      "Submitted batch job 277530\n",
      "Submitted batch job 277531\n",
      "Submitted batch job 277532\n",
      "Submitted batch job 277533\n",
      "Submitted batch job 277534\n"
     ]
    }
   ],
   "source": [
    "seeds = [1, 2] \n",
    "transfer_datasets = [\"chexpert\", \"padchest\", \"nih\"]\n",
    "for seed in seeds: \n",
    "    for dataset in transfer_datasets: \n",
    "        program = f'''\n",
    "        sbatch scripts/run_cxr_base.sh {seed} {dataset}\n",
    "        sbatch scripts/run_cxr_cutmix.sh {seed} {dataset}\n",
    "        sbatch scripts/run_cxr_mixup.sh {seed} {dataset}\n",
    "        '''\n",
    "        subprocess.call(program, shell=True, executable='/bin/bash',)\n",
    "        time.sleep(0.5)"
   ]
  },
  {
   "cell_type": "code",
   "execution_count": null,
   "id": "1c7e6dcf-39f9-4b0f-a370-b6f30d2b038e",
   "metadata": {},
   "outputs": [],
   "source": [
    "# For other seeds, run with source \n",
    "seeds = [3, 4] \n",
    "transfer_datasets = [\"chexpert\", \"padchest\", \"nih\"]\n",
    "for seed in seeds: \n",
    "    for dataset in transfer_datasets: \n",
    "        program = f'''\n",
    "        sbatch scripts/run_cxr_base.sh {seed} {dataset}\n",
    "        sbatch scripts/run_cxr_cutmix.sh {seed} {dataset}\n",
    "        sbatch scripts/run_cxr_mixup.sh {seed} {dataset}\n",
    "        '''\n",
    "        subprocess.call(program, shell=True, executable='/bin/bash',)\n",
    "        time.sleep(0.5)"
   ]
  },
  {
   "cell_type": "markdown",
   "id": "3ecce132-c213-4000-b8eb-0c2995b09be9",
   "metadata": {
    "jp-MarkdownHeadingCollapsed": true
   },
   "source": [
    "# Waterbirds"
   ]
  },
  {
   "cell_type": "code",
   "execution_count": 10,
   "id": "6ab1f2c0",
   "metadata": {},
   "outputs": [
    {
     "name": "stdout",
     "output_type": "stream",
     "text": [
      "Submitted batch job 275755\n",
      "Submitted batch job 275756\n",
      "Submitted batch job 275757\n"
     ]
    }
   ],
   "source": [
    "models = [\"base\", \"cutmix\", \"mixup\"]\n",
    "seeds = [0, 1, 2, 3, 4]\n",
    "for model in models: \n",
    "    for seed in seeds: \n",
    "        program = f'''\n",
    "        sbatch scripts/run_waterbirds.sh {seed} {model}\n",
    "        '''\n",
    "        subprocess.call(program, shell=True, executable='/bin/bash',)\n",
    "        time.sleep(0.5)"
   ]
  },
  {
   "cell_type": "code",
   "execution_count": 12,
   "id": "45905733-d85c-4a17-8f41-cbc0d00ebd52",
   "metadata": {},
   "outputs": [
    {
     "name": "stdout",
     "output_type": "stream",
     "text": [
      "Submitted batch job 276076\n",
      "Submitted batch job 276077\n",
      "Submitted batch job 276078\n"
     ]
    }
   ],
   "source": [
    "models = [\"base\", \"cutmix\", \"mixup\"]\n",
    "for model in models: \n",
    "    program = f'''\n",
    "    sbatch scripts/run_waterbirds.sh {model}\n",
    "    '''\n",
    "    subprocess.call(program, shell=True, executable='/bin/bash',)\n",
    "    time.sleep(0.5)"
   ]
  },
  {
   "cell_type": "code",
   "execution_count": null,
   "id": "bb61c6cb-e572-43d1-8707-5d51866efcee",
   "metadata": {},
   "outputs": [],
   "source": []
  }
 ],
 "metadata": {
  "kernelspec": {
   "display_name": "control",
   "language": "python",
   "name": "control"
  },
  "language_info": {
   "codemirror_mode": {
    "name": "ipython",
    "version": 3
   },
   "file_extension": ".py",
   "mimetype": "text/x-python",
   "name": "python",
   "nbconvert_exporter": "python",
   "pygments_lexer": "ipython3",
   "version": "3.8.5"
  }
 },
 "nbformat": 4,
 "nbformat_minor": 5
}
