{
 "cells": [
  {
   "cell_type": "code",
   "execution_count": 2,
   "id": "58b6b0ce",
   "metadata": {},
   "outputs": [],
   "source": [
    "import subprocess\n",
    "import os\n",
    "from glob import glob\n",
    "import time"
   ]
  },
  {
   "cell_type": "markdown",
   "id": "b7a774de-86f5-4d9b-948d-161582b3f543",
   "metadata": {
    "jp-MarkdownHeadingCollapsed": true
   },
   "source": [
    "# CXR Diffusion Transfer"
   ]
  },
  {
   "cell_type": "code",
   "execution_count": 13,
   "id": "0e8e39b7-09d8-4d6f-b952-e5a08e1987b8",
   "metadata": {},
   "outputs": [
    {
     "name": "stdout",
     "output_type": "stream",
     "text": [
      "Submitted batch job 283841\n"
     ]
    }
   ],
   "source": [
    "train_nums = [100]\n",
    "dataset = \"padchest\"\n",
    "config = \"match\"\n",
    "model_path = \"runwayml/stable-diffusion-v1-5\"\n",
    "checkpoint_path = \"/mnt/scratch-lids/scratch/qixuanj/cxr_finetune_sd_mimic_base/checkpoint-4500\"\n",
    "dataset_name = f\"/data/healthy-ml/scratch/qixuanj/generative_validation/sd_chestxray_loading_transfer_{config}.py\"\n",
    "\n",
    "for trainnum in train_nums:\n",
    "    program = f'''\n",
    "    sbatch scripts/run_cxr_diffusion.sh {model_path} {checkpoint_path} {dataset} {trainnum} {dataset_name} {config}\n",
    "    '''\n",
    "    subprocess.call(program, shell=True, executable='/bin/bash',)"
   ]
  },
  {
   "cell_type": "code",
   "execution_count": 10,
   "id": "0727c9ec-a5e3-4a39-8039-d99e2ce0b4db",
   "metadata": {},
   "outputs": [
    {
     "name": "stdout",
     "output_type": "stream",
     "text": [
      "Submitted batch job 274840\n"
     ]
    }
   ],
   "source": [
    "train_nums = [1000]\n",
    "dataset = \"nih\"\n",
    "config = \"balanced\"\n",
    "model_path = \"runwayml/stable-diffusion-v1-5\"\n",
    "checkpoint_path = \"/mnt/scratch-lids/scratch/qixuanj/cxr_finetune_sd_mimic_base/checkpoint-4500\"\n",
    "dataset_name = f\"/data/healthy-ml/scratch/qixuanj/generative_validation/sd_chestxray_loading_transfer_{config}.py\"\n",
    "\n",
    "for trainnum in train_nums:\n",
    "    program = f'''\n",
    "    sbatch scripts/run_cxr_diffusion.sh {model_path} {checkpoint_path} {dataset} {trainnum} {dataset_name} {config}\n",
    "    '''\n",
    "    subprocess.call(program, shell=True, executable='/bin/bash',)"
   ]
  },
  {
   "cell_type": "code",
   "execution_count": 2,
   "id": "31ad5b4e-1294-44df-bb4c-787ec5bacc9d",
   "metadata": {},
   "outputs": [],
   "source": [
    "model_path = \"runwayml/stable-diffusion-v1-5\"\n",
    "checkpoint_path = \"/mnt/scratch-lids/scratch/qixuanj/cxr_finetune_sd_mimic_base/checkpoint-4500\""
   ]
  },
  {
   "cell_type": "code",
   "execution_count": 7,
   "id": "a2fa72f3-580e-4155-8336-50d366b29374",
   "metadata": {},
   "outputs": [
    {
     "name": "stdout",
     "output_type": "stream",
     "text": [
      "Submitted batch job 275071\n"
     ]
    },
    {
     "data": {
      "text/plain": [
       "0"
      ]
     },
     "execution_count": 7,
     "metadata": {},
     "output_type": "execute_result"
    }
   ],
   "source": [
    "# Missing ones \n",
    "dataset = \"chexpert\"\n",
    "dataset_name = f\"/data/healthy-ml/scratch/qixuanj/generative_validation/sd_chestxray_loading_transfer_balanced.py\"\n",
    "\n",
    "program = f'''\n",
    "sbatch scripts/run_cxr_diffusion.sh {model_path} {checkpoint_path} {dataset} 50 {dataset_name} \"balanced\"\n",
    "'''\n",
    "subprocess.call(program, shell=True, executable='/bin/bash',)\n",
    "\n",
    "# program = f'''\n",
    "# sbatch scripts/run_cxr_diffusion.sh {model_path} {checkpoint_path} {dataset} 10 {dataset_name} \"balanced\"\n",
    "# '''\n",
    "# subprocess.call(program, shell=True, executable='/bin/bash',)\n",
    "\n",
    "# program = f'''\n",
    "# sbatch scripts/run_cxr_diffusion.sh {model_path} {checkpoint_path} {dataset} 100 {dataset_name} \"balanced\"\n",
    "# '''\n",
    "# subprocess.call(program, shell=True, executable='/bin/bash',)\n",
    "\n",
    "# program = f'''\n",
    "# sbatch scripts/run_cxr_diffusion.sh {model_path} {checkpoint_path} {dataset} 500 {dataset_name} \"balanced\"\n",
    "# '''\n",
    "# subprocess.call(program, shell=True, executable='/bin/bash',)"
   ]
  },
  {
   "cell_type": "code",
   "execution_count": 5,
   "id": "ff256dfe-84a9-4203-9eb3-2023a4f83f27",
   "metadata": {},
   "outputs": [
    {
     "name": "stdout",
     "output_type": "stream",
     "text": [
      "Submitted batch job 275020\n"
     ]
    },
    {
     "data": {
      "text/plain": [
       "0"
      ]
     },
     "execution_count": 5,
     "metadata": {},
     "output_type": "execute_result"
    }
   ],
   "source": [
    "dataset = \"chexpert\"\n",
    "dataset_name = f\"/data/healthy-ml/scratch/qixuanj/generative_validation/sd_chestxray_loading_transfer_match.py\"\n",
    "\n",
    "program = f'''\n",
    "sbatch scripts/run_cxr_diffusion.sh {model_path} {checkpoint_path} {dataset} 500 {dataset_name} \"match\"\n",
    "'''\n",
    "subprocess.call(program, shell=True, executable='/bin/bash',)"
   ]
  },
  {
   "cell_type": "markdown",
   "id": "63b81833-167a-4bce-9ba6-bb66577a0235",
   "metadata": {
    "jp-MarkdownHeadingCollapsed": true
   },
   "source": [
    "# CXR Dreambooth"
   ]
  },
  {
   "cell_type": "code",
   "execution_count": 15,
   "id": "66cf701d-5ec7-457d-96fe-8b0afd397553",
   "metadata": {},
   "outputs": [
    {
     "name": "stdout",
     "output_type": "stream",
     "text": [
      "Submitted batch job 283888\n"
     ]
    }
   ],
   "source": [
    "best_checkpoints = {\"chexpert\": 400, \"nih\": 200, \"padchest\": 600}\n",
    "datasets = [\"padchest\"] \n",
    "for dataset in datasets: \n",
    "    program = f'''\n",
    "    sbatch scripts/run_dreambooth_cxr.sh {dataset} {best_checkpoints[dataset]}\n",
    "    '''\n",
    "    subprocess.call(program, shell=True, executable='/bin/bash',)"
   ]
  },
  {
   "cell_type": "markdown",
   "id": "408cc6c5",
   "metadata": {
    "jp-MarkdownHeadingCollapsed": true
   },
   "source": [
    "# CXR Classifier"
   ]
  },
  {
   "cell_type": "code",
   "execution_count": 16,
   "id": "3e82828c-5041-4bc5-af4f-f241e3b01239",
   "metadata": {},
   "outputs": [
    {
     "name": "stdout",
     "output_type": "stream",
     "text": [
      "Submitted batch job 277507\n",
      "Submitted batch job 277508\n",
      "Submitted batch job 277509\n",
      "Submitted batch job 277510\n",
      "Submitted batch job 277511\n",
      "Submitted batch job 277512\n",
      "Submitted batch job 277513\n",
      "Submitted batch job 277514\n",
      "Submitted batch job 277515\n"
     ]
    }
   ],
   "source": [
    "# For seed 0, don't need to rerun the source training \n",
    "seed = 0 \n",
    "transfer_datasets = [\"chexpert\", \"padchest\", \"nih\"]\n",
    "\n",
    "for dataset in transfer_datasets: \n",
    "    program = f'''\n",
    "    sbatch scripts/run_cxr_base.sh {seed} {dataset}\n",
    "    sbatch scripts/run_cxr_cutmix.sh {seed} {dataset}\n",
    "    sbatch scripts/run_cxr_mixup.sh {seed} {dataset}\n",
    "    '''\n",
    "    subprocess.call(program, shell=True, executable='/bin/bash',)\n",
    "    time.sleep(0.5)"
   ]
  },
  {
   "cell_type": "code",
   "execution_count": 17,
   "id": "455155b5-d0c5-43d7-93a3-294ce4423b12",
   "metadata": {
    "scrolled": true
   },
   "outputs": [
    {
     "name": "stdout",
     "output_type": "stream",
     "text": [
      "Submitted batch job 277516\n",
      "Submitted batch job 277517\n",
      "Submitted batch job 277518\n",
      "Submitted batch job 277519\n",
      "Submitted batch job 277520\n",
      "Submitted batch job 277521\n",
      "Submitted batch job 277523\n",
      "Submitted batch job 277524\n",
      "Submitted batch job 277525\n",
      "Submitted batch job 277526\n",
      "Submitted batch job 277527\n",
      "Submitted batch job 277528\n",
      "Submitted batch job 277529\n",
      "Submitted batch job 277530\n",
      "Submitted batch job 277531\n",
      "Submitted batch job 277532\n",
      "Submitted batch job 277533\n",
      "Submitted batch job 277534\n"
     ]
    }
   ],
   "source": [
    "seeds = [1, 2] \n",
    "transfer_datasets = [\"chexpert\", \"padchest\", \"nih\"]\n",
    "for seed in seeds: \n",
    "    for dataset in transfer_datasets: \n",
    "        program = f'''\n",
    "        sbatch scripts/run_cxr_base.sh {seed} {dataset}\n",
    "        sbatch scripts/run_cxr_cutmix.sh {seed} {dataset}\n",
    "        sbatch scripts/run_cxr_mixup.sh {seed} {dataset}\n",
    "        '''\n",
    "        subprocess.call(program, shell=True, executable='/bin/bash',)\n",
    "        time.sleep(0.5)"
   ]
  },
  {
   "cell_type": "code",
   "execution_count": 5,
   "id": "1c7e6dcf-39f9-4b0f-a370-b6f30d2b038e",
   "metadata": {},
   "outputs": [
    {
     "name": "stdout",
     "output_type": "stream",
     "text": [
      "Submitted batch job 286251\n",
      "Submitted batch job 286252\n",
      "Submitted batch job 286253\n",
      "Submitted batch job 286254\n",
      "Submitted batch job 286255\n",
      "Submitted batch job 286256\n",
      "Submitted batch job 286257\n",
      "Submitted batch job 286258\n",
      "Submitted batch job 286259\n"
     ]
    }
   ],
   "source": [
    "# For other seeds, run with source \n",
    "seeds = [3] \n",
    "transfer_datasets = [\"chexpert\", \"padchest\", \"nih\"]\n",
    "for seed in seeds: \n",
    "    for dataset in transfer_datasets: \n",
    "        program = f'''\n",
    "        sbatch scripts/run_cxr_base.sh {seed} {dataset}\n",
    "        sbatch scripts/run_cxr_cutmix.sh {seed} {dataset}\n",
    "        sbatch scripts/run_cxr_mixup.sh {seed} {dataset}\n",
    "        '''\n",
    "        subprocess.call(program, shell=True, executable='/bin/bash',)\n",
    "        time.sleep(0.5)"
   ]
  },
  {
   "cell_type": "code",
   "execution_count": 17,
   "id": "b1bda189-2594-4ceb-9e87-a9f4ffce2cb0",
   "metadata": {},
   "outputs": [
    {
     "name": "stdout",
     "output_type": "stream",
     "text": [
      "Submitted batch job 296534\n",
      "Submitted batch job 296535\n",
      "Submitted batch job 296536\n",
      "Submitted batch job 296537\n",
      "Submitted batch job 296538\n",
      "Submitted batch job 296539\n"
     ]
    }
   ],
   "source": [
    "seeds = [0, 1, ] \n",
    "transfer_datasets = [\"chexpert\", \"padchest\", \"nih\"]\n",
    "for seed in seeds: \n",
    "    for dataset in transfer_datasets: \n",
    "        program = f'''\n",
    "        sbatch scripts/run_cxr_diffusion.sh {seed} {dataset}\n",
    "        '''\n",
    "        subprocess.call(program, shell=True, executable='/bin/bash',)\n",
    "        time.sleep(0.5)"
   ]
  },
  {
   "cell_type": "code",
   "execution_count": 24,
   "id": "4e6fa892-6d0b-4902-b689-77fd3142b1b6",
   "metadata": {},
   "outputs": [
    {
     "name": "stdout",
     "output_type": "stream",
     "text": [
      "Submitted batch job 298118\n",
      "Submitted batch job 298119\n",
      "Submitted batch job 298120\n",
      "Submitted batch job 298121\n",
      "Submitted batch job 298122\n",
      "Submitted batch job 298123\n"
     ]
    }
   ],
   "source": [
    "seeds = [3, 4] \n",
    "for seed in seeds: \n",
    "    program = f'''\n",
    "    sbatch scripts/run_cxr_base.sh {seed} \n",
    "    sbatch scripts/run_cxr_cutmix.sh {seed}\n",
    "    sbatch scripts/run_cxr_mixup.sh {seed}\n",
    "    '''\n",
    "    subprocess.call(program, shell=True, executable='/bin/bash',)\n",
    "    time.sleep(0.5)"
   ]
  },
  {
   "cell_type": "markdown",
   "id": "9e8a70e2-d213-4e5e-910b-e71da16fe520",
   "metadata": {
    "jp-MarkdownHeadingCollapsed": true
   },
   "source": [
    "# CXR Generate images"
   ]
  },
  {
   "cell_type": "code",
   "execution_count": 30,
   "id": "dd6c9e85-42a2-4eaa-b383-dae18c7e2b49",
   "metadata": {},
   "outputs": [
    {
     "name": "stdout",
     "output_type": "stream",
     "text": [
      "Submitted batch job 284790\n",
      "Submitted batch job 284791\n",
      "Submitted batch job 284792\n",
      "Submitted batch job 284793\n",
      "Submitted batch job 284794\n",
      "Submitted batch job 284795\n"
     ]
    }
   ],
   "source": [
    "# Inpainting \n",
    "checkpoints = {\"chexpert\": \"/mnt/scratch-lids/scratch/qixuanj/dreambooth/cxr_transfer_sd_mimic_chexpert_1000_match_checkpoint-400/chexpert/checkpoint-1000\", \n",
    "               \"nih\": \"/mnt/scratch-lids/scratch/qixuanj/dreambooth/cxr_transfer_sd_mimic_nih_1000_match_checkpoint-400/nih/checkpoint-1000\", \n",
    "               \"padchest\": \"/mnt/scratch-lids/scratch/qixuanj/dreambooth/cxr_transfer_sd_mimic_padchest_1000_match_checkpoint-600/padchest/checkpoint-200\"\n",
    "              } \n",
    "indices = [(0, 1000), \n",
    "           (1000, 2000), \n",
    "           # (4000, 5000), \n",
    "           # (6000, 8000), \n",
    "           # (8000, 10000)\n",
    "          ]\n",
    "\n",
    "for target, model_path in checkpoints.items(): \n",
    "    for entry in indices:\n",
    "        program = f'''\n",
    "        sbatch scripts/run_cxr_image_generation.sh {entry[0]} {entry[1]} {model_path} {target} \"inpainting\"\n",
    "        '''\n",
    "        subprocess.call(program, shell=True, executable='/bin/bash',)\n",
    "        time.sleep(0.5)"
   ]
  },
  {
   "cell_type": "code",
   "execution_count": null,
   "id": "bc31d0e1-a235-4a29-9abb-582ae3a3a11c",
   "metadata": {},
   "outputs": [],
   "source": [
    "# Img2Img -> debug first \n",
    "checkpoints = {\"chexpert\": \"/mnt/scratch-lids/scratch/qixuanj/dreambooth/cxr_transfer_sd_mimic_chexpert_1000_match_checkpoint-400/chexpert/checkpoint-1000\", \n",
    "               \"nih\": \"/mnt/scratch-lids/scratch/qixuanj/dreambooth/cxr_transfer_sd_mimic_chexpert_1000_match_checkpoint-400/chexpert/checkpoint-1000\", \n",
    "               \"padchest\": \"/mnt/scratch-lids/scratch/qixuanj/dreambooth/cxr_transfer_sd_mimic_padchest_1000_match_checkpoint-600/padchest/checkpoint-200\"\n",
    "              } \n",
    "indices = [(0, 2000), \n",
    "           (2000, 4000), \n",
    "           (4000, 5000), \n",
    "           # (6000, 8000), \n",
    "           # (8000, 10000)\n",
    "          ]\n",
    "\n",
    "for target, model_path in checkpoints.items(): \n",
    "    for entry in indices:\n",
    "        program = f'''\n",
    "        sbatch scripts/run_cxr_image_generation.sh {entry[0]} {entry[1]} {model_path} {target} \"img2img\"\n",
    "        '''\n",
    "        subprocess.call(program, shell=True, executable='/bin/bash',)\n",
    "        time.sleep(0.5)"
   ]
  },
  {
   "cell_type": "markdown",
   "id": "3ecce132-c213-4000-b8eb-0c2995b09be9",
   "metadata": {
    "jp-MarkdownHeadingCollapsed": true
   },
   "source": [
    "# Waterbirds"
   ]
  },
  {
   "cell_type": "code",
   "execution_count": 10,
   "id": "6ab1f2c0",
   "metadata": {},
   "outputs": [
    {
     "name": "stdout",
     "output_type": "stream",
     "text": [
      "Submitted batch job 275755\n",
      "Submitted batch job 275756\n",
      "Submitted batch job 275757\n"
     ]
    }
   ],
   "source": [
    "models = [\"base\", \"cutmix\", \"mixup\"]\n",
    "seeds = [0, 1, 2, 3, 4]\n",
    "for model in models: \n",
    "    for seed in seeds: \n",
    "        program = f'''\n",
    "        sbatch scripts/run_waterbirds.sh {seed} {model}\n",
    "        '''\n",
    "        subprocess.call(program, shell=True, executable='/bin/bash',)\n",
    "        time.sleep(0.5)"
   ]
  },
  {
   "cell_type": "code",
   "execution_count": 12,
   "id": "45905733-d85c-4a17-8f41-cbc0d00ebd52",
   "metadata": {},
   "outputs": [
    {
     "name": "stdout",
     "output_type": "stream",
     "text": [
      "Submitted batch job 276076\n",
      "Submitted batch job 276077\n",
      "Submitted batch job 276078\n"
     ]
    }
   ],
   "source": [
    "models = [\"base\", \"cutmix\", \"mixup\"]\n",
    "for model in models: \n",
    "    program = f'''\n",
    "    sbatch scripts/run_waterbirds.sh {model}\n",
    "    '''\n",
    "    subprocess.call(program, shell=True, executable='/bin/bash',)\n",
    "    time.sleep(0.5)"
   ]
  },
  {
   "cell_type": "code",
   "execution_count": 32,
   "id": "b8238e21-609b-4428-b2ee-bbb99e075f07",
   "metadata": {},
   "outputs": [
    {
     "name": "stdout",
     "output_type": "stream",
     "text": [
      "Submitted batch job 299993\n",
      "Submitted batch job 299994\n",
      "Submitted batch job 299995\n",
      "Submitted batch job 299996\n",
      "Submitted batch job 299997\n"
     ]
    }
   ],
   "source": [
    "seeds = [1, 2, 3, 4, 5]\n",
    "\n",
    "for seed in seeds: \n",
    "    program = f'''\n",
    "    sbatch scripts/run_waterbirds.sh {seed}\n",
    "    '''\n",
    "    subprocess.call(program, shell=True, executable='/bin/bash',)\n",
    "    time.sleep(0.5)"
   ]
  },
  {
   "cell_type": "code",
   "execution_count": 37,
   "id": "1f984028-ddbc-42c6-a5d8-094e0c27a46d",
   "metadata": {},
   "outputs": [
    {
     "name": "stdout",
     "output_type": "stream",
     "text": [
      "Submitted batch job 305641\n"
     ]
    }
   ],
   "source": [
    "# Ablations \n",
    "seed = 0\n",
    "# ablation_nums = [10, 25, 50] \n",
    "# ablation_nums = [5]\n",
    "# ablation_nums = [100]\n",
    "for ablation_num in ablation_nums: \n",
    "    program = f'''\n",
    "    sbatch scripts/run_waterbirds.sh {seed} {ablation_num}\n",
    "    '''\n",
    "    subprocess.call(program, shell=True, executable='/bin/bash',)\n",
    "    time.sleep(0.5)"
   ]
  },
  {
   "cell_type": "code",
   "execution_count": 35,
   "id": "197af5a6-44a1-4376-96cc-543a738f43a3",
   "metadata": {},
   "outputs": [
    {
     "name": "stdout",
     "output_type": "stream",
     "text": [
      "Submitted batch job 305321\n",
      "Submitted batch job 305322\n"
     ]
    }
   ],
   "source": [
    "seed = 0\n",
    "ablation_nums = [1000, 2500] \n",
    "for ablation_num in ablation_nums: \n",
    "    program = f'''\n",
    "    sbatch scripts/run_waterbirds_diffusion.sh {seed} {ablation_num}\n",
    "    '''\n",
    "    subprocess.call(program, shell=True, executable='/bin/bash',)\n",
    "    time.sleep(0.5)"
   ]
  },
  {
   "cell_type": "markdown",
   "id": "06d25875-1305-4570-ad9c-23d24f549f7f",
   "metadata": {
    "jp-MarkdownHeadingCollapsed": true
   },
   "source": [
    "# iWildCam"
   ]
  },
  {
   "cell_type": "code",
   "execution_count": 33,
   "id": "bb61c6cb-e572-43d1-8707-5d51866efcee",
   "metadata": {
    "scrolled": true
   },
   "outputs": [
    {
     "name": "stdout",
     "output_type": "stream",
     "text": [
      "Submitted batch job 285496\n",
      "Submitted batch job 285497\n",
      "Submitted batch job 285498\n",
      "Submitted batch job 285499\n",
      "Submitted batch job 285500\n",
      "Submitted batch job 285501\n",
      "Submitted batch job 285502\n",
      "Submitted batch job 285503\n",
      "Submitted batch job 285504\n",
      "Submitted batch job 285505\n",
      "Submitted batch job 285506\n",
      "Submitted batch job 285507\n",
      "Submitted batch job 285508\n",
      "Submitted batch job 285509\n",
      "Submitted batch job 285510\n",
      "Submitted batch job 285511\n",
      "Submitted batch job 285512\n",
      "Submitted batch job 285513\n",
      "Submitted batch job 285514\n",
      "Submitted batch job 285515\n",
      "Submitted batch job 285516\n",
      "Submitted batch job 285517\n",
      "Submitted batch job 285518\n",
      "Submitted batch job 285519\n",
      "Submitted batch job 285520\n",
      "Submitted batch job 285521\n",
      "Submitted batch job 285522\n",
      "Submitted batch job 285523\n",
      "Submitted batch job 285524\n",
      "Submitted batch job 285525\n",
      "Submitted batch job 285526\n",
      "Submitted batch job 285527\n",
      "Submitted batch job 285528\n",
      "Submitted batch job 285529\n",
      "Submitted batch job 285530\n",
      "Submitted batch job 285531\n"
     ]
    }
   ],
   "source": [
    "shifts = [ \n",
    "          'grayscale_day-to-night', \n",
    "          'grayscale_night-to-day', \n",
    "          'color-to-grayscale', \n",
    "          'grayscale-to-color'\n",
    "         ]\n",
    "methods = [\"cutmix\", \"mixup\", \"base\"] \n",
    "seeds = [1, 2, 3] \n",
    "for method in methods: \n",
    "    for seed in seeds: \n",
    "        for shift in shifts: \n",
    "            if method == \"base\": \n",
    "                program = f'''\n",
    "                sbatch scripts/run_iwildcam_base.sh {seed} \"base\" {shift}\n",
    "                '''\n",
    "            elif method == \"cutmix\": \n",
    "                program = f'''\n",
    "                sbatch scripts/run_iwildcam_cutmix.sh {seed} \"cutmix\" {shift}\n",
    "                '''\n",
    "            elif method == \"mixup\": \n",
    "                program = f'''\n",
    "                sbatch scripts/run_iwildcam_mixup.sh {seed} \"mixup\" {shift}\n",
    "                '''\n",
    "            subprocess.call(program, shell=True, executable='/bin/bash',)\n",
    "            time.sleep(0.2)"
   ]
  },
  {
   "cell_type": "code",
   "execution_count": 6,
   "id": "f3fdc919-6a13-45af-8eaa-10c5364997ec",
   "metadata": {},
   "outputs": [
    {
     "name": "stdout",
     "output_type": "stream",
     "text": [
      "Submitted batch job 291653\n",
      "Submitted batch job 291654\n",
      "Submitted batch job 291655\n",
      "Submitted batch job 291656\n",
      "Submitted batch job 291657\n",
      "Submitted batch job 291658\n",
      "Submitted batch job 291659\n",
      "Submitted batch job 291660\n"
     ]
    }
   ],
   "source": [
    "shifts = [ \n",
    "          'grayscale_day-to-night', \n",
    "          'grayscale_night-to-day', \n",
    "          'color-to-grayscale', \n",
    "          'grayscale-to-color'\n",
    "         ]\n",
    "methods = [\"base\"] \n",
    "# Dummy -> run in series\n",
    "seeds = [0] \n",
    "versions = [\"v3\", \"v4\"]\n",
    "\n",
    "for version in versions:\n",
    "    for method in methods: \n",
    "        for seed in seeds: \n",
    "            for shift in shifts: \n",
    "                if method == \"base\": \n",
    "                    program = f'''\n",
    "                    sbatch scripts/run_iwildcam_base.sh {seed} \"base\" {shift} {version}\n",
    "                    '''\n",
    "                elif method == \"cutmix\": \n",
    "                    program = f'''\n",
    "                    sbatch scripts/run_iwildcam_cutmix.sh {seed} \"cutmix\" {shift} {version}\n",
    "                    '''\n",
    "                elif method == \"mixup\": \n",
    "                    program = f'''\n",
    "                    sbatch scripts/run_iwildcam_mixup.sh {seed} \"mixup\" {shift} {version}\n",
    "                    '''\n",
    "                subprocess.call(program, shell=True, executable='/bin/bash',)\n",
    "                time.sleep(0.2)"
   ]
  },
  {
   "cell_type": "code",
   "execution_count": 16,
   "id": "e788c8a4-3f8a-4cb2-9db8-a6de56145d1d",
   "metadata": {},
   "outputs": [
    {
     "name": "stdout",
     "output_type": "stream",
     "text": [
      "Submitted batch job 296435\n",
      "Submitted batch job 296436\n"
     ]
    }
   ],
   "source": [
    "shifts = [\n",
    "          'color-to-grayscale', \n",
    "          # 'grayscale-to-color',\n",
    "          # 'grayscale_day-to-night', \n",
    "          'grayscale_night-to-day', \n",
    "         ]\n",
    "methods = [\"base\"] \n",
    "seeds = [4] \n",
    "for method in methods: \n",
    "    for seed in seeds: \n",
    "        for shift in shifts: \n",
    "            program = f'''\n",
    "            sbatch scripts/run_iwildcam_base.sh {seed} {method} {shift}\n",
    "            '''\n",
    "            subprocess.call(program, shell=True, executable='/bin/bash',)\n",
    "            time.sleep(0.2)"
   ]
  },
  {
   "cell_type": "code",
   "execution_count": 29,
   "id": "d411e870-0d4d-4ae5-8734-0d86153c068b",
   "metadata": {},
   "outputs": [
    {
     "name": "stdout",
     "output_type": "stream",
     "text": [
      "Submitted batch job 298584\n",
      "Submitted batch job 298585\n",
      "Submitted batch job 298586\n"
     ]
    }
   ],
   "source": [
    "shifts = [\n",
    "          # 'color-to-grayscale', \n",
    "          # 'grayscale-to-color',\n",
    "          'grayscale_day-to-night', \n",
    "          # 'grayscale_night-to-day', \n",
    "         ]\n",
    "methods = [\"diffusion\"] \n",
    "seeds = [0] \n",
    "settings = [\"no_branches_strength0.9_0_filter2\", \n",
    "            \"no_branches_strength0.9_1_filter2\",\n",
    "            \"mix_branches\", ]\n",
    "\n",
    "for setting in settings: \n",
    "    for method in methods: \n",
    "        for seed in seeds: \n",
    "            for shift in shifts: \n",
    "                program = f'''\n",
    "                sbatch scripts/run_iwildcam_diffusion.sh {seed} {method} {shift} {setting}\n",
    "                '''\n",
    "                subprocess.call(program, shell=True, executable='/bin/bash',)\n",
    "                time.sleep(0.2)"
   ]
  },
  {
   "cell_type": "code",
   "execution_count": 11,
   "id": "edfbe98d-13fd-487c-be0f-c23781b9437b",
   "metadata": {},
   "outputs": [
    {
     "name": "stdout",
     "output_type": "stream",
     "text": [
      "Submitted batch job 295234\n",
      "Submitted batch job 295235\n",
      "Submitted batch job 295236\n",
      "Submitted batch job 295237\n",
      "Submitted batch job 295238\n",
      "Submitted batch job 295239\n",
      "Submitted batch job 295240\n",
      "Submitted batch job 295241\n",
      "Submitted batch job 295242\n",
      "Submitted batch job 295243\n",
      "Submitted batch job 295244\n",
      "Submitted batch job 295245\n"
     ]
    }
   ],
   "source": [
    "shifts = [\n",
    "          'grayscale-to-color',\n",
    "          'grayscale_day-to-night', \n",
    "         ]\n",
    "methods = [\"diffusion\"] \n",
    "seeds = [0, 1, ] \n",
    "filters = [\n",
    "    \"filter2\",\n",
    "    \"filter2-500\", \n",
    "    \"filter3-500\", \n",
    "]\n",
    "for method in methods: \n",
    "    for seed in seeds: \n",
    "        for shift in shifts: \n",
    "            for filter in filters:\n",
    "                program = f'''\n",
    "                sbatch scripts/run_iwildcam_diffusion_filter.sh {seed} {method} {shift} {filter}\n",
    "                '''\n",
    "                subprocess.call(program, shell=True, executable='/bin/bash',)\n",
    "                time.sleep(0.2)"
   ]
  },
  {
   "cell_type": "markdown",
   "id": "334d9db5-0cc1-4105-8f9b-62e3ed9b3307",
   "metadata": {
    "jp-MarkdownHeadingCollapsed": true
   },
   "source": [
    "## iWildCam Dreambooth "
   ]
  },
  {
   "cell_type": "code",
   "execution_count": 32,
   "id": "1ed4d2af-cdab-4180-98d5-f746744fda87",
   "metadata": {
    "scrolled": true
   },
   "outputs": [
    {
     "name": "stdout",
     "output_type": "stream",
     "text": [
      "Submitted batch job 285198\n",
      "Submitted batch job 285199\n",
      "Submitted batch job 285200\n",
      "Submitted batch job 285201\n",
      "Submitted batch job 285202\n",
      "Submitted batch job 285203\n",
      "Submitted batch job 285204\n",
      "Submitted batch job 285205\n",
      "Submitted batch job 285206\n",
      "Submitted batch job 285207\n",
      "Submitted batch job 285208\n",
      "Submitted batch job 285209\n",
      "Submitted batch job 285210\n",
      "Submitted batch job 285211\n",
      "Submitted batch job 285212\n",
      "Submitted batch job 285213\n",
      "Submitted batch job 285214\n",
      "Submitted batch job 285215\n",
      "Submitted batch job 285216\n",
      "Submitted batch job 285217\n",
      "Submitted batch job 285218\n",
      "Submitted batch job 285219\n",
      "Submitted batch job 285220\n",
      "Submitted batch job 285221\n",
      "Submitted batch job 285222\n",
      "Submitted batch job 285223\n",
      "Submitted batch job 285224\n"
     ]
    }
   ],
   "source": [
    "data_dir = \"/mnt/scratch-lids/scratch/qixuanj/inversion_datasets/iwildcam\"\n",
    "shifts_checkpoints = {\n",
    "                      # 'color_day-to-night': 2000, \n",
    "                      'grayscale_day-to-night': 2500,\n",
    "                      # 'color-to-grayscale': 2500,\n",
    "                      # 'grayscale-to-color': 2000,\n",
    "                      # 'color_night-to-day': 500,\n",
    "                      'grayscale_night-to-day': 1500,  \n",
    "                     }\n",
    "for shift, checkpoint in shifts_checkpoints.items(): \n",
    "    tokens = [x.split(\"/\")[-1] for x in glob(data_dir + f\"/{shift}/*\")]\n",
    "    for token in tokens: \n",
    "        class_name = token.split(\"_\")[0]\n",
    "        domain = token.split(\"_\")[1]\n",
    "        program = f'''\n",
    "                sbatch scripts/run_dreambooth_iwildcam.sh {shift} {checkpoint} {class_name} {domain}\n",
    "                '''\n",
    "        subprocess.call(program, shell=True, executable='/bin/bash',)\n",
    "        time.sleep(0.2)"
   ]
  },
  {
   "cell_type": "code",
   "execution_count": 18,
   "id": "bc226b24-1509-4f12-9123-e9c693f4eb29",
   "metadata": {},
   "outputs": [
    {
     "name": "stdout",
     "output_type": "stream",
     "text": [
      "55\n"
     ]
    }
   ],
   "source": [
    "# Count number of runs \n",
    "data_dir = \"/mnt/scratch-lids/scratch/qixuanj/inversion_datasets/iwildcam\"\n",
    "shifts_checkpoints = {'color_day-to-night': 2000, \n",
    "                      # 'grayscale_day-to-night': 2500,\n",
    "                      'color-to-grayscale': 2500,\n",
    "                      'grayscale-to-color': 2000,\n",
    "                      'color_night-to-day': 500,\n",
    "                      # 'grayscale_night-to-day': 1500,  \n",
    "                     }\n",
    "tot_count = 0\n",
    "for shift, checkpoint in shifts_checkpoints.items(): \n",
    "    tokens = [x.split(\"/\")[-1] for x in glob(data_dir + f\"/{shift}/*\")]\n",
    "    for token in tokens: \n",
    "        class_name = token.split(\"_\")[0]\n",
    "        domain = token.split(\"_\")[1]\n",
    "        tot_count += 1\n",
    "print(tot_count)"
   ]
  },
  {
   "cell_type": "markdown",
   "id": "b8b0d4a7-5bcd-4424-8d67-5f17077500e4",
   "metadata": {
    "jp-MarkdownHeadingCollapsed": true
   },
   "source": [
    "# ISIC"
   ]
  },
  {
   "cell_type": "code",
   "execution_count": 38,
   "id": "77f419be-0d3e-44e6-8c07-634c48c57903",
   "metadata": {
    "scrolled": true
   },
   "outputs": [
    {
     "name": "stdout",
     "output_type": "stream",
     "text": [
      "Submitted batch job 305829\n",
      "Submitted batch job 305830\n",
      "Submitted batch job 305831\n",
      "Submitted batch job 305832\n",
      "Submitted batch job 305833\n",
      "Submitted batch job 305834\n"
     ]
    }
   ],
   "source": [
    "# Diffusion models \n",
    "\n",
    "# settings = ['strength0.5']\n",
    "settings = [\"text2img\", \"img2img_0.5\"]\n",
    "# dummy seed\n",
    "seeds = [2, 3, 4] \n",
    "for setting in settings: \n",
    "    for seed in seeds: \n",
    "        program = f'''\n",
    "                sbatch scripts/run_isic_diffusion.sh {seed} {setting} \n",
    "                '''\n",
    "        subprocess.call(program, shell=True, executable='/bin/bash',)\n",
    "        time.sleep(0.2)"
   ]
  },
  {
   "cell_type": "code",
   "execution_count": 31,
   "id": "f3fbdf61-1730-4886-8bc8-f48bef870c36",
   "metadata": {},
   "outputs": [
    {
     "name": "stdout",
     "output_type": "stream",
     "text": [
      "Submitted batch job 298774\n",
      "Submitted batch job 298775\n",
      "Submitted batch job 298776\n"
     ]
    }
   ],
   "source": [
    "seeds = [5, 6, 7] \n",
    "for seed in seeds: \n",
    "    program = f'''\n",
    "            sbatch scripts/run_isic.sh {seed} \n",
    "            '''\n",
    "    subprocess.call(program, shell=True, executable='/bin/bash',)\n",
    "    time.sleep(0.2)"
   ]
  },
  {
   "cell_type": "code",
   "execution_count": null,
   "id": "5d1c3f78-c7e8-4ee7-9907-d9f85df03b88",
   "metadata": {},
   "outputs": [],
   "source": []
  }
 ],
 "metadata": {
  "kernelspec": {
   "display_name": "control",
   "language": "python",
   "name": "control"
  },
  "language_info": {
   "codemirror_mode": {
    "name": "ipython",
    "version": 3
   },
   "file_extension": ".py",
   "mimetype": "text/x-python",
   "name": "python",
   "nbconvert_exporter": "python",
   "pygments_lexer": "ipython3",
   "version": "3.8.5"
  }
 },
 "nbformat": 4,
 "nbformat_minor": 5
}
